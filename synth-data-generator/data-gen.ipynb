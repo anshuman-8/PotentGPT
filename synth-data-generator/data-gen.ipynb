{
 "cells": [
  {
   "cell_type": "markdown",
   "metadata": {},
   "source": [
    "### [langchain Data Gen resource](https://python.langchain.com/docs/use_cases/data_generation)"
   ]
  },
  {
   "cell_type": "code",
   "execution_count": null,
   "metadata": {},
   "outputs": [],
   "source": [
    "from langchain.chat_models import ChatOpenAI\n",
    "from langchain.prompts import FewShotPromptTemplate, PromptTemplate\n",
    "from langchain.pydantic_v1 import BaseModel\n",
    "from langchain_experimental.tabular_synthetic_data.openai import (\n",
    "    OPENAI_TEMPLATE,\n",
    "    create_openai_data_generator,\n",
    ")\n",
    "from langchain_experimental.tabular_synthetic_data.prompts import (\n",
    "    SYNTHETIC_FEW_SHOT_PREFIX,\n",
    "    SYNTHETIC_FEW_SHOT_SUFFIX,\n",
    ")"
   ]
  },
  {
   "cell_type": "code",
   "execution_count": null,
   "metadata": {},
   "outputs": [],
   "source": [
    "class SanitationQuestions(BaseModel):\n",
    "    keyword: str\n",
    "    question: str"
   ]
  },
  {
   "cell_type": "code",
   "execution_count": null,
   "metadata": {},
   "outputs": [],
   "source": [
    "{\"messages\":[{\"role\":\"system\",\"content\":\"what are the top 5 one word keywords missing in the goal\"},{\"role\":\"user\",\"content\":\"I want a edwards iqdp pump\"},{\"role\":\"assistant\",\"content\":\"Model: Specify the exact model or version of the Edwards IQDP pump you desire.\\nCondition: Indicate whether you want a new or used Edwards IQDP pump.\\nPrice: Convey your budget or pricing constraints.\\nSupplier: Specify where you plan to purchase the pump.\\nApplication: Clarify the intended use or application of the Edwards IQDP pump.\"}]}\n",
    "{\"messages\":[{\"role\":\"user\",\"content\":\"I want to hire an chef\"},{\"role\":\"assistant\",\"content\":\"Experience: Specify the level of experience or specific skills you are looking for in a chef.\\nCuisine: Indicate the type or style of cuisine you would like the chef to specialize in.\\nLocation: Specify the preferred location or city where you want to hire the chef.\\nAvailability: Mention the required availability, whether it is full-time, part-time, or on specific days.\\nBudget: Convey your budget or salary range for hiring the chef.\"}]}\n"
   ]
  },
  {
   "cell_type": "code",
   "execution_count": null,
   "metadata": {},
   "outputs": [],
   "source": [
    "examples = [\n",
    "    {\n",
    "        \"example\": \"\"\"Model: Specify the exact model or version of the Edwards IQDP pump you desire. Condition: Indicate whether you want a new or used Edwards IQDP pump.\\nPrice: Convey your budget or pricing constraints.\\nSupplier: Specify where you plan to purchase the pump.\\nApplication: Clarify the intended use or application of the Edwards IQDP pump.\"\"\"\n",
    "    },\n",
    "    {\n",
    "        \"example\": \"\"\"Patient ID: 789012, Patient Name: Johnson Smith, Diagnosis \n",
    "        Code: M54.5, Procedure Code: 99213, Total Charge: $150, Insurance Claim Amount: $120\"\"\"\n",
    "    },\n",
    "    {\n",
    "        \"example\": \"\"\"Patient ID: 345678, Patient Name: Emily Stone, Diagnosis Code: \n",
    "        E11.9, Procedure Code: 99214, Total Charge: $300, Insurance Claim Amount: $250\"\"\"\n",
    "    },\n",
    "]"
   ]
  }
 ],
 "metadata": {
  "kernelspec": {
   "display_name": "llm-env",
   "language": "python",
   "name": "python3"
  },
  "language_info": {
   "codemirror_mode": {
    "name": "ipython",
    "version": 3
   },
   "file_extension": ".py",
   "mimetype": "text/x-python",
   "name": "python",
   "nbconvert_exporter": "python",
   "pygments_lexer": "ipython3",
   "version": "3.11.4"
  }
 },
 "nbformat": 4,
 "nbformat_minor": 2
}
