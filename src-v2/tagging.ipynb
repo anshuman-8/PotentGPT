{
 "cells": [
  {
   "cell_type": "code",
   "execution_count": 1,
   "metadata": {},
   "outputs": [],
   "source": [
    "tags = [\"Education\",\"Internship\",\"Equipment\",\"Research\",\"Sales\",\"Entrepreneurship\",\"Logistics\",\"Relocation\",\"Tutoring\",\"Travel\",\"Car rental\",\"Food & Beverages\",\"Real Estate\",\"Health & Fitness\",\"Technology\",\"Finance\",\"Medical Services\",\"Skilled Services\",\"Volunteer Work\",\"Personal Growth\",\"Hobbies\",\"Retirement\",\"Style & Fashion\",\"Adventure Sports\",\"Music & Entertainment\",\"Jobs\",\"Higher Studies\",\"Hardware Fix\", \"Equipments\", \"Large Equipments\"]"
   ]
  },
  {
   "cell_type": "code",
   "execution_count": 2,
   "metadata": {},
   "outputs": [
    {
     "data": {
      "text/plain": [
       "28"
      ]
     },
     "execution_count": 2,
     "metadata": {},
     "output_type": "execute_result"
    }
   ],
   "source": [
    "len(tags)"
   ]
  },
  {
   "cell_type": "code",
   "execution_count": 4,
   "metadata": {},
   "outputs": [
    {
     "name": "stdout",
     "output_type": "stream",
     "text": [
      "I want an internship in Generative AI in California\n",
      "I want to opena new cafe in Kochi for premium customers, want a space for that\n",
      "I want to do research on cancer this summer, Location - Santa Clara\n",
      "Want to make a website for my dental clinic, Location - Kochi, Kerala\n",
      "I am looking for a software development internship in Python, Location - Austin, Texas\n",
      "I want to start a luxury fitness centre in Seattle, need a property that matches the upscale clientele\n",
      "I want to carry out a study on neurodegenerative diseases in the coming autumn, Location - Boston, Massachusetts\n",
      "I want to do a research internship in an AI/ML lab\n",
      "I want to develop a mobile application for my pathology laboratory, Location - Berlin, Germany\n",
      "I need a rented bike for a month for commuting, Location - Amsterdam, Netherlands\n",
      "I need a piano mentor for my son for six months, Location - Sydney, Australia\n",
      "I want a research-oriented internship in Harvard Medical School in the upcoming fall semester\n",
      "I want a RS MK3 Brand New OEM Engine for my car, Location - Santa Clara, CA\n",
      "I need a sommelier for a wine tasting event next weekend, Location - Oakland, CA\n",
      "I want a Varian DS302 rotary vane vacuum pump, should be in excellent condition with a minimum of one year warranty.\n",
      "I need a MAHLE Original cylinder head engine for my vintage car, it should be in mint condition.\n",
      "I want to find a reliable construction service to renovate my house. Location - New York\n",
      "I need to hire an experienced chef for a premium Japanese restaurant opening in Paris. Location - Paris\n",
      "I'm looking for a professional ballet trainer for my son in San Francisco.\n",
      "I want an Internship in UC Davis this summer in Cancer research.\n",
      "I want to participate in a technology development project at Stanford University this summer.\n",
      "I need a rental house near the beach in Honolulu for a month's vacation. Location - Kochi Kerala\n",
      "I'm seeking for a floral design course in London for the coming spring.\n",
      "I want to enroll in a writing workshop in Los Angeles focusing on creative fiction.\n",
      "I need a local guide for a cultural tour in Tokyo for my upcoming trip.Location - Vizag, India\n",
      "I'm looking for a professional gym trainer to set up a personalized home-based workout plan.Location - Mumbai India\n",
      "I want to join a research project related to climate change in the University of Melbourne next semester.\n",
      "I need a car for rent for a week, Location - Kochi Kerala\n",
      "I need a violin tutor for my daughter for a month, Location - santa clara\n",
      "Want a chef for an after wedding party\n",
      "I want an Edwards IQdp 80 vacuum pump. Clean with at least a two year warranty.\n",
      "I want to build a start-up\n",
      "I want to make arrangements for weddings\n",
      "I want an research internship in Amrita Amritapuri along with a professsor who doing research in generative AI.\n",
      "I want to launch a high-end bakery shop in Toronto, seeking a suitable location, Location - Oakland CA\n",
      "Planning to do an in-depth study on diabetes this winter, Location - Oxford, UK\n",
      "Aiming to create a user-friendly website for my physiotherapy clinic, Location - Atlanta, Georgia\n",
      "I am interested in a job-shadowing opportunity in data analysis, Location - Chicago, Illinois\n",
      "Looking to inaugurate a premium sports lounge in Miami, need a property that appeals to sports enthusiasts\n",
      "Planning to conduct a research study on cardiovascular disorders next spring, Location - Houston, Texas\n",
      "Keen to intern in a lab working on Quantum Computing research in California.\n",
      "Looking to develop an interactive mobile application for my diagnostic centre, Location - Madrid, Spain\n",
      "I need a scooter for rent for my summer trip, Location - Rome, Italy\n",
      "Seeking a violin instructor for my daughter for the next academic year, Location - Toronto, Canada\n",
      "I want a research grant in Neuroscience from the University of Cambridge for the upcoming spring semester\n",
      "Need to source a Porsche 911 Turbo S engine for my sports car, Location - San Francisco, CA\n",
      "I require a gourmet chef for my upcoming dinner party next month, Location - Manhattan, NY\n"
     ]
    }
   ],
   "source": [
    "with open(\"../data/goals.txt\") as f:\n",
    "    for line in f:\n",
    "        goal = line[1:].strip()\n",
    "        print(goal)"
   ]
  },
  {
   "cell_type": "code",
   "execution_count": 5,
   "metadata": {},
   "outputs": [
    {
     "name": "stdout",
     "output_type": "stream",
     "text": [
      "{'Education': 0, 'Internship': 1, 'Equipment': 2, 'Research': 3, 'Sales': 4, 'Entrepreneurship': 5, 'Logistics': 6, 'Relocation': 7, 'Tutoring': 8, 'Travel': 9, 'Car rental': 10, 'Food & Beverages': 11, 'Real Estate': 12, 'Health & Fitness': 13, 'Technology': 14, 'Finance': 15, 'Medical Services': 16, 'Skilled Services': 17, 'Volunteer Work': 18, 'Personal Growth': 19, 'Hobbies': 20, 'Retirement': 21, 'Style & Fashion': 22, 'Adventure Sports': 23, 'Music & Entertainment': 24, 'jobs': 25, 'Higher studies': 26, 'hardware fix': 27}\n"
     ]
    }
   ],
   "source": [
    "int2tag = {}\n",
    "for i, tag in enumerate(tags):\n",
    "    int2tag[tag] = i\n",
    "\n",
    "print(int2tag)"
   ]
  },
  {
   "cell_type": "code",
   "execution_count": 8,
   "metadata": {},
   "outputs": [],
   "source": [
    "sys_prompt = f\"\"\"\n",
    "Comprehend the goal, and assign all the relevant tags to the goal as its int. \n",
    "The integer id for each goal is given below.\n",
    "{int2tag}\n",
    "\n",
    "The output should be in integers with comma Eg: 2,5,22\n",
    "\"\"\""
   ]
  },
  {
   "cell_type": "code",
   "execution_count": 9,
   "metadata": {},
   "outputs": [
    {
     "data": {
      "text/plain": [
       "\"\\nComprehend the goal, and assign all the relevant tags to the goal as its int. \\nThe integer id for each goal is given below.\\n{'Education': 0, 'Internship': 1, 'Equipment': 2, 'Research': 3, 'Sales': 4, 'Entrepreneurship': 5, 'Logistics': 6, 'Relocation': 7, 'Tutoring': 8, 'Travel': 9, 'Car rental': 10, 'Food & Beverages': 11, 'Real Estate': 12, 'Health & Fitness': 13, 'Technology': 14, 'Finance': 15, 'Medical Services': 16, 'Skilled Services': 17, 'Volunteer Work': 18, 'Personal Growth': 19, 'Hobbies': 20, 'Retirement': 21, 'Style & Fashion': 22, 'Adventure Sports': 23, 'Music & Entertainment': 24, 'jobs': 25, 'Higher studies': 26, 'hardware fix': 27}\\n\\nThe output should be in integers with comma Eg: 2,5,22\\n\""
      ]
     },
     "execution_count": 9,
     "metadata": {},
     "output_type": "execute_result"
    }
   ],
   "source": [
    "sys_prompt"
   ]
  },
  {
   "cell_type": "code",
   "execution_count": null,
   "metadata": {},
   "outputs": [],
   "source": []
  }
 ],
 "metadata": {
  "kernelspec": {
   "display_name": "llm-env",
   "language": "python",
   "name": "python3"
  },
  "language_info": {
   "codemirror_mode": {
    "name": "ipython",
    "version": 3
   },
   "file_extension": ".py",
   "mimetype": "text/x-python",
   "name": "python",
   "nbconvert_exporter": "python",
   "pygments_lexer": "ipython3",
   "version": "3.11.7"
  }
 },
 "nbformat": 4,
 "nbformat_minor": 2
}
