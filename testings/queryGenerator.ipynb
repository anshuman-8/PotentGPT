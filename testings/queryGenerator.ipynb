{
 "cells": [
  {
   "cell_type": "code",
   "execution_count": null,
   "metadata": {},
   "outputs": [],
   "source": [
    "## Query response format - \n",
    "{\n",
    "    \"soulution\" : {\"type\": \"string\", \"description\": \"The solution of the problem\"},\n",
    "    \"queries\" : [ {\"type\": \"dict\", \"description\": \"The search queries and their search domain\", \"example\" : {\"query\":\"Faculty of Engineering\", \"domain\":\"web\"}}],\n",
    "\n",
    "}"
   ]
  },
  {
   "cell_type": "code",
   "execution_count": 5,
   "metadata": {},
   "outputs": [],
   "source": [
    "# Example Goal - I want an internship in California in molecular biology\n",
    "eg1 = {\"target\": [\"research professors\", \"labs\", \"research companies\"],\n",
    " \"queries\": [{\"query\":\"Molecular biology professors in California\", \"domain\":\"web\"}, \n",
    "             {\"query\":\"\", \"domain\":\"web\"}, \n",
    "             {\"query\":\"Molecular biology research labs\", \"domain\":\"web\"}],\n",
    "  \"search_domain\": [\"web\"]\n",
    " }\n",
    "\n",
    "# goal - I want a catering service for a wedding in Santa Clara. for 100 people\n",
    "eg2_0 = {\n",
    "    \"target\": [\"catering service\", \"catering companies\", \"catering service for wedding\"],\n",
    "    \"queries\": [{\"query\":\"Catering service for wedding in Santa Clara\", \"domain\":\"web\"}, \n",
    "                {\"query\":\"Catering service in Santa Clara\", \"domain\":\"web\"}, \n",
    "                {\"query\":\"Catering service\", \"domain\":\"yelp\"},\n",
    "                {\"query\":\"Cantering service in Santa Clara\", \"domain\":\"gmaps\"}\n",
    "                ],\n",
    "    \"search_domain\": [\"web\", \"gmaps\", \"yelp\"]\n",
    "}\n",
    "\n",
    "# second version of the same goal\n",
    "# - takes less tokes\n",
    "# - has a better structure\n",
    "# - more chances always selecting web as the search domain\n",
    "# - no need for different search domain\n",
    "eg2_1 = {\n",
    "    \"target\": [\"catering companies\"],\n",
    "    \"queries\": {\"web\" : [\"Catering service for wedding in Santa Clara\", \"Catering service in Santa Clara\"],\n",
    "                \"yelp\" : \"Catering service\",\n",
    "                \"gmaps\" : \"Cantering service in Santa Clara\"\n",
    "                },\n",
    "}\n",
    "\n",
    "\n",
    "sys_prompt = \"\"\"\n",
    "Comprehend the goal, and provide small web search queries to assist in achieving it. The queries should be based on finding the email of best individual person or an expert, to contact for helping or completing the user goal. First give the list of people/vendor (1 to 3) to approach for the goal (Eg- Professors, Catering Companies etc) in small strings as targets (focus on a person in 1-3 words). Then give search queries, always give search queries for `web` in a list of string(max 3), each targeting a target and slightly broaden the search(searching for their email). Give yelp and gmaps search query only if necessary for the goal.`yelp` and `gmaps` both are used for local businesses, including personal, small, and medium-sized enterprises, use both only when location is given by user (but don't use near me), else give an empty string. 'yelp' search query should NOT include location in its query string (Yelp does not accept location based search query, only vendor). The output should be in JSON format : \"{\\\"targets\\\": [\\\"\\\",\\\"\\\"], \\\"queries\\\": {\\\"web\\\": [\\\"\\\", \\\"\\\"...], \\\"yelp\\\": \\\"\\\", \\\"gmaps\\\": \\\"\\\"}}\n",
    "\"\"\""
   ]
  },
  {
   "cell_type": "markdown",
   "metadata": {},
   "source": []
  },
  {
   "cell_type": "code",
   "execution_count": 14,
   "metadata": {},
   "outputs": [
    {
     "name": "stdout",
     "output_type": "stream",
     "text": [
      "client ready\n"
     ]
    }
   ],
   "source": [
    "import os\n",
    "from openai import OpenAI\n",
    "import json\n",
    "from dotenv import load_dotenv\n",
    "\n",
    "load_dotenv()\n",
    "\n",
    "\n",
    "MY_ENV_VAR = os.getenv('OPENAI_API_KEY')\n",
    "client = OpenAI(api_key=MY_ENV_VAR)\n",
    "print(\"client ready\")"
   ]
  },
  {
   "cell_type": "code",
   "execution_count": 15,
   "metadata": {},
   "outputs": [
    {
     "data": {
      "text/plain": [
       "'{\"targets\": [\"Professors\", \"Research Coordinator\", \"Internship Coordinator\"], \"queries\": {\"web\": [\"Harvard Medical School professors email contact\", \"Harvard Medical School research coordinator contact email\", \"Harvard Medical School internship coordinator contact email\"], \"yelp\": \"\", \"gmaps\": \"\"}}'"
      ]
     },
     "metadata": {},
     "output_type": "display_data"
    },
    {
     "name": "stdout",
     "output_type": "stream",
     "text": [
      "done\n"
     ]
    }
   ],
   "source": [
    "\n",
    "def gpt4_response_string(goal):\n",
    "    try:\n",
    "        response = client.chat.completions.create(\n",
    "            model= \"gpt-3.5-turbo\",\n",
    "            response_format={ \"type\": \"json_object\" },\n",
    "            messages=[\n",
    "                {\"role\": \"system\", \"content\": sys_prompt},\n",
    "                {\"role\": \"user\", \"content\": f\"Goal:{goal}\"},\n",
    "            ]\n",
    "        )\n",
    "    except Exception as e:\n",
    "        print(e)\n",
    "        return None\n",
    "    response = json.loads(response.choices[0].message.content)\n",
    "    return json.dumps(response)\n",
    "\n",
    "def display_response(response):\n",
    "    display(response)\n",
    "\n",
    "fail_file = \"../data/fail_goals.txt\"\n",
    "dataset_file = \"../data/query_generation.jsonl\"\n",
    "\n",
    "with open('../data/goals2.txt', 'r') as file:\n",
    "    for line in file:\n",
    "        goal = line[1:].strip()\n",
    "        \n",
    "        try:\n",
    "            response = gpt4_response_string(goal)\n",
    "        except Exception as e:\n",
    "            print(e)\n",
    "            with open(fail_file, 'a') as f:\n",
    "                f.write(f\"{goal}\\n\")\n",
    "            continue\n",
    "        display_response(response)\n",
    "        \n",
    "        \n",
    "        # ask for user input if Enter then continue if n the skip if e then exit\n",
    "        inp = input(\"Enter to continue, n to skip, e to exit\")\n",
    "\n",
    "        if inp == \"n\":\n",
    "            with open(fail_file, 'a') as f:\n",
    "                f.write(f\"{goal}\\n\")\n",
    "        elif inp == \"e\":\n",
    "            break\n",
    "        val = {\"messages\":[{\"role\": \"system\", \"content\": sys_prompt},{\"role\": \"user\", \"content\": goal},{ \"role\": \"assistant\", \"content\": response}]}\n",
    "        # wirte to file dataset file\n",
    "        with open(dataset_file, 'a') as f:\n",
    "            f.write(json.dumps(val) + \"\\n\")\n",
    "            f.write(response + \"\\n\")\n",
    "\n",
    "print(\"done\")\n",
    "\n",
    "\n",
    "        \n",
    "\n",
    "\n",
    "        \n"
   ]
  },
  {
   "cell_type": "code",
   "execution_count": 16,
   "metadata": {},
   "outputs": [
    {
     "name": "stdout",
     "output_type": "stream",
     "text": [
      "{\"targets\": [\"Construction Company\", \"General Contractor\", \"Home Renovation Service\"], \"queries\": {\"web\": [\"reliable renovation construction New York email contact\", \"best general contractor New York renovation email\", \"top home renovation service New York contact email\"], \"yelp\": \"construction companies\", \"gmaps\": \"\"}}\n"
     ]
    }
   ],
   "source": [
    "\n",
    "def gpt_response_string(goal):\n",
    "    try:\n",
    "        response = client.chat.completions.create(\n",
    "            model= \"ft:gpt-3.5-turbo-1106:margati:query-generation:94vNTAHo\",\n",
    "            response_format={ \"type\": \"json_object\" },\n",
    "            messages=[\n",
    "                {\"role\": \"system\", \"content\": sys_prompt},\n",
    "                {\"role\": \"user\", \"content\": f\"Goal:{goal}\"},\n",
    "            ]\n",
    "        )\n",
    "    except Exception as e:\n",
    "        print(e)\n",
    "        return None\n",
    "    response = json.loads(response.choices[0].message.content)\n",
    "    return json.dumps(response)\n",
    "\n",
    "Goal = \"I want to find a reliable construction service to renovate my house. Location - New York\"\n",
    "response = gpt_response_string(Goal)\n",
    "print(response)\n"
   ]
  },
  {
   "cell_type": "code",
   "execution_count": null,
   "metadata": {},
   "outputs": [],
   "source": []
  }
 ],
 "metadata": {
  "kernelspec": {
   "display_name": "deepLearning",
   "language": "python",
   "name": "python3"
  },
  "language_info": {
   "codemirror_mode": {
    "name": "ipython",
    "version": 3
   },
   "file_extension": ".py",
   "mimetype": "text/x-python",
   "name": "python",
   "nbconvert_exporter": "python",
   "pygments_lexer": "ipython3",
   "version": "3.12.2"
  }
 },
 "nbformat": 4,
 "nbformat_minor": 2
}
