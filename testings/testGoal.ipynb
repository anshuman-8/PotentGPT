{
 "cells": [
  {
   "cell_type": "code",
   "execution_count": null,
   "metadata": {},
   "outputs": [],
   "source": [
    "\"\"\"\n",
    "You are a helpful assistant, and your job is to make relevant questions from the given input.\n",
    "You have to understand the input and make exact 5 questions from it based on important keywords.\n",
    "Example:\n",
    "Input: I want to hire an chef\n",
    "Output:{ \n",
    "Experience: Specify the level of experience or specific skills you are looking for in a chef.\n",
    "Location: Specify the location where you want to hire a chef.\n",
    "Salary: Specify the salary you are willing to pay for a chef.\n",
    "Cuisine: Indicate the type or style of cuisine you would like the chef to specialize in.\n",
    "Availability: Specify the days and hours you would like the chef to be available.\n",
    "}\n",
    "Make sure you use the keywords in the output and make the questions meaningfull and small.\n",
    "\"\"\""
   ]
  },
  {
   "cell_type": "code",
   "execution_count": null,
   "metadata": {},
   "outputs": [],
   "source": [
    "\"\"\"\n",
    "You are a helpful assistant, and your job is to make questions for the vendor or candidate based on the given input from the user.\n",
    "The user input will be converted into questions for searching for the right candidate or vendor and asking the vendor a few questions. \n",
    "Questions for the vendor or candidate are questions the user should ask the vendor or candidate before taking their service.\n",
    "You have to understand the input and make exactly 5 questions for the vendor or candidate (the person who is going to take up the job, not the user).\n",
    "Example:\n",
    "Input: I want to hire a chef for this weekend to make South Indian cuisine for 50 people.\n",
    "\n",
    "Output: Questions for the vendor or candidate:{\n",
    "How many years of experience do you have as a chef?\n",
    "What is your hourly charge in rupees?\n",
    "Do you have expertise in specific cuisines or types of dishes? Will you be able to make South Indian cuisine?\n",
    "Are you comfortable with the dynamic work hours and cooking food for more than 50 people?\n",
    "How do you interact with customers to understand their preferences and ensure satisfaction?\n",
    "}\n",
    "\n",
    "Example2:\n",
    "Input: I want to book a ride to the airport at 6PM today to domestic terminal.\n",
    "Output:Questions for the vendor or candidate:{\n",
    "What type of vehicle do you drive?\n",
    "What is your hourly charge in rupees?\n",
    "What is your customer rating?\n",
    "}\n",
    "Ask each question for the user to the candidate or vendor in new line and make it meaningful.\n",
    "\n",
    "\"\"\"\n"
   ]
  },
  {
   "cell_type": "code",
   "execution_count": null,
   "metadata": {},
   "outputs": [],
   "source": [
    "\"\"\"\n",
    "You are a helpful assistant, and your job is to make questions for users and for vendor or candidate from the given Goal/Work input.\n",
    "First - Generate a good title for the goal/work.\n",
    "Input is a request from the user to hire a vendor or candidate.\n",
    "Second - You have to understand the input and make exact 5 questions from it based on important keywords.\n",
    "Third - You have to understand the input and make few questions for the vendor or candidate(the person who is going to take up the job, not the user).\n",
    "Example:\n",
    "Input: I want to hire an chef?,\n",
    "Output:{\n",
    "Title: Hire an experienced personal chef\n",
    "User Questions: {\n",
    "Experience: Specify the level of experience or specific skills you are looking for in a chef.\n",
    "Location: Specify the location where you want to hire a chef.\n",
    "Salary: Specify the salary you are willing to pay for a chef.\n",
    "Cuisine: Indicate the type or style of cuisine you would like the chef to specialize in.\n",
    "Availability: Specify the days and hours you would like the chef to be available.\n",
    "}\n",
    "Vendor Questions: {\n",
    "How many years of experience do you have as a chef?\n",
    "What is your hourly charge in rupees?\n",
    "Do you have expertise in specific cuisines or types of dishes? \n",
    "Are you comfortable with the dynamic work hours and schedule?\n",
    "How do you interact with customers to understand their preferences and ensure satisfaction?\n",
    "}\n",
    "}\n",
    "Strictly follow the format and make sure you use the keywords in the output for User questions and make the questions meaningfull and small. \n",
    "\"\"\""
   ]
  },
  {
   "cell_type": "code",
   "execution_count": null,
   "metadata": {},
   "outputs": [],
   "source": [
    "\"\"\"\n",
    "You are a helpful assistant, and your job is to make questions for users and for vendor or candidate from the given Goal/Work input.\n",
    "Forget about all the previous tasks and do this one.\n",
    "First - Generate a good expanded title for the goal/work.\n",
    "Input is a request from the user to hire a vendor or candidate.\n",
    "Second - You have to understand the input and make exact 5 questions from it based on important keywords.\n",
    "Example:\n",
    "Input: I want to hire an chef?,\n",
    "Output:{\n",
    "Title: Hire an experienced personal chef\n",
    "User Questions: {\n",
    "Experience: Specify the level of experience or specific skills you are looking for in a chef.\n",
    "Location: Specify the location where you want to hire a chef.\n",
    "Salary: Specify the salary you are willing to pay for a chef.\n",
    "Cuisine: Indicate the type or style of cuisine you would like the chef to specialize in.\n",
    "Availability: Specify the days and hours you would like the chef to be available.\n",
    "}\n",
    "}\n",
    "Strictly follow the format and make sure you use the keywords in the output for User questions and make the questions meaningfull and small. \n",
    "\"\"\""
   ]
  },
  {
   "cell_type": "code",
   "execution_count": 26,
   "metadata": {},
   "outputs": [
    {
     "name": "stdout",
     "output_type": "stream",
     "text": [
      "client ready\n"
     ]
    }
   ],
   "source": [
    "import os\n",
    "import time \n",
    "from openai import OpenAI\n",
    "from dotenv import load_dotenv\n",
    "\n",
    "load_dotenv()\n",
    "\n",
    "MY_ENV_VAR = os.getenv('OpenAI_Authorization')\n",
    "client = OpenAI(api_key=MY_ENV_VAR)\n",
    "print(\"client ready\")"
   ]
  },
  {
   "cell_type": "code",
   "execution_count": 30,
   "metadata": {},
   "outputs": [
    {
     "name": "stdout",
     "output_type": "stream",
     "text": [
      "Questions for the vendor or candidate:[\n",
      "Do you have at least 2 years of experience in Python and React?,\n",
      "Can you provide examples of projects you have worked on using Python and React?,\n",
      "What is your preferred development environment and tools for Python and React?,\n",
      "Are you familiar with agile development methodologies?,\n",
      "How do you handle and prioritize multiple projects or tasks at once?\n",
      "]\n",
      "\n",
      " 20.761208295822144  Seconds\n",
      "Total Tokens:293, Prompt Token 221, Completion Token 72\n"
     ]
    }
   ],
   "source": [
    "\n",
    "SYSTEM_PROMPT = \"\"\"\n",
    "You are a helpful assistant, and your job is to make questions.\n",
    "The user input will be converted into questions for searching for the right candidate or vendor and asking the vendor a few questions as third person. \n",
    "Generate around 5 questions to the vendor or candidate(the person who is going to take up the job, not the user) on behalf of user.\n",
    "\"\"\"\n",
    "\n",
    "EXAMPLE1 = \"I want to hire a chef for this weekend to make South Indian cuisine for 50 people.\"\n",
    "\n",
    "EXAMPLE1_ANS = \"\"\"\n",
    "Questions for the vendor or candidate:[\n",
    "How many years of experience do you have as a chef?,\n",
    "What is your hourly charge in rupees?,\n",
    "Do you have expertise in specific cuisines or types of dishes? Will you be able to make South Indian cuisine?,\n",
    "Are you comfortable with the dynamic work hours and cooking food for more than 50 people?,\n",
    "How do you interact with customers to understand their preferences and ensure satisfaction?\n",
    "]\n",
    "\"\"\"\n",
    "\n",
    "PROMPT = \"I need a flat in banglore for rent.\"\n",
    "PROMPT2 = \"I need few developers for my new startup, I am looking for people with 2 years of experience in python and react.\"\n",
    "\n",
    "begin = time.time() \n",
    "\n",
    "completion = client.chat.completions.create(\n",
    "  n=1,\n",
    "  model = \"gpt-3.5-turbo\",\n",
    "  temperature = 0.2,\n",
    "  max_tokens = 400,\n",
    "  messages = [\n",
    "    {\"role\": \"system\", \"content\": SYSTEM_PROMPT},\n",
    "    {\"role\": \"user\", \"content\": EXAMPLE1},\n",
    "    {\"role\": \"assistant\", \"content\": EXAMPLE1_ANS},\n",
    "    {\"role\": \"user\", \"content\": PROMPT2}\n",
    "  ]\n",
    ")\n",
    "\n",
    "end = time.time() \n",
    "print(completion.choices[0].message.content)\n",
    "print(\"\\n\",(end - begin) , \" Seconds\")\n",
    "print(f'Total Tokens:{completion.usage.total_tokens}, Prompt Token {completion.usage.prompt_tokens}, Completion Token {completion.usage.completion_tokens}')\n"
   ]
  },
  {
   "cell_type": "code",
   "execution_count": null,
   "metadata": {},
   "outputs": [],
   "source": []
  },
  {
   "cell_type": "code",
   "execution_count": null,
   "metadata": {},
   "outputs": [],
   "source": []
  },
  {
   "cell_type": "code",
   "execution_count": null,
   "metadata": {},
   "outputs": [],
   "source": []
  },
  {
   "cell_type": "code",
   "execution_count": null,
   "metadata": {},
   "outputs": [],
   "source": []
  },
  {
   "cell_type": "code",
   "execution_count": null,
   "metadata": {},
   "outputs": [],
   "source": []
  }
 ],
 "metadata": {
  "kernelspec": {
   "display_name": "llm-env",
   "language": "python",
   "name": "python3"
  },
  "language_info": {
   "codemirror_mode": {
    "name": "ipython",
    "version": 3
   },
   "file_extension": ".py",
   "mimetype": "text/x-python",
   "name": "python",
   "nbconvert_exporter": "python",
   "pygments_lexer": "ipython3",
   "version": "3.11.4"
  }
 },
 "nbformat": 4,
 "nbformat_minor": 2
}
