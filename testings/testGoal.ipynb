{
 "cells": [
  {
   "cell_type": "code",
   "execution_count": null,
   "metadata": {},
   "outputs": [],
   "source": [
    "\"\"\"\n",
    "You are a helpful assistant, and your job is to make relevant questions from the given input.\n",
    "You have to understand the input and make exact 5 questions from it based on important keywords.\n",
    "Example:\n",
    "Input: I want to hire an chef\n",
    "Output:{ \n",
    "Experience: Specify the level of experience or specific skills you are looking for in a chef.\n",
    "Location: Specify the location where you want to hire a chef.\n",
    "Salary: Specify the salary you are willing to pay for a chef.\n",
    "Cuisine: Indicate the type or style of cuisine you would like the chef to specialize in.\n",
    "Availability: Specify the days and hours you would like the chef to be available.\n",
    "}\n",
    "Make sure you use the keywords in the output and make the questions meaningfull and small.\n",
    "\"\"\""
   ]
  },
  {
   "cell_type": "code",
   "execution_count": null,
   "metadata": {},
   "outputs": [],
   "source": [
    "\"\"\"\n",
    "You are a helpful assistant, and your job is to make questions for the vendor or candidate based on the given input from the user.\n",
    "The user input will be converted into questions for searching for the right candidate or vendor and asking the vendor a few questions. \n",
    "Questions for the vendor or candidate are questions the user should ask the vendor or candidate before taking their service.\n",
    "You have to understand the input and make exactly 5 questions for the vendor or candidate (the person who is going to take up the job, not the user).\n",
    "Example:\n",
    "Input: I want to hire a chef for this weekend to make South Indian cuisine for 50 people.\n",
    "\n",
    "Output: Questions for the vendor or candidate:{\n",
    "How many years of experience do you have as a chef?\n",
    "What is your hourly charge in rupees?\n",
    "Do you have expertise in specific cuisines or types of dishes? Will you be able to make South Indian cuisine?\n",
    "Are you comfortable with the dynamic work hours and cooking food for more than 50 people?\n",
    "How do you interact with customers to understand their preferences and ensure satisfaction?\n",
    "}\n",
    "\n",
    "Example2:\n",
    "Input: I want to book a ride to the airport at 6PM today to domestic terminal.\n",
    "Output:Questions for the vendor or candidate:{\n",
    "What type of vehicle do you drive?\n",
    "What is your hourly charge in rupees?\n",
    "What is your customer rating?\n",
    "}\n",
    "Ask each question for the user to the candidate or vendor in new line and make it meaningful.\n",
    "\n",
    "\"\"\"\n"
   ]
  },
  {
   "cell_type": "code",
   "execution_count": null,
   "metadata": {},
   "outputs": [],
   "source": [
    "\"\"\"\n",
    "You are a helpful assistant, and your job is to make questions for users and for vendor or candidate from the given Goal/Work input.\n",
    "First - Generate a good title for the goal/work.\n",
    "Input is a request from the user to hire a vendor or candidate.\n",
    "Second - You have to understand the input and make exact 5 questions from it based on important keywords.\n",
    "Third - You have to understand the input and make few questions for the vendor or candidate(the person who is going to take up the job, not the user).\n",
    "Example:\n",
    "Input: I want to hire an chef?,\n",
    "Output:{\n",
    "Title: Hire an experienced personal chef\n",
    "User Questions: {\n",
    "Experience: Specify the level of experience or specific skills you are looking for in a chef.\n",
    "Location: Specify the location where you want to hire a chef.\n",
    "Salary: Specify the salary you are willing to pay for a chef.\n",
    "Cuisine: Indicate the type or style of cuisine you would like the chef to specialize in.\n",
    "Availability: Specify the days and hours you would like the chef to be available.\n",
    "}\n",
    "Vendor Questions: {\n",
    "How many years of experience do you have as a chef?\n",
    "What is your hourly charge in rupees?\n",
    "Do you have expertise in specific cuisines or types of dishes? \n",
    "Are you comfortable with the dynamic work hours and schedule?\n",
    "How do you interact with customers to understand their preferences and ensure satisfaction?\n",
    "}\n",
    "}\n",
    "Strictly follow the format and make sure you use the keywords in the output for User questions and make the questions meaningfull and small. \n",
    "\"\"\""
   ]
  },
  {
   "cell_type": "code",
   "execution_count": null,
   "metadata": {},
   "outputs": [],
   "source": [
    "\"\"\"\n",
    "You are a helpful assistant, and your job is to make questions for users and for vendor or candidate from the given Goal/Work input.\n",
    "Forget about all the previous tasks and do this one.\n",
    "First - Generate a good expanded title for the goal/work.\n",
    "Input is a request from the user to hire a vendor or candidate.\n",
    "Second - You have to understand the input and make exact 5 questions from it based on important keywords.\n",
    "Example:\n",
    "Input: I want to hire an chef?,\n",
    "Output:{\n",
    "Title: Hire an experienced personal chef\n",
    "User Questions: {\n",
    "Experience: Specify the level of experience or specific skills you are looking for in a chef.\n",
    "Location: Specify the location where you want to hire a chef.\n",
    "Salary: Specify the salary you are willing to pay for a chef.\n",
    "Cuisine: Indicate the type or style of cuisine you would like the chef to specialize in.\n",
    "Availability: Specify the days and hours you would like the chef to be available.\n",
    "}\n",
    "}\n",
    "Strictly follow the format and make sure you use the keywords in the output for User questions and make the questions meaningfull and small. \n",
    "\"\"\""
   ]
  },
  {
   "cell_type": "code",
   "execution_count": 1,
   "metadata": {},
   "outputs": [
    {
     "name": "stdout",
     "output_type": "stream",
     "text": [
      "client ready\n"
     ]
    }
   ],
   "source": [
    "import os\n",
    "import time \n",
    "from openai import OpenAI\n",
    "from dotenv import load_dotenv\n",
    "\n",
    "load_dotenv()\n",
    "\n",
    "MY_ENV_VAR = os.getenv('OPENAI_API_KEY')\n",
    "client = OpenAI(api_key=MY_ENV_VAR)\n",
    "print(\"client ready\")"
   ]
  },
  {
   "cell_type": "code",
   "execution_count": 48,
   "metadata": {},
   "outputs": [
    {
     "name": "stdout",
     "output_type": "stream",
     "text": [
      "Questions for the vendor or candidate:[\n",
      "What is the estimated cost for transporting luggage from Pune to Colaba?,\n",
      "Do you provide insurance coverage for the transported luggage?,\n",
      "What is the expected delivery time for the luggage?,\n",
      "Do you have any restrictions on the size or weight of the luggage?,\n",
      "Can you provide references or testimonials from previous clients who have used your luggage transport services?\n",
      "]\n",
      "\n",
      " 16.608102321624756  Seconds\n",
      "Total Tokens:249, Prompt Token 176, Completion Token 73\n"
     ]
    }
   ],
   "source": [
    "\n",
    "SYSTEM_PROMPT = \"\"\"\n",
    "You are a helpful and friendly assistant, and your job is to make questions.\n",
    "Transform user input into inquiries aimed at identifying suitable candidates or vendors. \n",
    "Craft approximately five questions directed towards the vendor or candidate (the prospective job applicant) in a third-person context on behalf of the user.\n",
    "\"\"\"\n",
    "\n",
    "EXAMPLE1 = \"I want to hire a chef for this weekend to make South Indian cuisine for 50 people.\"\n",
    "\n",
    "EXAMPLE1_ANS = \"\"\"\n",
    "Questions for the vendor or candidate:[\n",
    "How many years of experience do you have as a chef?,\\nSpecify your hourly charge in rupees,\\nAny specialization in cuisines or ability to prepare South Indian dishes?,\\nAre you comfortable with the dynamic work hours and catering for over 50 individuals?,\\nDescribe your approach to understanding customer preferences and ensuring satisfaction?\n",
    "]\n",
    "\"\"\"\n",
    "\n",
    "PROMPT = \"I want to transport my luggage from Pune to Colaba\"\n",
    "\n",
    "begin = time.time() \n",
    "\n",
    "completion = client.chat.completions.create(\n",
    "  n=1,\n",
    "  model = \"gpt-3.5-turbo\",\n",
    "  temperature = 0.2,\n",
    "  max_tokens = 300,\n",
    "  messages = [\n",
    "    {\"role\": \"system\", \"content\": SYSTEM_PROMPT},\n",
    "    {\"role\": \"user\", \"content\": EXAMPLE1},\n",
    "    {\"role\": \"assistant\", \"content\": EXAMPLE1_ANS},\n",
    "    {\"role\": \"user\", \"content\": PROMPT}\n",
    "  ]\n",
    ")\n",
    "\n",
    "end = time.time() \n",
    "print(completion.choices[0].message.content)\n",
    "# write me the output to a file\n",
    "with open('output.txt', 'w') as f:\n",
    "    f.write(completion.choices[0].message.content)\n",
    "print(\"\\n\",(end - begin) , \" Seconds\")\n",
    "print(f'Total Tokens:{completion.usage.total_tokens}, Prompt Token {completion.usage.prompt_tokens}, Completion Token {completion.usage.completion_tokens}')\n"
   ]
  },
  {
   "cell_type": "code",
   "execution_count": 5,
   "metadata": {},
   "outputs": [
    {
     "name": "stdout",
     "output_type": "stream",
     "text": [
      "ChatCompletion(id='chatcmpl-8OhOwJoQTl01sFANznlBvbCz3VoZq', choices=[Choice(finish_reason='stop', index=0, message=ChatCompletionMessage(content='{\"questions\": [\"What is your educational background in biological sciences?\", \"Do you have any previous experience in conducting research or working in a laboratory setting?\", \"Are you familiar with the research areas and projects at UC Davis in biological sciences?\", \"What specific skills or techniques do you possess that would be valuable for this internship?\", \"Can you provide any references or recommendations from professors or mentors in the field?\"]}', role='assistant', function_call=None, tool_calls=None))], created=1700897398, model='gpt-3.5-turbo-0613', object='chat.completion', system_fingerprint=None, usage=CompletionUsage(completion_tokens=81, prompt_tokens=114, total_tokens=195))\n",
      "Total Tokens:195, Prompt Token 114, Completion Token 81\n",
      "Time Taken: 7.534734010696411 Sec\n",
      "\n",
      "{\"questions\": [\"What is your educational background in biological sciences?\", \"Do you have any previous experience in conducting research or working in a laboratory setting?\", \"Are you familiar with the research areas and projects at UC Davis in biological sciences?\", \"What specific skills or techniques do you possess that would be valuable for this internship?\", \"Can you provide any references or recommendations from professors or mentors in the field?\"]}\n"
     ]
    }
   ],
   "source": [
    "SYSTEM_PROMPT = \"\"\"\n",
    "You are a helpful and friendly assistant, and your job is to make questions.\\n Transform user input into inquiries aimed at identifying suitable candidates or vendors.\\n Craft approximately five questions directed towards the vendor or candidate (the prospective job applicant) in a third-person context on behalf of the user.\\n The output questions should be in json list as {\"questions\":[\"ques1\",\"ques2\"...]} here ques1 and ques2 are questions to be asked.\n",
    "\"\"\"\n",
    "\n",
    "model1 = \"ft:gpt-3.5-turbo-1106:personal::8NQy0AQH\"\n",
    "model2 = \"ft:gpt-3.5-turbo-1106:personal::8NZ74lx5\"\n",
    "model3 = \"ft:gpt-3.5-turbo-1106:personal::8NcTvPk7\"\n",
    "\n",
    "start_time = time.time()\n",
    "\n",
    "response = client.chat.completions.create(\n",
    "  model= model3,\n",
    "  temperature=0.1,\n",
    "  response_format={ \"type\": \"json_object\" },\n",
    "  messages=[\n",
    "    {\"role\": \"system\", \"content\": SYSTEM_PROMPT},\n",
    "    {\"role\": \"user\", \"content\": \"I want to do a UC Davis internship comming summer in biological sciences.\"},\n",
    "  ]\n",
    ")\n",
    "\n",
    "end_time = time.time()\n",
    "print(response)\n",
    "with open('output.json', 'w') as f:\n",
    "    f.write(str(response.choices[0].message.content))\n",
    "print(f'Total Tokens:{response.usage.total_tokens}, Prompt Token {response.usage.prompt_tokens}, Completion Token {response.usage.completion_tokens}')\n",
    "print(f'Time Taken: {end_time - start_time} Sec\\n')\n",
    "\n",
    "print(response.choices[0].message.content)"
   ]
  },
  {
   "cell_type": "code",
   "execution_count": null,
   "metadata": {},
   "outputs": [],
   "source": []
  }
 ],
 "metadata": {
  "kernelspec": {
   "display_name": "llm-env",
   "language": "python",
   "name": "python3"
  },
  "language_info": {
   "codemirror_mode": {
    "name": "ipython",
    "version": 3
   },
   "file_extension": ".py",
   "mimetype": "text/x-python",
   "name": "python",
   "nbconvert_exporter": "python",
   "pygments_lexer": "ipython3",
   "version": "3.12.1"
  }
 },
 "nbformat": 4,
 "nbformat_minor": 2
}
