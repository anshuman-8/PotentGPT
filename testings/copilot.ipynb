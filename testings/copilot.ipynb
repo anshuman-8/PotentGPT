{
 "cells": [
  {
   "cell_type": "code",
   "execution_count": 33,
   "metadata": {},
   "outputs": [
    {
     "name": "stdout",
     "output_type": "stream",
     "text": [
      "client ready\n"
     ]
    }
   ],
   "source": [
    "import os\n",
    "import time \n",
    "from openai import OpenAI\n",
    "import json\n",
    "from dotenv import load_dotenv\n",
    "\n",
    "load_dotenv()\n",
    "\n",
    "MY_ENV_VAR = os.getenv('OPENAI_API_KEY')\n",
    "client = OpenAI(api_key=MY_ENV_VAR)\n",
    "print(\"client ready\")"
   ]
  },
  {
   "cell_type": "code",
   "execution_count": 39,
   "metadata": {},
   "outputs": [],
   "source": [
    "System_Prompt_question_gen = \"Below is the user's goal or task, based on clear understanding give the following in JSON:\\n- List of top(max 5) very important questions to ask the user with options to improve the goal statement and make it less vague. Questions to be asked to remove vagueness. Its type can be \\\"choice\\\",  \\\"input\\\" or \\\"date\\\", if input then give options as empty list(but prefer choice over input). Do not ask questions only if it's very well described(respond with empty list for questions). \\n- State weather if it is a product, service or invalid goal (in goal_type). Format - {\\\"questions\\\":[{\\\"question\\\":\\\"\\\",\\\"type\\\":\\\"\\\",\\\"options\\\":[\\\"\\\",\\\"\\\"],},{}],\\\"goal_type\\\":\\\"\\\"}\"\n",
    "\n",
    "question_gen_few_shot = [ {\n",
    "                    \"role\": \"user\",\n",
    "                    \"content\": \"Location: Oakland, CA;\\nGoal: I want a new car\",\n",
    "                },\n",
    "                {\n",
    "                    \"role\": \"system\",\n",
    "                    \"content\": \"{\\\"questions\\\":[{\\\"question\\\":\\\"What type of car do you want?\\\",\\\"type\\\":\\\"choice\\\",\\\"options\\\":[\\\"SUV\\\", \\\"Sedan\\\", \\\"Truck\\\", \\\"Coupe\\\"]},{\\\"question\\\":\\\"What is the budget for the car?\\\",\\\"type\\\":\\\"choice\\\",\\\"options\\\":[\\\"$1000\\\", \\\"$2000\\\", \\\"$3000\\\", \\\"$4000\\\"]},{\\\"question\\\":\\\"Which brand of car do you prefer?\\\",\\\"type\\\":\\\"choice\\\",\\\"options\\\":[\\\"Toyota\\\", \\\"Honda\\\", \\\"Ford\\\", \\\"Chevrolet\\\"]}],\\\"goal_type\\\":\\\"product\\\"}\",\n",
    "                },\n",
    "                {\n",
    "                    \"role\": \"user\",\n",
    "                    \"content\": \"Goal:I want to do an internship in UC Davis in the fiels of Microbiology.\",\n",
    "                },\n",
    "                { \"role\": \"system\",\n",
    "                 \"content\": \"{\\\"questions\\\":[{\\\"question\\\":\\\"What is the duration of the internship?\\\",\\\"type\\\":\\\"choice\\\",\\\"options\\\":[\\\"1 month\\\", \\\"2 months\\\", \\\"3 months\\\", \\\"4 months\\\"]},{\\\"question\\\":\\\"What type of internship do you want?\\\",\\\"type\\\":\\\"input\\\",\\\"options\\\":[]},{\\\"question\\\":\\\"What is the field of study?\\\",\\\"type\\\":\\\"input\\\",\\\"options\\\":[]}],\\\"goal_type\\\":\\\"service\\\"}\"\n",
    "                }\n",
    "                ]"
   ]
  },
  {
   "cell_type": "code",
   "execution_count": 40,
   "metadata": {},
   "outputs": [
    {
     "data": {
      "text/plain": [
       "'{\"questions\":[{\"question\":\"What type of car do you want?\",\"type\":\"choice\",\"options\":[\"SUV\", \"Sedan\", \"Truck\", \"Coupe\"]},{\"question\":\"What is the budget for the car?\",\"type\":\"choice\",\"options\":[\"$1000\", \"$2000\", \"$3000\", \"$4000\"]},{\"question\":\"Which brand of car do you prefer?\",\"type\":\"choice\",\"options\":[\"Toyota\", \"Honda\", \"Ford\", \"Chevrolet\"]}],\"goal_type\":\"product\"}'"
      ]
     },
     "execution_count": 40,
     "metadata": {},
     "output_type": "execute_result"
    }
   ],
   "source": [
    "\"{\\\"questions\\\":[{\\\"question\\\":\\\"What type of car do you want?\\\",\\\"type\\\":\\\"choice\\\",\\\"options\\\":[\\\"SUV\\\", \\\"Sedan\\\", \\\"Truck\\\", \\\"Coupe\\\"]},{\\\"question\\\":\\\"What is the budget for the car?\\\",\\\"type\\\":\\\"choice\\\",\\\"options\\\":[\\\"$1000\\\", \\\"$2000\\\", \\\"$3000\\\", \\\"$4000\\\"]},{\\\"question\\\":\\\"Which brand of car do you prefer?\\\",\\\"type\\\":\\\"choice\\\",\\\"options\\\":[\\\"Toyota\\\", \\\"Honda\\\", \\\"Ford\\\", \\\"Chevrolet\\\"]}],\\\"goal_type\\\":\\\"product\\\"}\""
   ]
  },
  {
   "cell_type": "code",
   "execution_count": 42,
   "metadata": {},
   "outputs": [
    {
     "name": "stdout",
     "output_type": "stream",
     "text": [
      "ChatCompletion(id='chatcmpl-8xwitdvOlTvFZKKakmNQVJijlTUXW', choices=[Choice(finish_reason='stop', index=0, logprobs=None, message=ChatCompletionMessage(content='{\"questions\":[{\"question\":\"When do you plan to shift your items from Kochi to Mumbai?\",\"type\":\"date\",\"options\":[]},{\"question\":\"What type of items are you looking to shift?\",\"type\":\"input\",\"options\":[]},{\"question\":\"Do you have any specific preferences for the moving company?\",\"type\":\"choice\",\"options\":[\"Yes\", \"No\"]}],\"goal_type\":\"service\"}', role='assistant', function_call=None, tool_calls=None))], created=1709297775, model='gpt-3.5-turbo-0125', object='chat.completion', system_fingerprint='fp_2b778c6b35', usage=CompletionUsage(completion_tokens=80, prompt_tokens=400, total_tokens=480))\n",
      "Total Tokens:480, Prompt Token 400, Completion Token 80\n",
      "Time Taken: 3.105532169342041 Sec\n",
      "\n",
      "Goal: I want to shift my items from Kochi to mumbai\n",
      "{\n",
      "    \"questions\": [\n",
      "        {\n",
      "            \"question\": \"When do you plan to shift your items from Kochi to Mumbai?\",\n",
      "            \"type\": \"date\",\n",
      "            \"options\": []\n",
      "        },\n",
      "        {\n",
      "            \"question\": \"What type of items are you looking to shift?\",\n",
      "            \"type\": \"input\",\n",
      "            \"options\": []\n",
      "        },\n",
      "        {\n",
      "            \"question\": \"Do you have any specific preferences for the moving company?\",\n",
      "            \"type\": \"choice\",\n",
      "            \"options\": [\n",
      "                \"Yes\",\n",
      "                \"No\"\n",
      "            ]\n",
      "        }\n",
      "    ],\n",
      "    \"goal_type\": \"service\"\n",
      "}\n"
     ]
    }
   ],
   "source": [
    "GOAL = \"I want to shift my items from Kochi to mumbai\"\n",
    "\n",
    "start_time = time.time()\n",
    "\n",
    "response = client.chat.completions.create(\n",
    "  model= \"gpt-3.5-turbo\",\n",
    "  response_format={ \"type\": \"json_object\" },\n",
    "  messages=[\n",
    "    {\"role\": \"system\", \"content\": System_Prompt_question_gen},\n",
    "    *question_gen_few_shot,\n",
    "    {\"role\": \"user\", \"content\": f\"Goal:{GOAL}\"},\n",
    "  ]\n",
    ")\n",
    "\n",
    "end_time = time.time()\n",
    "print(response)\n",
    "\n",
    "print(f'Total Tokens:{response.usage.total_tokens}, Prompt Token {response.usage.prompt_tokens}, Completion Token {response.usage.completion_tokens}')\n",
    "print(f'Time Taken: {end_time - start_time} Sec\\n')\n",
    "\n",
    "response = json.loads(response.choices[0].message.content)\n",
    "print(f\"Goal: {GOAL}\")\n",
    "print(json.dumps(response, indent=4))"
   ]
  },
  {
   "cell_type": "code",
   "execution_count": 30,
   "metadata": {},
   "outputs": [],
   "source": [
    "question_merge_sys_prompt = \"Given the user's goal and the questions asked to the user with its answers, merge the questions into the goal to make it less vague. If the goal is already well described, respond with the goal as it is. Respond in JSON, Format - {\\\"merged_goal\\\":\\\"\\\"}\"\n",
    "\n",
    "question_merge_few_shot = [ {\n",
    "                    \"role\": \"user\",\n",
    "                    \"content\": \"Goal: I want a new car,  Answers: What type of car do you want? - SUV, Which brand of car do you prefer? - Toyota, Location: Oakland, CA\",\n",
    "                },\n",
    "                {\n",
    "                    \"role\": \"system\",\n",
    "                    \"content\": \"{\\\"merged_goal\\\":\\\"I want a new Toyota SUV car in Oakland, CA\\\"}\",\n",
    "                }]"
   ]
  },
  {
   "cell_type": "code",
   "execution_count": 32,
   "metadata": {},
   "outputs": [
    {
     "name": "stdout",
     "output_type": "stream",
     "text": [
      "ChatCompletion(id='chatcmpl-8xozVf2BxXGxoXI35gpJLyizl94rE', choices=[Choice(finish_reason='stop', index=0, logprobs=None, message=ChatCompletionMessage(content='{\"merged_goal\":\"I want to do a 3-month research internship in Microbiology at UC Davis this summer.\"}', role='assistant', function_call=None, tool_calls=None))], created=1709268053, model='gpt-3.5-turbo-0125', object='chat.completion', system_fingerprint='fp_86156a94a0', usage=CompletionUsage(completion_tokens=24, prompt_tokens=177, total_tokens=201))\n",
      "Total Tokens:201, Prompt Token 177, Completion Token 24\n",
      "Time Taken: 1.338939905166626 Sec\n",
      "\n",
      "Goal: I want to do an internship in UC Davis this summer.\n",
      "{\n",
      "    \"merged_goal\": \"I want to do a 3-month research internship in Microbiology at UC Davis this summer.\"\n",
      "}\n"
     ]
    }
   ],
   "source": [
    "GOAL = \"I want to do an internship in UC Davis this summer.\"\n",
    "\n",
    "\n",
    "\n",
    "start_time = time.time()\n",
    "\n",
    "response = client.chat.completions.create(\n",
    "  model= \"gpt-3.5-turbo\",\n",
    "  response_format={ \"type\": \"json_object\" },\n",
    "  messages=[\n",
    "    {\"role\": \"system\", \"content\": question_merge_sys_prompt},\n",
    "    *question_merge_few_shot,\n",
    "    {\"role\": \"user\", \"content\": f\"Goal:{GOAL},Answers: What type of internship do you want? - Research, What is the duration of the internship? - 3 months, What is the field of study? - Microbiology\"},\n",
    "  ]\n",
    ")\n",
    "\n",
    "end_time = time.time()\n",
    "print(response)\n",
    "\n",
    "print(f'Total Tokens:{response.usage.total_tokens}, Prompt Token {response.usage.prompt_tokens}, Completion Token {response.usage.completion_tokens}')\n",
    "print(f'Time Taken: {end_time - start_time} Sec\\n')\n",
    "\n",
    "response = json.loads(response.choices[0].message.content)\n",
    "print(f\"Goal: {GOAL}\")\n",
    "print(json.dumps(response, indent=4))"
   ]
  },
  {
   "cell_type": "code",
   "execution_count": null,
   "metadata": {},
   "outputs": [],
   "source": []
  }
 ],
 "metadata": {
  "kernelspec": {
   "display_name": "llm-env",
   "language": "python",
   "name": "python3"
  },
  "language_info": {
   "codemirror_mode": {
    "name": "ipython",
    "version": 3
   },
   "file_extension": ".py",
   "mimetype": "text/x-python",
   "name": "python",
   "nbconvert_exporter": "python",
   "pygments_lexer": "ipython3",
   "version": "3.12.2"
  }
 },
 "nbformat": 4,
 "nbformat_minor": 2
}
