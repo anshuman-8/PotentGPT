{
 "cells": [
  {
   "cell_type": "code",
   "execution_count": 1,
   "metadata": {},
   "outputs": [
    {
     "name": "stdout",
     "output_type": "stream",
     "text": [
      "client ready\n"
     ]
    }
   ],
   "source": [
    "import os\n",
    "import time \n",
    "from openai import OpenAI\n",
    "import json\n",
    "from dotenv import load_dotenv\n",
    "\n",
    "load_dotenv()\n",
    "\n",
    "MY_ENV_VAR = os.getenv('OPENAI_API_KEY')\n",
    "client = OpenAI(api_key=MY_ENV_VAR)\n",
    "print(\"client ready\")"
   ]
  },
  {
   "cell_type": "code",
   "execution_count": 2,
   "metadata": {},
   "outputs": [],
   "source": [
    "System_Prompt_question_gen = \"Below is the user's goal or task, based on clear understanding give the following in JSON:\\n- List of top(max 5) very important questions for the user with options to improve the goal statement and make the goal less vague. Questions to be asked to remove vagueness and improvement for more clarity for others. Its type can be \\\"choice\\\",  \\\"input\\\" or \\\"date\\\", if input then give options as empty list(but prefer choice over input). Do not ask questions only if it's very well described(respond with empty list for questions). \\n- State weather if it is a product, service or invalid goal (in goal_type). Format - {\\\"questions\\\":[{\\\"question\\\":\\\"\\\",\\\"type\\\":\\\"\\\",\\\"options\\\":[\\\"\\\",\\\"\\\"],},{}],\\\"goal_type\\\":\\\"\\\"}\"\n",
    "\n",
    "question_gen_few_shot = [ {\n",
    "                    \"role\": \"user\",\n",
    "                    \"content\": \"Location: Oakland, CA;\\nGoal: I want a new car\",\n",
    "                },\n",
    "                {\n",
    "                    \"role\": \"system\",\n",
    "                    \"content\": \"{\\\"questions\\\":[{\\\"question\\\":\\\"What type of car do you want?\\\",\\\"type\\\":\\\"choice\\\",\\\"options\\\":[\\\"SUV\\\", \\\"Sedan\\\", \\\"Truck\\\", \\\"Coupe\\\"]},{\\\"question\\\":\\\"What is the budget for the car?\\\",\\\"type\\\":\\\"choice\\\",\\\"options\\\":[\\\"$1000\\\", \\\"$2000\\\", \\\"$3000\\\", \\\"$4000\\\"]},{\\\"question\\\":\\\"Which brand of car do you prefer?\\\",\\\"type\\\":\\\"choice\\\",\\\"options\\\":[\\\"Toyota\\\", \\\"Honda\\\", \\\"Ford\\\", \\\"Chevrolet\\\"]}],\\\"goal_type\\\":\\\"product\\\"}\",\n",
    "                },\n",
    "                {\n",
    "                    \"role\": \"user\",\n",
    "                    \"content\": \"Goal:I want to do an internship in UC Davis in the fiels of Microbiology.\",\n",
    "                },\n",
    "                { \"role\": \"system\",\n",
    "                 \"content\": \"{\\\"questions\\\":[{\\\"question\\\":\\\"What is the duration of the internship?\\\",\\\"type\\\":\\\"choice\\\",\\\"options\\\":[\\\"1 month\\\", \\\"2 months\\\", \\\"3 months\\\", \\\"4 months\\\"]},{\\\"question\\\":\\\"What type of internship do you want?\\\",\\\"type\\\":\\\"choice\\\",\\\"options\\\":[\\\"Paid\\\",\\\"Un-Paid\\\"]},{\\\"question\\\":\\\"What is the field of study?\\\",\\\"type\\\":\\\"input\\\",\\\"options\\\":[]}],\\\"goal_type\\\":\\\"service\\\"}\"\n",
    "                }\n",
    "                ]"
   ]
  },
  {
   "cell_type": "code",
   "execution_count": 3,
   "metadata": {},
   "outputs": [
    {
     "data": {
      "text/plain": [
       "'{\"questions\":[{\"question\":\"What type of car do you want?\",\"type\":\"choice\",\"options\":[\"SUV\", \"Sedan\", \"Truck\", \"Coupe\"]},{\"question\":\"What is the budget for the car?\",\"type\":\"choice\",\"options\":[\"$1000\", \"$2000\", \"$3000\", \"$4000\"]},{\"question\":\"Which brand of car do you prefer?\",\"type\":\"choice\",\"options\":[\"Toyota\", \"Honda\", \"Ford\", \"Chevrolet\"]}],\"goal_type\":\"product\"}'"
      ]
     },
     "execution_count": 3,
     "metadata": {},
     "output_type": "execute_result"
    }
   ],
   "source": [
    "\"{\\\"questions\\\":[{\\\"question\\\":\\\"What type of car do you want?\\\",\\\"type\\\":\\\"choice\\\",\\\"options\\\":[\\\"SUV\\\", \\\"Sedan\\\", \\\"Truck\\\", \\\"Coupe\\\"]},{\\\"question\\\":\\\"What is the budget for the car?\\\",\\\"type\\\":\\\"choice\\\",\\\"options\\\":[\\\"$1000\\\", \\\"$2000\\\", \\\"$3000\\\", \\\"$4000\\\"]},{\\\"question\\\":\\\"Which brand of car do you prefer?\\\",\\\"type\\\":\\\"choice\\\",\\\"options\\\":[\\\"Toyota\\\", \\\"Honda\\\", \\\"Ford\\\", \\\"Chevrolet\\\"]}],\\\"goal_type\\\":\\\"product\\\"}\""
   ]
  },
  {
   "cell_type": "code",
   "execution_count": 4,
   "metadata": {},
   "outputs": [],
   "source": [
    "GOAL = \"Want a chef for an after wedding party\""
   ]
  },
  {
   "cell_type": "code",
   "execution_count": 5,
   "metadata": {},
   "outputs": [
    {
     "name": "stdout",
     "output_type": "stream",
     "text": [
      "ChatCompletion(id='chatcmpl-907qMUTAvGkU9kKGscfMa99tgzbYg', choices=[Choice(finish_reason='stop', index=0, logprobs=None, message=ChatCompletionMessage(content='{\"questions\":[{\"question\":\"How many guests are expected at the after wedding party?\",\"type\":\"choice\",\"options\":[\"Less than 50\",\"50-100\",\"100-150\",\"More than 150\"]},{\"question\":\"What type of cuisine do you prefer for the party?\",\"type\":\"input\",\"options\":[]},{\"question\":\"Do you have any specific dietary restrictions or special requests for the chef to consider?\",\"type\":\"input\",\"options\":[]}],\"goal_type\":\"service\"}', role='assistant', function_call=None, tool_calls=None))], created=1709817178, model='gpt-3.5-turbo-0125', object='chat.completion', system_fingerprint='fp_2b778c6b35', usage=CompletionUsage(completion_tokens=96, prompt_tokens=409, total_tokens=505))\n",
      "Total Tokens:505, Prompt Token 409, Completion Token 96\n",
      "Time Taken: 3.1263108253479004 Sec\n",
      "\n",
      "Goal: Want a chef for an after wedding party\n",
      "{\n",
      "    \"questions\": [\n",
      "        {\n",
      "            \"question\": \"How many guests are expected at the after wedding party?\",\n",
      "            \"type\": \"choice\",\n",
      "            \"options\": [\n",
      "                \"Less than 50\",\n",
      "                \"50-100\",\n",
      "                \"100-150\",\n",
      "                \"More than 150\"\n",
      "            ]\n",
      "        },\n",
      "        {\n",
      "            \"question\": \"What type of cuisine do you prefer for the party?\",\n",
      "            \"type\": \"input\",\n",
      "            \"options\": []\n",
      "        },\n",
      "        {\n",
      "            \"question\": \"Do you have any specific dietary restrictions or special requests for the chef to consider?\",\n",
      "            \"type\": \"input\",\n",
      "            \"options\": []\n",
      "        }\n",
      "    ],\n",
      "    \"goal_type\": \"service\"\n",
      "}\n"
     ]
    }
   ],
   "source": [
    "\n",
    "start_time = time.time()\n",
    "\n",
    "response = client.chat.completions.create(\n",
    "  model= \"gpt-3.5-turbo\",\n",
    "  response_format={ \"type\": \"json_object\" },\n",
    "  messages=[\n",
    "    {\"role\": \"system\", \"content\": System_Prompt_question_gen},\n",
    "    *question_gen_few_shot,\n",
    "    {\"role\": \"user\", \"content\": f\"Goal:{GOAL}\"},\n",
    "  ]\n",
    ")\n",
    "\n",
    "end_time = time.time()\n",
    "print(response)\n",
    "\n",
    "print(f'Total Tokens:{response.usage.total_tokens}, Prompt Token {response.usage.prompt_tokens}, Completion Token {response.usage.completion_tokens}')\n",
    "print(f'Time Taken: {end_time - start_time} Sec\\n')\n",
    "\n",
    "response = json.loads(response.choices[0].message.content)\n",
    "print(f\"Goal: {GOAL}\")\n",
    "print(json.dumps(response, indent=4))"
   ]
  },
  {
   "cell_type": "code",
   "execution_count": 6,
   "metadata": {},
   "outputs": [
    {
     "name": "stdout",
     "output_type": "stream",
     "text": [
      "Asking user the questions\n",
      "\n",
      "Question: How many guests are expected at the after wedding party?\n",
      "Options: ['Less than 50', '50-100', '100-150', 'More than 150']\n",
      "Type: choice\n",
      "\n",
      "\n",
      "Question: What type of cuisine do you prefer for the party?\n",
      "Type: input\n",
      "\n",
      "\n",
      "Question: Do you have any specific dietary restrictions or special requests for the chef to consider?\n",
      "Type: input\n",
      "\n",
      "Q/A: \n",
      " How many guests are expected at the after wedding party? -> 50-100\n",
      " What type of cuisine do you prefer for the party? -> Indian, Europian\n",
      " Do you have any specific dietary restrictions or special requests for the chef to consider? -> no\n",
      "\n"
     ]
    }
   ],
   "source": [
    "\n",
    "improved_goal_answers = \"Q/A: \\n\"\n",
    "\n",
    "# ask user the  with options\n",
    "print(\"Asking user the questions\")\n",
    "for question in response['questions']:\n",
    "    print(f\"\\nQuestion: {question['question']}\")\n",
    "    improved_goal_answers += f\" {question['question']}\"\n",
    "    if question['type'] == \"choice\":\n",
    "        print(f\"Options: {question['options']}\")\n",
    "    print(f\"Type: {question['type']}\")\n",
    "    value = input(\" Answer: \")\n",
    "    improved_goal_answers += f\" -> {value}\\n\"\n",
    "    print(\"\")\n",
    "\n",
    "print(improved_goal_answers)\n"
   ]
  },
  {
   "cell_type": "code",
   "execution_count": 7,
   "metadata": {},
   "outputs": [],
   "source": [
    "question_merge_sys_prompt = \"Given the user's goal and the questions asked to the user with its answers, merge the questions into the goal to make it less vague. If the goal is already well described, respond with the goal as it is. Respond in JSON, Format - {\\\"merged_goal\\\":\\\"\\\"}\"\n",
    "\n",
    "question_merge_few_shot = [ {\n",
    "                    \"role\": \"user\",\n",
    "                    \"content\": \"Goal: I want a new car,  Answers: What type of car do you want? - SUV, Which brand of car do you prefer? - Toyota, Location: Oakland, CA\",\n",
    "                },\n",
    "                {\n",
    "                    \"role\": \"system\",\n",
    "                    \"content\": \"{\\\"merged_goal\\\":\\\"I want a new Toyota SUV car in Oakland, CA\\\"}\",\n",
    "                }]"
   ]
  },
  {
   "cell_type": "code",
   "execution_count": 8,
   "metadata": {},
   "outputs": [
    {
     "name": "stdout",
     "output_type": "stream",
     "text": [
      "ChatCompletion(id='chatcmpl-907rtQTZodTknWi9mY4Yluc9R5Lmx', choices=[Choice(finish_reason='stop', index=0, logprobs=None, message=ChatCompletionMessage(content='{\"merged_goal\":\"Want an Indian or European cuisine chef for an after wedding party with 50-100 guests and no specific dietary restrictions in mind\"}', role='assistant', function_call=None, tool_calls=None))], created=1709817273, model='gpt-3.5-turbo-0125', object='chat.completion', system_fingerprint='fp_2b778c6b35', usage=CompletionUsage(completion_tokens=30, prompt_tokens=195, total_tokens=225))\n",
      "Total Tokens:225, Prompt Token 195, Completion Token 30\n",
      "Time Taken: 1.5962140560150146 Sec\n",
      "\n",
      "Goal: Want a chef for an after wedding party\n",
      "{\n",
      "    \"merged_goal\": \"Want an Indian or European cuisine chef for an after wedding party with 50-100 guests and no specific dietary restrictions in mind\"\n",
      "}\n"
     ]
    }
   ],
   "source": [
    "\n",
    "start_time = time.time()\n",
    "\n",
    "response = client.chat.completions.create(\n",
    "  model= \"gpt-3.5-turbo\",\n",
    "  response_format={ \"type\": \"json_object\" },\n",
    "  messages=[\n",
    "    {\"role\": \"system\", \"content\": question_merge_sys_prompt},\n",
    "    *question_merge_few_shot,\n",
    "    {\"role\": \"user\", \"content\": f\"Goal:{GOAL},{improved_goal_answers}\"},\n",
    "  ]\n",
    ")\n",
    "\n",
    "end_time = time.time()\n",
    "print(response)\n",
    "\n",
    "print(f'Total Tokens:{response.usage.total_tokens}, Prompt Token {response.usage.prompt_tokens}, Completion Token {response.usage.completion_tokens}')\n",
    "print(f'Time Taken: {end_time - start_time} Sec\\n')\n",
    "\n",
    "response = json.loads(response.choices[0].message.content)\n",
    "print(f\"Goal: {GOAL}\")\n",
    "print(json.dumps(response, indent=4))"
   ]
  },
  {
   "cell_type": "code",
   "execution_count": null,
   "metadata": {},
   "outputs": [],
   "source": []
  }
 ],
 "metadata": {
  "kernelspec": {
   "display_name": "llm-env",
   "language": "python",
   "name": "python3"
  },
  "language_info": {
   "codemirror_mode": {
    "name": "ipython",
    "version": 3
   },
   "file_extension": ".py",
   "mimetype": "text/x-python",
   "name": "python",
   "nbconvert_exporter": "python",
   "pygments_lexer": "ipython3",
   "version": "3.12.2"
  }
 },
 "nbformat": 4,
 "nbformat_minor": 2
}
