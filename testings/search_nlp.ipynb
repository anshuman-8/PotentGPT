{
 "cells": [
  {
   "cell_type": "code",
   "execution_count": null,
   "metadata": {},
   "outputs": [],
   "source": [
    "mini_corpus = \"Hey, This week has been crazy. Attached is my report on IBM. Can you give it a quick read and provide some feedback. Also, make sure you reach out to Claire (claire@xyz.com).You're the best. Cheers, George W. 212-555-1234\""
   ]
  },
  {
   "cell_type": "code",
   "execution_count": 1,
   "metadata": {},
   "outputs": [],
   "source": [
    "document = \"\"\"\n",
    "Skip to main content USD Choose your currency. Your current currency is Choose your language. Your current language is English (US) Get help with your reservation List your property Register Sign in Stays Flights Flight + Hotel Car rentals Attractions Airport taxis 5-Star Hotels in Bangalore You expect the best \\u2013 enjoy outstanding service at our 5-star properties Type your destination Error: Enter a destination to start searching. + Check-in + Check-out Calendar I'm flexible Exact dates 1 day 2 days 3 days 7 days How long do you want to stay? A weekend A week A month Other night From Monday From Tuesday From Wednesday From Thursday From Friday From Saturday From Sunday When do you want to go? Select up to 3 months Select dates Rooms and occupancy 2 adults \\u00b7 0 children \\u00b7 1 room Adults - 2 + Children - 0 + Rooms - 1 + Search I'm traveling for work Home Hotels All 5-star hotels India Karnataka Bangalore The 10 Best 5-Star Hotels in Bangalore, India Check out our selection of great 5-star hotels in Bangalore Show hotels on map Filter by: Review Score Wonderful: 9+ Very Good: 8+ Good: 7+ Pleasant: 6+ Our Top Picks Lowest Price First Star rating and price Top Reviewed See the latest prices and deals by choosing your dates. Choose dates The Oberoi Bengaluru MG Road, Bangalore Award-winning gardens with century-old raintrees are featured throughout The Oberoi Bangalore, a 5-star property on the prestigious Mahatma Gandhi Road. Pampering spa treatments and a gym are provided. Personal butlers and room service are available 24 hours. Complimentary WiFi is available in all rooms. Gleb Hong Kong Everything. It takes a lot to write me a review. Usually I do not. But in this concrete case I was just so surprised by the hotel in a positive way, that I had to do so. The service, professionalism, facilities, cleanness, ambience and last but not least value for money, all was exceptional. Show more Show less 9.3 Wonderful 2,188 reviews Price from $145 per night Check availability Hilton Bengaluru Embassy Manyata Business Park Nagavara, Bangalore Set in Bangalore, 7.8 km from Bangalore Palace, Hilton Bengaluru Embassy Manyata Business Park offers accommodation with an outdoor swimming pool, free private parking, a fitness centre and a shared lounge. 8.3 km from Commercial Street and 8.9 km from Chinnaswamy Stadium, the property features a terrace and a bar. There is a sauna, evening entertainment and room service. Sathyanarayan Reddy United States of America Breakfast had good spread and service was very good too. Show more Show less 9.2 Wonderful 114 reviews Price from $139 per night Check availability The Leela Bhartiya City Bengaluru Bangalore Located in Bangalore, 14 km from Commercial Street, The Leela Bhartiya City Bengaluru provides accommodation with free bikes, free private parking, an outdoor swimming pool and a fitness centre. This 5-star hotel offers room service and a concierge service. The accommodation features a 24-hour front desk, airport transfers, a shared lounge and free WiFi. Srinivasa Canada quiet location, awesome breakfast, courteous staff, modern room style and amazing checkin from the room!. Show more Show less 9 Wonderful 496 reviews Price from $113 per night Check availability Four Seasons Hotel Bengaluru at Embassy ONE Bangalore Located within a 10-minute driving distance from Manyata Tech Park and UB City, Four Seasons Hotel Bengaluru, is the nearest luxury hotel to the airport, making it an ideal choice for travellers. The elegantly appointed rooms come with large or French windows with natural sunlight offering Cityscape or Pool views, and are equipped with, a flat-screen TV with satellite channels, an electric tea pot and a coffee machine, and a work desk. Rooms have spacious 5 fixture bathrooms with premium toiletries and hairdryer. Some accommodations at the hotel also feature a separate seating area while some have pool views and private garden access. Saeed Bahakem Saudi Arabia One of the best hotels, everything just amazing You can not ask for more in Bengaluru Room size, facilities, breakfast, services, and beds are very comfortable Show more Show less 9.3 Wonderful 797 reviews Price from $205 per night Check availability Sheraton Grand Bengaluru Whitefield Hotel & Convention Center Bangalore Located in Bengaluru, Sheraton Grand Bengaluru Whitefield Hotel & Convention Center is the best destination for meetings and events. The hotel and convention center, provides guests access to restaurants, bars and multiple meeting venues. Some rooms boast a variety of upgrades, such as charming terraces, exclusive study rooms, and convenient kitchenettes. Ruby New Zealand Everything, the best service I have ever gotten in any hotels I\\u2019ve ever stayed in around the world. Show more Show less 9 Wonderful 217 reviews Price from $169 per night Check availability Radisson Blu Atria Bengaluru Bangalore Offering the facilities and benefits of an outdoor swimming pool and fitness centre, Radisson Blu Atria, Bengaluru is located at a 45-minute drive from Kempegowda International Airport. It is within 2 km from the business and entertainment hubs in the Central Business District. Free WiFi is available. Helena Germany Incredibly attentive staff, so helpful, polite and patient at all times! Show more Show less 8.1 Very Good 1,687 reviews Price from $78 per night Check availability Welcomhotel by ITC Hotels, Richmond Road, Bengaluru MG Road, Bangalore Offering an outdoor pool, a fitness centre and a spa. Welcomhotel by ITC Hotels, Richmond Road, Bengaluru is located in Bangalore, just 37km away from Kempegowda International airport. It operates a 24-hour front desk to welcome guests at all hours. The hotel also offers happy hours at the bar lounge Swizzle. MD HAYAT AL Bangladesh Breakfast was good. Vegetable \\ud83e\\udd66 clear soup was excellent. Location was nice Show more Show less 8.1 Very Good 1,898 reviews Price from $89 per night Check availability ITC Windsor, a Luxury Collection Hotel, Bengaluru Bangalore Set just 3 km away from the business district, ITC Windsor, a Luxury Collection Hotel has 239 rooms 12 suites and one Presidential Suite, Bengaluru Bengaluru offers a spacious outdoor pool, a gym with 24-hour room service, 5 resturants and 1 BAR. Elegantly furnished rooms are fitted with free Wi-Fi. Dineshkumar Qatar The hotel is amazing and you can spend couple of days for a short vacation. Show more Show less 8.2 Very Good 1,159 reviews Price from $86 per night Check availability ITC Gardenia, a Luxury Collection Hotel, Bengaluru Bangalore Boasting an operable helipad and a spacious outdoor swimming pool, ITC Gardenia offers luxurious rooms. Guests can also choose between 6 in-house restaurants and a bar. Located 35 km away from Kempegowda International Airport, just 5.9 km from Bangalore Railway Station, the hotel is also 3.5 km away from the historical Tipu Sultan's Summer Palace. Matt Israel The hotel is beautiful and the level of service is exceptional. Mr. Rosch the duty manager was exceptionally helpful in arranging everything we needed Show more Show less 8.5 Very Good 1,171 reviews Price from $103 per night Check availability The Leela Palace Bengaluru Bangalore Nestled in the midst of lush gardens that spread across 7 acres, The Leela Palace Bangalore features d\\u00e9cor reflecting the grandeur of the bygone era and boasts of facilities such as an outdoor swimming pool, a spa and wellness centre, Yoga studio and 4 award winning food and beverage / dining options. Free private parking is provided. Keshan Australia amazing historical building, incredible staff. Garden was immaculate. loved this place Show more Show less 8.9 Excellent 1,712 reviews Price from $193 per night Check availability All five-star hotels in Bangalore Looking for a 5-star hotel? When the accommodations are just as important as the destination, a 5-star stay promises that extra \\\"wow\\\" factor the second you step into the lobby. Along with the kind of service fit for royalty, you can get pampered at on-site spas, enjoy gourmet restaurants, and sleep in top-of-the-line beds you'll never want to climb out of. Search five-star hotels in Bangalore Most Booked 5-Star Hotels in Bangalore This Month See all Radisson Blu Atria Bengaluru 5-Star Hotel in Bangalore Popular with guests booking 5-star hotels in Bangalore 8.1 Very Good \\u00b7 1687 reviews for 5-star hotel Welcomhotel by ITC Hotels, Richmond Road, Bengaluru 5-Star Hotel in Bangalore Popular with guests booking 5-star hotels in Bangalore 8.1 Very Good \\u00b7 1898 reviews for 5-star hotel The Oberoi Bengaluru 5-Star Hotel in Bangalore Popular with guests booking 5-star hotels in Bangalore 9.3 Wonderful \\u00b7 2190 reviews for 5-star hotel Hyatt Centric MG Road Bangalore 5-Star Hotel in Bangalore Popular with guests booking 5-star hotels in Bangalore 7.8 Good \\u00b7 1225 reviews for 5-star hotel ITC Gardenia, a Luxury Collection Hotel, Bengaluru 5-Star Hotel in Bangalore Popular with guests booking 5-star hotels in Bangalore 8.5 Very Good \\u00b7 1175 reviews for 5-star hotel The Chancery Pavilion 5-Star Hotel in Bangalore Popular with guests booking 5-star hotels in Bangalore 6.7 Pleasant \\u00b7 608 reviews for 5-star hotel The Park Bangalore 5-Star Hotel in Bangalore Popular with guests booking 5-star hotels in Bangalore 7.9 Good \\u00b7 1226 reviews for 5-star hotel Holiday Inn Bengaluru Racecourse, an IHG Hotel 5-Star Hotel in Bangalore Popular with guests booking 5-star hotels in Bangalore 7.4 Good \\u00b7 1347 reviews for 5-star hotel ITC Windsor, a Luxury Collection Hotel, Bengaluru 5-Star Hotel in Bangalore Popular with guests booking 5-star hotels in Bangalore 8.2 Very Good \\u00b7 1159 reviews for 5-star hotel The Leela Bhartiya City Bengaluru 5-Star Hotel in Bangalore Popular with guests booking 5-star hotels in Bangalore 9.0 Wonderful \\u00b7 496 reviews for 5-star hotel Enjoy breakfast in Bangalore! See all The Oberoi Bengaluru Bangalore Breakfast options Award-winning gardens with century-old raintrees are featured throughout The Oberoi Bangalore, a 5-star property on the prestigious Mahatma Gandhi Road. Amazing calm and serene in the middle of city buzz 9.3 Wonderful \\u00b7 2,190 reviews Hilton Bengaluru Embassy Manyata Business Park Bangalore Breakfast options Located in Bangalore, 4.8 miles from Bangalore Palace, Hilton Bengaluru Embassy Manyata Business Park has accommodations with an outdoor swimming pool, free private parking, a fitness center and a... the friendly staffs, great services and large room 9.2 Wonderful \\u00b7 114 reviews Four Seasons Hotel Bengaluru at Embassy ONE Bangalore Breakfast options Four Seasons Hotel Bengaluru at Embassy ONE, centrally located and in close proximity to Tech Parks, Palace Grounds, shopping and entertainment districts, features multiple dining options and an award... Breakfast, location, cleanliness, service,swimpool 9.3 Wonderful \\u00b7 797 reviews Sheraton Grand Bengaluru Whitefield Hotel & Convention Center Bangalore Breakfast options Located in Bengaluru, Sheraton Grand Bengaluru Whitefield Hotel & Convention Center is the best destination for meetings and events. Amazing experience. Food was great, staff were amazing. 9.0 Wonderful \\u00b7 217 reviews Radisson Blu Atria Bengaluru Bangalore Breakfast options Offering the facilities and benefits of an outdoor swimming pool and fitness center, Radisson Blu Atria, Bengaluru is located at a 45-minute drive from Kempegowda International Airport. Spacious room and bath, good breakfast, friendly staff 8.1 Very Good \\u00b7 1,687 reviews Welcomhotel by ITC Hotels, Richmond Road, Bengaluru Bangalore Breakfast options Offering an outdoor pool, a fitness center and a spa. Welcomhotel by ITC Hotels, Richmond Road, Bengaluru is located in Bangalore, just 23 mi away from Kempegowda International airport. Very good and helpful personal ! Highly recommended. 8.1 Very Good \\u00b7 1,898 reviews ITC Windsor, a Luxury Collection Hotel, Bengaluru Bangalore Breakfast options Set just 1.9 mi away from the business district, ITC Windsor, a Luxury Collection Hotel has 239 rooms 12 suites and one Presidential Suite, Bengaluru Bengaluru offers a spacious outdoor pool, a gym... The rooms are very spacious and bathroom is exceptional. 8.2 Very Good \\u00b7 1,159 reviews ITC Gardenia, a Luxury Collection Hotel, Bengaluru Bangalore Breakfast options Boasting an operable helipad and a spacious outdoor swimming pool, ITC Gardenia offers luxurious rooms. Guests can also choose between 6 in-house restaurants and a bar. The ambience, hygiene, food, and the courteous staff 8.5 Very Good \\u00b7 1,175 reviews Great access to the city center! Check these 5-star hotels in Bangalore See all The Leela Bhartiya City Bengaluru Bangalore Central location Located in Bangalore, 8.7 miles from Commercial Street, The Leela Bhartiya City Bengaluru provides accommodations with free bikes, free private parking, an outdoor swimming pool and a fitness center. Well maintained , very courteous, made me feel at home 9.0 Wonderful \\u00b7 496 reviews The Ritz - Carlton, Bangalore Bangalore Central location The Ritz-Carlton, Bangalore is centrally located in the heart of Bangalore in close proximity to the finest in shopping, dining and entertainment experiences. The staff! The people here are friendly, warm and lovely! 8.9 Excellent \\u00b7 268 reviews The Leela Palace Bengaluru Bangalore Central location Nestled in the midst of lush gardens that spread across 7 acres, The Leela Palace Bangalore features d\\u00e9cor reflecting the grandeur of the bygone era and features of facilities such as an outdoor... The originality and beauty of the authentic Indian vibe 8.9 Excellent \\u00b7 1,713 reviews JW Marriott Hotel Bengaluru Prestige Golfshire Resort & Spa Bangalore Central location Located between the international airport and the impressive Nandi Hills in Bangalore, JW Marriott Hotel Bengaluru Prestige Golfshire Resort & Spa is a fully integrated luxury resort. Everything was perfect! I'm coming back here again soon. 8.9 Excellent \\u00b7 192 reviews Greenpark Bengaluru Bangalore Central location Located in Bangalore, 3.4 miles from The Forum, Koramangala, Greenpark Bengaluru has accommodations with an outdoor swimming pool, free private parking, a fitness center and a restaurant. Everything!!! Esp thanks fo Pritam. Excellent support. 8.8 Excellent \\u00b7 144 reviews Aloft Bengaluru Outer Ring Road Bangalore Central location Offering an outdoor swimming pool and a fitness center, Aloft Bengaluru Outer Ring Road is located in Bangalore. Activities like billiards can be enjoyed. The most existing thing here is the Aloft hotel crew 8.8 Excellent \\u00b7 245 reviews Shangri-La Bengaluru Bangalore Central location Located in Bangalore, the garden city of India, the Shangri-La Hotel features an award winning restaurant and 5 specialty alfresco dining options, an outdoor swimming pool and a well-equipped health... The breakfast was outstanding overall veery good food 8.7 Excellent \\u00b7 981 reviews Sheraton Grand Bangalore Hotel at Brigade Gateway Bangalore Central location Featuring skyway access to the World Trade Center and Orion Mall, the city's largest shopping mall, this Sheraton hotel feature 8 food and beverage options, an infinity-edge swimming pool and a 24-... Hotel room was awesome and interior was so beautiful. 8.7 Excellent \\u00b7 485 reviews The Paul Bangalore Bangalore Central location The Paul Bangalore offers 5-star accommodations in the heart of Bangalore, directly opposite Embassy Golf Links Business Park. Good neat rooms, spacious interiors, good amenties 8.7 Excellent \\u00b7 76 reviews Taj MG Road Bengaluru Bangalore Central location Taj MG Road Bengaluru is located in the center of Bangalore's business and entertainment area, within 1.2 mi from the Government Museum. It features an outdoor pool and a spa. I like very much interiyer and bed, Chinese restaurant 8.6 Excellent \\u00b7 686 reviews Renaissance Bengaluru Race Course Hotel Bangalore Central location Located in the heart of Bengaluru Renaissance Bengaluru Race Course Hotel is a 5 star lifestyle property by Marriott International. Amazing staff, great location, nice breakfast, excellent spa 8.6 Excellent \\u00b7 333 reviews Oakwood Residence Whitefield Bangalore Bangalore Central location Offering an outdoor swimming pool and a fitness center, Oakwood Residence Whitefield Bangalore offers self-catering accommodations opposite to Columbia Hospital. Free WiFi is available. Nice comfy appartment with fully functional kitchen 8.6 Excellent \\u00b7 304 reviews Brahmi Resort Bangalore Central location Located in Bangalore, 24 miles from Yeswanthpur Train Station, Brahmi Resort has accommodations with free bikes, free private parking, an outdoor swimming pool and a fitness center. The staff were wonderful and the food was so good! 8.6 Excellent \\u00b7 43 reviews Grand Mercure Bengaluru at Gopalan Mall - An Accor Brand Bangalore Central location Located in Bangalore, 4.3 miles from Commercial Street, Grand Mercure Bengaluru at Gopalan Mall - An Accor Brand provides accommodations with a fitness center, free private parking, a garden and a... Good hotel High quality Good staff Great location 8.5 Very Good \\u00b7 986 reviews Courtyard by Marriott Bengaluru Outer Ring Road Bangalore Central location Courtyard by Marriott Bengaluru Outer Ring Road is located in Bangalore, 1.9 mi from The Heritage Center & Aerospace Museum. Guests can enjoy the on-site restaurant. Never seen more friendly and helpful staff as here! 8.5 Very Good \\u00b7 135 reviews BLVD Club Bangalore Central location BLVD Club has an outdoor swimming pool, garden, a restaurant and bar in Bangalore. With free WiFi, this 5-star hotel offers a kids' club and a 24-hour front desk. Loved the ambience and the location and the peace. 8.5 Very Good \\u00b7 82 reviews Taj West End Bangalore Central location Spread over 20 acres of landscaped gardens, this city retreat is located in central Bangalore next to Bangalore Golf Club. everything . it\\u2019s a beautifully managed property \\ud83d\\udc4d 8.5 Very Good \\u00b7 555 reviews Hilton Bangalore Embassy GolfLinks Bangalore Central location Located within Embassy Golf Links Business Park, Hilton Bangalore Embassy GolfLinks offers rooms overlooking the temperature controlled outdoor pool and golf course. I liked location, personal, cleanliness and accomodation 8.4 Very Good \\u00b7 394 reviews JW Marriott Hotel Bengaluru Bangalore Central location The JW Marriott Bengaluru offers a 24-hour front desk, free Wi-Fi throughout the property and is home to 3 dining options, a fitness center, an outdoor swimming pool, a spa, wellness center and... It was super great breakfast and location is amazing 8.3 Very Good \\u00b7 305 reviews Conrad Bengaluru Ulsoor, Bangalore Central location Ideally located 1640 feet from MG Road, Conrad Bengaluru is located in the heart of the central business district. Room location, staff friendliness and professionalism 8.3 Very Good \\u00b7 878 reviews Courtyard by Marriott Bengaluru Hebbal Bangalore Central location Courtyard by Marriott Bengaluru Hebbal features a restaurant, outdoor swimming pool, a fitness center and bar in Bangalore. This 5-star hotel offers a concierge service and valet parking. buffet restaurant, gym pool roof, comfortable and quite rooms 8.3 Very Good \\u00b7 517 reviews Bengaluru Marriott Hotel Whitefield Bangalore Central location Discover Bengaluru Marriott Hotel Whitefield, a perfect blend of contemporary style and warm hospitality. phenomenal property, great staff and fantastic food 8.3 Very Good \\u00b7 342 reviews Oakwood Premier Prestige Bangalore Bangalore Central location Oakwood Premier Prestige is located in the heart of Bangalore City Center, 1969 feet from MG Road commercial district. It features a spa and outdoor pool. Well appointed comfortable rooms in a good location 8.2 Very Good \\u00b7 753 reviews La Marvella, Bengaluru Bangalore Central location Conveniently located in the heart of city on South End Circle, La Marvella, Bengaluru provides easy access Top multinational companies in its neighborhood such as Accenture, NTT Data, Dassault System,... Big room for comfortable stay. all hygienics available 8.2 Very Good \\u00b7 408 reviews Grand Mercure Bangalore - An Accor Brand Bangalore Central location Located in Koramangala, Bangalore, Grand Mercure offers extended stay and business travel accommodations with kitchens, living areas and private balcony. The staff, the food, the ambience and the quietness 8.2 Very Good \\u00b7 499 reviews The Den, Bengaluru Bangalore Central location The Den provides air-conditioned rooms in Bangalore. Featuring a 24-hour front desk, this property also provides guests with a restaurant. The choice of food was excellent for all the meals. 8.2 Very Good \\u00b7 242 reviews The Oterra Bangalore Central location Located in the heart of Electronics City, The Oterra Bengaluru offers guests sophistication, first-rate hospitality, easy connectivity and enviable comfort. Very complete breakfast buffet with an outstanding service. 8.2 Very Good \\u00b7 291 reviews Mulberry Shades Bengaluru Nandi Hills - a Tribute Portfolio Resort Bangalore Central location Mulberry Shades Bengaluru Nandi Hills - a Tribute Portfolio Resort has an outdoor swimming pool, fitness center, a garden and restaurant in Bangalore. This 5-star hotel offers a bar. Staff were courteous with great attractive property. 8.2 Very Good \\u00b7 65 reviews Traveling by car? These 5-star hotels in Bangalore offer free parking! See all Holiday Inn Bengaluru Racecourse, an IHG Hotel Bangalore Free parking Conveniently located along Sheshadri Road across Bangalore turf club, Holiday Inn Bengaluru Racecourse overlooks the Bangalore Turf Club ensuring great views. The breakfast and the staff was so polite and nice 7.4 Good \\u00b7 1,347 reviews Hyatt Centric MG Road Bangalore Ulsoor, Bangalore Free parking The modern lifestyle 5 star hotel, Hyatt Centric MG Road Bangalore is located in the heart of Bangalore, also known as India's Silicon Valley overlooking Ulsoor Lake and the cityscape. Excellent Location, access to all prominent areas... 7.8 Good \\u00b7 1,225 reviews The Park Bangalore Bangalore Free parking The Park Bangalore Hotel is located off M G Road, the exciting business and shopping area of the Garden City. This boutique hotel offers a 24-hour restaurant, a spa, and a pool. I like everything. There is a no complaint about my stay. 7.9 Good \\u00b7 1,226 reviews Crown Inn Bangalore Free parking Located in Bangalore, within a 11-minute walk of Bangalore City Train Station and 2.2 miles of Bull Temple, Crown Inn has accommodations with a shared lounge and free WiFi throughout the property as... Staff is very help full good clean room good service 6.1 Pleasant \\u00b7 283 reviews Vividus Bangalore Free parking Located a 19-minute walk from Indira Gandhi Musical Fountain Park, Vividus offers 5-star accommodations in Bangalore and has an outdoor swimming pool, a fitness center and a bar. The ambience in the room and ambience of the hotel. 7.3 Good \\u00b7 433 reviews DoubleTree Suites by Hilton Bangalore Bangalore Free parking DoubleTree Suites by Hilton Bangalore offers easy access to Bangalore\\u2019s business district of Marathahalli-Bellandur-Sarjapur Outer Ring Road. The spread was good & staff was pretty courteous. 7.9 Good \\u00b7 749 reviews Sterlings Mac Hotel Bangalore Free parking Sterlings Mac Hotel is located about 1.9 mi from the Aerospace Museum. Guests can enjoy free WiFi, an outdoor pool as well as pampering spa treatments and a 24-hour business center. Parking is free. My all Tym favourite property .every thing is good 7.5 Good \\u00b7 577 reviews Gokulam Grand Hotel & Spa Bangalore Bangalore Free parking Gokulam Grand Hotel & Spa Bangalore is located near the BEL Circle, just 1.2 mi from Indian Institute of Science. It offers an outdoor pool and fitness center. Everything was fine & comfortable. We enjoyed it. 7.1 Good \\u00b7 848 reviews FAQ about 5-star hotels in Bangalore How much does it cost to stay at a 5-star hotel in Bangalore? On average, a 5-star hotel in Bangalore costs $144 per night (based on Booking.com prices). How much is a 5-star hotel in Bangalore for this weekend? The average price per night for a 5-star hotel in Bangalore this weekend is $138 (based on Booking.com prices). How much would a 5-star hotel in Bangalore cost tonight? The average price of a 5-star hotel in Bangalore this evening is $144 (based on Booking.com prices). Which 5-star hotels in Bangalore are good for families? Many families visiting Bangalore enjoyed staying at Four Seasons Hotel Bengaluru at Embassy ONE , The Oberoi Bengaluru , and Hilton Bengaluru Embassy Manyata Business Park . What are the best 5-star hotels in Bangalore near Brigade Road? Some of the best 5-star hotels in Bangalore near Brigade Road include The Ritz - Carlton, Bangalore , The Oberoi Bengaluru , and ITC Gardenia, a Luxury Collection Hotel, Bengaluru . What are some of the best 5-star hotels for stays in Bangalore? The Oberoi Bengaluru , Four Seasons Hotel Bengaluru at Embassy ONE , and Hilton Bengaluru Embassy Manyata Business Park are some of our most popular 5-star hotels in Bangalore. Which 5-star hotels in Bangalore offer great breakfasts? For 5-star hotels in Bangalore serving highly-rated breakfasts, try The Leela Bhartiya City Bengaluru , The Ritz - Carlton, Bangalore , and Four Seasons Hotel Bengaluru at Embassy ONE . Which 5-star hotels in Bangalore are good for couples? These 5-star hotels in Bangalore are highly rated by couples: The Oberoi Bengaluru , Four Seasons Hotel Bengaluru at Embassy ONE , and The Ritz - Carlton, Bangalore . What 5-star hotels in Bangalore have nice views? Hilton Bengaluru Embassy Manyata Business Park , The Oberoi Bengaluru , and Aloft Bengaluru Outer Ring Road have received great reviews from guests in Bangalore about the views from these 5-star hotels. 5-star Hotels That Guests Love in Bangalore See all Collection O G Silver Polonest 5-Star Hotel in Bangalore Avg. price/night: $39.15 9.2 Wonderful \\u00b7 117 reviews Indulging in the luxury offered by Polonest was an unforgettable experience. The upscale ambiance and lavish decor created a setting of pure opulence. Every detail, from the decadent rooms to the premium amenities, showcased a commitment to providing a luxurious retreat. The attentive staff's dedication to ensuring my comfort and satisfaction added an extra layer of indulgence to my stay. Polonest has truly mastered the art of luxury hospitality, and I can't wait to bask in its opulence again M Mohit Group Tristar Serviced Apartments 5-Star Hotel in Bangalore Avg. price/night: $47.28 8.0 Very Good \\u00b7 143 reviews The staff were exceptionally efficient. The front desk assistant helped us get a taxi within 2 mins. The cook arranged our breakfast out of serving time. We appreciate the help from the front desk staff who assisted us in contacting the airport to get our bag. 5 stars to you all. The staff ensured we were comfortable all the time. The food was excellent. Thanks to the chef. Moodley Young couple FabHotel Park Inn Indiranagar 5-Star Hotel in Bangalore Avg. price/night: $40.68 8.7 Excellent \\u00b7 842 reviews Service personnel was fantastic though. 5 stars for them. S Stefan Solo traveler The Zuri Whitefield Bengaluru 5-Star Hotel in Bangalore Avg. price/night: $115.06 8.2 Very Good \\u00b7 348 reviews The hotel has one of the best rooms, great services and amazing food. The rooms were awesome and I would say better than many other 5-7 star hotels. We were very happy with our stay at the hotel. I gave 5 stars for location because I chose the location, people giving less rating must know that they chose the location before the booking so why do they give less stars for the location. Sanskriti Young couple Olive Indiranagar - By Embassy Group 5-Star Hotel in Bangalore Avg. price/night: $45.97 7.7 Good \\u00b7 1,335 reviews I had a wonderful stay at the hotel. The room was comfortable, and the staff was incredibly helpful throughout my stay. Upon departure, I accidentally left behind a teddy bear. Thankfully, Ahmed from the hotel called me promptly and informed me about it. I really appreciate their honesty and efficiency. I highly recommend this hotel for its excellent service and caring staff. 5 stars! \\ud83c\\udf1f M Mehak Young couple Welcomhotel by ITC Hotels, Richmond Road, Bengaluru 5-Star Hotel in Bangalore Avg. price/night: $148.01 8.1 Very Good \\u00b7 1,898 reviews The staff above all of kitchen and restaurant save the situation. They can not be better. Thanks to them we could have a smile during breakfast. Only those staff members are fit for a 5 stars hotel. I hope they soon find a job in a real 5 stars hotel. Again thanks to Ankush and Girish. They were fantastic. See their photos down there. marie doris felix Family with young children Country Inn & Suites By Radisson, Bengaluru Hebbal Road 5-Star Hotel in Bangalore Avg. price/night: $81.05 6.3 Pleasant \\u00b7 598 reviews The location is excellent ,not very far from Airport.Breakfast was okay but property is 3.5 stars like with limited facilities.Only 1 restaurant operational ,2nd under renovation.Interiors of Lobby ,etc are very normal not like a 4 star hotel HUTCHALOK Group The Oberoi Bengaluru 5-Star Hotel in Bangalore Avg. price/night: $327.34 9.3 Wonderful \\u00b7 2,190 reviews Exceptional service, a truly unique experience today's world of sub-par 5 stars. The Oberoi experience differentiates itself by paying significant attention to the finer details and being completely service oriented. A short stay also has a lasting positive impact on one's mind VeerShah Solo traveler Bloom Hotel - Bengaluru Airport 5-Star Hotel in Devanahalli-Bangalore Avg. price/night: $74.30 8.3 Very Good \\u00b7 745 reviews Superb hotel. Could easily be a five stars hotel. Room is simply fantastic. The bed is by far the best and most comfortable bed I've ever slept in in India, including 5 stars hotels. Excellent Washroom. Room is very spacious and well equipped. Free unlimited mineral water, coffee and tea. Early check in and late check out in very reasonable pricing. Nearby restaurants, shops and bakeries. 5 minutes drive from the airport, perfect for a night stay or more. Actually, perfect in all aspects. Roni Solo traveler Oakwood Premier Prestige Bangalore 5-Star Hotel in Bangalore Avg. price/night: $284.64 8.2 Very Good \\u00b7 753 reviews I give the staff 5 stars. Staff like Himanshi, Sunil, Chandrima and Gaurav were extraordinary. These are the people that make your property great by delivering exceptional service to guests, which will keep bringing them back. C shekar Solo traveler Research, refine, and make plans for your whole trip Hotels in Indiranagar Explore Bangalore while getting to know one of the city's most popular neighborhoods. Hotels in Koramangala Get to know one of the city's most popular neighborhoods. 5-Star Hotels in Mysore Try another destination popular with our guests. 5-Star Hotels in Chennai Try another destination popular with our guests. Hotels in Bangalore More great accommodation options for your trip. Serviced apartments in Bangalore More great accommodation options for your trip. Hostels in Bangalore Explore more great accommodation options in Bangalore, starting with hostels. 5-Star Hotels in Devanhalli Find more hotels in a city close to Devanahalli-Bangalore. 5-Star Hotels in Yelahanka Find more hotels in a city close to Yelahanka. Car rental in Bangalore Rent a car and hit the road. 5-Star Hotels in Mumbai Discover another destination in India. 5-Star Hotels in New Delhi Discover another destination in India. Hotels near SBC - Bangalore City Train Station Book a hotel close to SBC - Bangalore City Train Station, perfect for easy access to local transit links. 5-Star Hotels in Karnataka Extend your search and explore the surrounding area. 5-Star Hotels in South Zone Extend your search and explore the surrounding area. Hotels near Kempegowda International Airport Perfect for a late arrival or early departure. Flights to Bangalore Find and compare prices for this popular flight route. Flights from New York to Bangalore Find and compare the best flights. Hotels near Bangalore International Exhibition Center - BIEC Search and compare hotels close to Bangalore International Exhibition Center - BIEC, a popular destination just outside Bangalore. Hotels near Wonderla Hotels close to a popular local landmark. Cheap vacations in Bangalore Book the best flights, stays, and more \\u2013 all in one place Hotels near NIMHANS Hospital Places to stay near one of the top places to see. 5-Star Hotels in India Pack a bigger bag and see more of the country. List your property Mobile version Your account Make changes online to your booking Customer Service Help Become an affiliate Booking.com for Business Countries Regions Cities Districts Airports Hotels Places of interest Homes Apartments Resorts Villas Hostels B&Bs Guest houses Unique places to stay Reviews Discover monthly stays Unpacked: Travel articles Seasonal and holiday deals Traveller Review Awards Car rental Flight finder Restaurant reservations Booking.com for Travel Agents Coronavirus (COVID-19) FAQs About Booking.com Customer Service Help Partner help Careers Sustainability Press Center Safety Resource Center Investor relations Terms & Conditions Partner dispute How We Work Privacy & cookie statement MSA statement Corporate contact Content guidelines and reporting Extranet Log-in Copyright \\u00a9 1996\\u20132024 Booking.com\\u2122. All rights reserved. Booking.com is part of Booking Holdings Inc., the world leader in online travel and related services. Start of dialog content Verified reviews from real guests. We have more than 70 million property reviews, all from real, verified guests . How does it work? 1 It starts with a booking It starts with a booking The only way to leave a review is to first make a booking. That's how we know our reviews come from real guests who have stayed at the property. 2 Followed by a trip Followed by a trip When guests stay at the property, they check out how quiet the room is, how friendly the staff is, and more. 3 And finally, a review And finally, a review After their trip, guests tell us about their stay. We check for naughty words and verify the authenticity of all guest reviews before adding them to our site. If you booked through us and want to leave a review, please sign in first. Sign in and leave a review End of dialog content Check-in date Check-out date \\u00ab \\u00bb Su Mo Tu We Th Fr Sa Close calendar Sign in to continue Sign in to your account or use one of these options Don't have an account yet? Create your account 1915070,1932480,1932480|1,1931140\n",
    "\"\"\""
   ]
  },
  {
   "cell_type": "code",
   "execution_count": 8,
   "metadata": {},
   "outputs": [],
   "source": [
    "document2 = \"\"\"\n",
    "Taj Yeshwantpur Bengaluru Overview Guest Rooms Dining Offers J Wellness Circle Event Spaces Gallery Experiences Local Area More Dining Offers J Wellness Circle Event Spaces Gallery Experiences Local Area Previous / Next Taj Yeshwantpur 5 Star Hotel in Bangalore near Yeshwantpur 2275, Tumkur Road, Yeshwantpur, Bengaluru, Karnataka, 560022, India [Contact:(tel:+91 80)] [Contact:(tel:+91 80)] [Contact:(tel:+91 806690 0111 /For Reservation Details: +91 080-64804425)] +91 80-6690 0111 /For Reservation Details: +91 080-64804425 [Contact:(tel:+91 806690 0111 /For Reservation Details: +91 080-64804425)] +91 80-6690 0111 /For Reservation Details: +91 080-64804425 [Contact:(mailto:yeshwantpur.bengaluru@tajhotels.com, reservations.karnataka@ihcltata.com)] [Contact:(mailto:yeshwantpur.bengaluru@tajhotels.com, reservations.karnataka@ihcltata.com)] yeshwantpur.bengaluru@tajhotels.com, reservations.karnataka@ihcltata.com [Contact:(mailto:yeshwantpur.bengaluru@tajhotels.com, reservations.karnataka@ihcltata.com)] About Taj Yeshwantpur, Bengaluru The legacy of Bengaluru swells with pride and with good reason. Once a stronghold for the British, it has evolved from town to city to megacity and now, India\\u2019s Silicon Valley. The Taj Yeshwantpur, Bengaluru complements the city\\u2019s appetite for success with a vibrant unison of intelligent work environment, luxurious spaces and intuitive services. 327 well-appointed rooms and luxury suites at our 5 star hotel in Bangalore take every measure to ensure that no requirement is unmet. The business traveller will find its supreme services conducive to every meeting or communication. The leisure traveller will find abundant fascination in the recreational opportunities such as guided walking tours, shopping, prominent cultural landmarks such as The National Gallery of Modern Art and the Aeronautical Museum, colonial architecture and prominent art galleries. Whether it\\u2019s the show stopping lobby or the striking stairway swirling around the chic chandelier that welcomes you, every inch distinctly reflects the Taj and what it stands for. Location-wise, this 5 star luxury hotel is 35 minutes by road from the international airport, minutes away from Yeshwantpur Railway Terminus, and a few steps away from the metro terminus. In fact, it is nestled amidst everything that\\u2019s fantastic about Bengaluru. This strategic location\n",
    "\"\"\""
   ]
  },
  {
   "cell_type": "code",
   "execution_count": 9,
   "metadata": {},
   "outputs": [],
   "source": [
    "import nltk\n",
    "from nltk.corpus import stopwords\n",
    "stop = stopwords.words('english')"
   ]
  },
  {
   "cell_type": "code",
   "execution_count": 11,
   "metadata": {},
   "outputs": [],
   "source": [
    "document = document2.encode('utf-8', errors='ignore').decode('utf-8')"
   ]
  },
  {
   "cell_type": "code",
   "execution_count": 12,
   "metadata": {},
   "outputs": [
    {
     "ename": "LookupError",
     "evalue": "\n**********************************************************************\n  Resource \u001b[93mmaxent_ne_chunker\u001b[0m not found.\n  Please use the NLTK Downloader to obtain the resource:\n\n  \u001b[31m>>> import nltk\n  >>> nltk.download('maxent_ne_chunker')\n  \u001b[0m\n  For more information see: https://www.nltk.org/data.html\n\n  Attempted to load \u001b[93mchunkers/maxent_ne_chunker/PY3/english_ace_multiclass.pickle\u001b[0m\n\n  Searched in:\n    - '/Users/anshuman/nltk_data'\n    - '/Users/anshuman/miniconda3/envs/deepLearning/nltk_data'\n    - '/Users/anshuman/miniconda3/envs/deepLearning/share/nltk_data'\n    - '/Users/anshuman/miniconda3/envs/deepLearning/lib/nltk_data'\n    - '/usr/share/nltk_data'\n    - '/usr/local/share/nltk_data'\n    - '/usr/lib/nltk_data'\n    - '/usr/local/lib/nltk_data'\n    - ''\n**********************************************************************\n",
     "output_type": "error",
     "traceback": [
      "\u001b[0;31m---------------------------------------------------------------------------\u001b[0m",
      "\u001b[0;31mLookupError\u001b[0m                               Traceback (most recent call last)",
      "Cell \u001b[0;32mIn[12], line 12\u001b[0m\n\u001b[1;32m      9\u001b[0m                 persons\u001b[38;5;241m.\u001b[39mappend(\u001b[38;5;124m'\u001b[39m\u001b[38;5;124m \u001b[39m\u001b[38;5;124m'\u001b[39m\u001b[38;5;241m.\u001b[39mjoin([token[\u001b[38;5;241m0\u001b[39m] \u001b[38;5;28;01mfor\u001b[39;00m token \u001b[38;5;129;01min\u001b[39;00m chunk]))\n\u001b[1;32m     10\u001b[0m     \u001b[38;5;28;01mreturn\u001b[39;00m persons\n\u001b[0;32m---> 12\u001b[0m persons \u001b[38;5;241m=\u001b[39m \u001b[43mget_persons\u001b[49m\u001b[43m(\u001b[49m\u001b[43mdocument\u001b[49m\u001b[43m)\u001b[49m\n\u001b[1;32m     13\u001b[0m \u001b[38;5;28mprint\u001b[39m(persons)\n",
      "Cell \u001b[0;32mIn[12], line 7\u001b[0m, in \u001b[0;36mget_persons\u001b[0;34m(document)\u001b[0m\n\u001b[1;32m      5\u001b[0m persons \u001b[38;5;241m=\u001b[39m []\n\u001b[1;32m      6\u001b[0m \u001b[38;5;28;01mfor\u001b[39;00m sent \u001b[38;5;129;01min\u001b[39;00m nltk\u001b[38;5;241m.\u001b[39msent_tokenize(document):\n\u001b[0;32m----> 7\u001b[0m     \u001b[38;5;28;01mfor\u001b[39;00m chunk \u001b[38;5;129;01min\u001b[39;00m \u001b[43mnltk\u001b[49m\u001b[38;5;241;43m.\u001b[39;49m\u001b[43mne_chunk\u001b[49m\u001b[43m(\u001b[49m\u001b[43mnltk\u001b[49m\u001b[38;5;241;43m.\u001b[39;49m\u001b[43mpos_tag\u001b[49m\u001b[43m(\u001b[49m\u001b[43mnltk\u001b[49m\u001b[38;5;241;43m.\u001b[39;49m\u001b[43mword_tokenize\u001b[49m\u001b[43m(\u001b[49m\u001b[43msent\u001b[49m\u001b[43m)\u001b[49m\u001b[43m)\u001b[49m\u001b[43m)\u001b[49m:\n\u001b[1;32m      8\u001b[0m         \u001b[38;5;28;01mif\u001b[39;00m \u001b[38;5;28misinstance\u001b[39m(chunk, Tree) \u001b[38;5;129;01mand\u001b[39;00m chunk\u001b[38;5;241m.\u001b[39mlabel() \u001b[38;5;241m==\u001b[39m \u001b[38;5;124m'\u001b[39m\u001b[38;5;124mPERSON\u001b[39m\u001b[38;5;124m'\u001b[39m:\n\u001b[1;32m      9\u001b[0m             persons\u001b[38;5;241m.\u001b[39mappend(\u001b[38;5;124m'\u001b[39m\u001b[38;5;124m \u001b[39m\u001b[38;5;124m'\u001b[39m\u001b[38;5;241m.\u001b[39mjoin([token[\u001b[38;5;241m0\u001b[39m] \u001b[38;5;28;01mfor\u001b[39;00m token \u001b[38;5;129;01min\u001b[39;00m chunk]))\n",
      "File \u001b[0;32m~/miniconda3/envs/deepLearning/lib/python3.11/site-packages/nltk/chunk/__init__.py:183\u001b[0m, in \u001b[0;36mne_chunk\u001b[0;34m(tagged_tokens, binary)\u001b[0m\n\u001b[1;32m    181\u001b[0m \u001b[38;5;28;01melse\u001b[39;00m:\n\u001b[1;32m    182\u001b[0m     chunker_pickle \u001b[38;5;241m=\u001b[39m _MULTICLASS_NE_CHUNKER\n\u001b[0;32m--> 183\u001b[0m chunker \u001b[38;5;241m=\u001b[39m \u001b[43mload\u001b[49m\u001b[43m(\u001b[49m\u001b[43mchunker_pickle\u001b[49m\u001b[43m)\u001b[49m\n\u001b[1;32m    184\u001b[0m \u001b[38;5;28;01mreturn\u001b[39;00m chunker\u001b[38;5;241m.\u001b[39mparse(tagged_tokens)\n",
      "File \u001b[0;32m~/miniconda3/envs/deepLearning/lib/python3.11/site-packages/nltk/data.py:750\u001b[0m, in \u001b[0;36mload\u001b[0;34m(resource_url, format, cache, verbose, logic_parser, fstruct_reader, encoding)\u001b[0m\n\u001b[1;32m    747\u001b[0m     \u001b[38;5;28mprint\u001b[39m(\u001b[38;5;124mf\u001b[39m\u001b[38;5;124m\"\u001b[39m\u001b[38;5;124m<<Loading \u001b[39m\u001b[38;5;132;01m{\u001b[39;00mresource_url\u001b[38;5;132;01m}\u001b[39;00m\u001b[38;5;124m>>\u001b[39m\u001b[38;5;124m\"\u001b[39m)\n\u001b[1;32m    749\u001b[0m \u001b[38;5;66;03m# Load the resource.\u001b[39;00m\n\u001b[0;32m--> 750\u001b[0m opened_resource \u001b[38;5;241m=\u001b[39m \u001b[43m_open\u001b[49m\u001b[43m(\u001b[49m\u001b[43mresource_url\u001b[49m\u001b[43m)\u001b[49m\n\u001b[1;32m    752\u001b[0m \u001b[38;5;28;01mif\u001b[39;00m \u001b[38;5;28mformat\u001b[39m \u001b[38;5;241m==\u001b[39m \u001b[38;5;124m\"\u001b[39m\u001b[38;5;124mraw\u001b[39m\u001b[38;5;124m\"\u001b[39m:\n\u001b[1;32m    753\u001b[0m     resource_val \u001b[38;5;241m=\u001b[39m opened_resource\u001b[38;5;241m.\u001b[39mread()\n",
      "File \u001b[0;32m~/miniconda3/envs/deepLearning/lib/python3.11/site-packages/nltk/data.py:876\u001b[0m, in \u001b[0;36m_open\u001b[0;34m(resource_url)\u001b[0m\n\u001b[1;32m    873\u001b[0m protocol, path_ \u001b[38;5;241m=\u001b[39m split_resource_url(resource_url)\n\u001b[1;32m    875\u001b[0m \u001b[38;5;28;01mif\u001b[39;00m protocol \u001b[38;5;129;01mis\u001b[39;00m \u001b[38;5;28;01mNone\u001b[39;00m \u001b[38;5;129;01mor\u001b[39;00m protocol\u001b[38;5;241m.\u001b[39mlower() \u001b[38;5;241m==\u001b[39m \u001b[38;5;124m\"\u001b[39m\u001b[38;5;124mnltk\u001b[39m\u001b[38;5;124m\"\u001b[39m:\n\u001b[0;32m--> 876\u001b[0m     \u001b[38;5;28;01mreturn\u001b[39;00m \u001b[43mfind\u001b[49m\u001b[43m(\u001b[49m\u001b[43mpath_\u001b[49m\u001b[43m,\u001b[49m\u001b[43m \u001b[49m\u001b[43mpath\u001b[49m\u001b[43m \u001b[49m\u001b[38;5;241;43m+\u001b[39;49m\u001b[43m \u001b[49m\u001b[43m[\u001b[49m\u001b[38;5;124;43m\"\u001b[39;49m\u001b[38;5;124;43m\"\u001b[39;49m\u001b[43m]\u001b[49m\u001b[43m)\u001b[49m\u001b[38;5;241m.\u001b[39mopen()\n\u001b[1;32m    877\u001b[0m \u001b[38;5;28;01melif\u001b[39;00m protocol\u001b[38;5;241m.\u001b[39mlower() \u001b[38;5;241m==\u001b[39m \u001b[38;5;124m\"\u001b[39m\u001b[38;5;124mfile\u001b[39m\u001b[38;5;124m\"\u001b[39m:\n\u001b[1;32m    878\u001b[0m     \u001b[38;5;66;03m# urllib might not use mode='rb', so handle this one ourselves:\u001b[39;00m\n\u001b[1;32m    879\u001b[0m     \u001b[38;5;28;01mreturn\u001b[39;00m find(path_, [\u001b[38;5;124m\"\u001b[39m\u001b[38;5;124m\"\u001b[39m])\u001b[38;5;241m.\u001b[39mopen()\n",
      "File \u001b[0;32m~/miniconda3/envs/deepLearning/lib/python3.11/site-packages/nltk/data.py:583\u001b[0m, in \u001b[0;36mfind\u001b[0;34m(resource_name, paths)\u001b[0m\n\u001b[1;32m    581\u001b[0m sep \u001b[38;5;241m=\u001b[39m \u001b[38;5;124m\"\u001b[39m\u001b[38;5;124m*\u001b[39m\u001b[38;5;124m\"\u001b[39m \u001b[38;5;241m*\u001b[39m \u001b[38;5;241m70\u001b[39m\n\u001b[1;32m    582\u001b[0m resource_not_found \u001b[38;5;241m=\u001b[39m \u001b[38;5;124mf\u001b[39m\u001b[38;5;124m\"\u001b[39m\u001b[38;5;130;01m\\n\u001b[39;00m\u001b[38;5;132;01m{\u001b[39;00msep\u001b[38;5;132;01m}\u001b[39;00m\u001b[38;5;130;01m\\n\u001b[39;00m\u001b[38;5;132;01m{\u001b[39;00mmsg\u001b[38;5;132;01m}\u001b[39;00m\u001b[38;5;130;01m\\n\u001b[39;00m\u001b[38;5;132;01m{\u001b[39;00msep\u001b[38;5;132;01m}\u001b[39;00m\u001b[38;5;130;01m\\n\u001b[39;00m\u001b[38;5;124m\"\u001b[39m\n\u001b[0;32m--> 583\u001b[0m \u001b[38;5;28;01mraise\u001b[39;00m \u001b[38;5;167;01mLookupError\u001b[39;00m(resource_not_found)\n",
      "\u001b[0;31mLookupError\u001b[0m: \n**********************************************************************\n  Resource \u001b[93mmaxent_ne_chunker\u001b[0m not found.\n  Please use the NLTK Downloader to obtain the resource:\n\n  \u001b[31m>>> import nltk\n  >>> nltk.download('maxent_ne_chunker')\n  \u001b[0m\n  For more information see: https://www.nltk.org/data.html\n\n  Attempted to load \u001b[93mchunkers/maxent_ne_chunker/PY3/english_ace_multiclass.pickle\u001b[0m\n\n  Searched in:\n    - '/Users/anshuman/nltk_data'\n    - '/Users/anshuman/miniconda3/envs/deepLearning/nltk_data'\n    - '/Users/anshuman/miniconda3/envs/deepLearning/share/nltk_data'\n    - '/Users/anshuman/miniconda3/envs/deepLearning/lib/nltk_data'\n    - '/usr/share/nltk_data'\n    - '/usr/local/share/nltk_data'\n    - '/usr/lib/nltk_data'\n    - '/usr/local/lib/nltk_data'\n    - ''\n**********************************************************************\n"
     ]
    }
   ],
   "source": [
    "from nltk import ne_chunk, pos_tag, word_tokenize\n",
    "from nltk.tree import Tree\n",
    "\n",
    "def get_persons(document):\n",
    "    persons = []\n",
    "    for sent in nltk.sent_tokenize(document):\n",
    "        for chunk in nltk.ne_chunk(nltk.pos_tag(nltk.word_tokenize(sent))):\n",
    "            if isinstance(chunk, Tree) and chunk.label() == 'PERSON':\n",
    "                persons.append(' '.join([token[0] for token in chunk]))\n",
    "    return persons\n",
    "\n",
    "persons = get_persons(document)\n",
    "print(persons)\n"
   ]
  },
  {
   "cell_type": "code",
   "execution_count": 13,
   "metadata": {},
   "outputs": [],
   "source": [
    "import spacy.cli\n",
    "# spacy.cli.download(\"en_core_web_lg\")\n",
    "\n",
    "import en_core_web_lg\n",
    "nlp = en_core_web_lg.load()"
   ]
  },
  {
   "cell_type": "code",
   "execution_count": 14,
   "metadata": {},
   "outputs": [],
   "source": [
    "document = document2.encode('utf-8', errors='ignore').decode('utf-8')"
   ]
  },
  {
   "cell_type": "code",
   "execution_count": 21,
   "metadata": {},
   "outputs": [],
   "source": [
    "import spacy\n",
    "\n",
    "ner1 = spacy.load(\"en_core_web_lg\")\n",
    "ner2 = spacy.load(\"en_core_web_sm\")\n",
    "# ner3 = spacy.load(\"en_core_web_trf\")\n",
    "\n",
    "def extract_persons_and_emails(document, ner):\n",
    "    doc = ner(document)\n",
    "    persons = []\n",
    "    emails = []\n",
    "    \n",
    "    for ent in doc.ents:\n",
    "        if ent.label_ == \"PERSON\":\n",
    "            persons.append(ent.text)\n",
    "        elif ent.label_ == \"EMAIL\":\n",
    "            emails.append(ent.text)\n",
    "    \n",
    "    return persons, emails\n",
    "\n",
    "\n"
   ]
  },
  {
   "cell_type": "code",
   "execution_count": 22,
   "metadata": {},
   "outputs": [
    {
     "name": "stdout",
     "output_type": "stream",
     "text": [
      "Persons: []\n",
      "Emails: []\n"
     ]
    }
   ],
   "source": [
    "persons, emails = extract_persons_and_emails(document, ner1)\n",
    "print(\"Persons:\", persons)\n",
    "print(\"Emails:\", emails)"
   ]
  },
  {
   "cell_type": "code",
   "execution_count": 23,
   "metadata": {},
   "outputs": [
    {
     "name": "stdout",
     "output_type": "stream",
     "text": [
      "Persons: ['Taj Yeshwantpur Bengaluru Overview Guest Rooms Dining Offers', 'Taj Yeshwantpur', 'The Taj Yeshwantpur', 'Bangalore', 'Yeshwantpur Railway Terminus']\n",
      "Emails: []\n"
     ]
    }
   ],
   "source": [
    "persons, emails = extract_persons_and_emails(document, ner2)\n",
    "print(\"Persons:\", persons)\n",
    "print(\"Emails:\", emails)"
   ]
  },
  {
   "cell_type": "code",
   "execution_count": 19,
   "metadata": {},
   "outputs": [
    {
     "name": "stdout",
     "output_type": "stream",
     "text": [
      "Taj Yeshwantpur Bengaluru Overview Guest Rooms Dining Offers PERSON\n",
      "Tumkur Road, FAC\n",
      "Bengaluru GPE\n",
      "Karnataka GPE\n",
      "560022 DATE\n",
      "India GPE\n",
      "80 CARDINAL\n",
      "80 CARDINAL\n",
      "806690 0111 DATE\n",
      "080 CARDINAL\n",
      "80 CARDINAL\n",
      "080 CARDINAL\n",
      "806690 0111 DATE\n",
      "080 CARDINAL\n",
      "80 CARDINAL\n",
      "080 CARDINAL\n",
      "Taj Yeshwantpur PERSON\n",
      "Bengaluru GPE\n",
      "British NORP\n",
      "India GPE\n",
      "Silicon Valley LOC\n",
      "The Taj Yeshwantpur PERSON\n",
      "Bengaluru GPE\n",
      "327 CARDINAL\n",
      "5 CARDINAL\n",
      "Bangalore PERSON\n",
      "The National Gallery of Modern Art ORG\n",
      "the Aeronautical Museum ORG\n",
      "Taj ORG\n",
      "5 CARDINAL\n",
      "35 minutes TIME\n",
      "minutes TIME\n",
      "Yeshwantpur Railway Terminus PERSON\n",
      "metro FAC\n",
      "Bengaluru ORG\n"
     ]
    }
   ],
   "source": [
    "NER = spacy.load(\"en_core_web_sm\")\n",
    "\n",
    "text1= NER(document)\n",
    "\n",
    "for word in text1.ents:\n",
    "    print(word.text,word.label_)"
   ]
  },
  {
   "cell_type": "code",
   "execution_count": 16,
   "metadata": {},
   "outputs": [
    {
     "data": {
      "text/plain": [
       "0"
      ]
     },
     "execution_count": 16,
     "metadata": {},
     "output_type": "execute_result"
    }
   ],
   "source": [
    "len(persons)"
   ]
  },
  {
   "cell_type": "code",
   "execution_count": 17,
   "metadata": {},
   "outputs": [
    {
     "data": {
      "text/plain": [
       "'\\nTaj Yeshwantpur Bengaluru Overview Guest Rooms Dining Offers J Wellness Circle Event Spaces Gallery Experiences Local Area More Dining Offers J Wellness Circle Event Spaces Gallery Experiences Local Area Previous / Next Taj Yeshwantpur 5 Star Hotel in Bangalore near Yeshwantpur 2275, Tumkur Road, Yeshwantpur, Bengaluru, Karnataka, 560022, India [Contact:(tel:+91 80)] [Contact:(tel:+91 80)] [Contact:(tel:+91 806690 0111 /For Reservation Details: +91 080-64804425)] +91 80-6690 0111 /For Reservation Details: +91 080-64804425 [Contact:(tel:+91 806690 0111 /For Reservation Details: +91 080-64804425)] +91 80-6690 0111 /For Reservation Details: +91 080-64804425 [Contact:(mailto:yeshwantpur.bengaluru@tajhotels.com, reservations.karnataka@ihcltata.com)] [Contact:(mailto:yeshwantpur.bengaluru@tajhotels.com, reservations.karnataka@ihcltata.com)] yeshwantpur.bengaluru@tajhotels.com, reservations.karnataka@ihcltata.com [Contact:(mailto:yeshwantpur.bengaluru@tajhotels.com, reservations.karnataka@ihcltata.com)] About Taj Yeshwantpur, Bengaluru The legacy of Bengaluru swells with pride and with good reason. Once a stronghold for the British, it has evolved from town to city to megacity and now, India’s Silicon Valley. The Taj Yeshwantpur, Bengaluru complements the city’s appetite for success with a vibrant unison of intelligent work environment, luxurious spaces and intuitive services. 327 well-appointed rooms and luxury suites at our 5 star hotel in Bangalore take every measure to ensure that no requirement is unmet. The business traveller will find its supreme services conducive to every meeting or communication. The leisure traveller will find abundant fascination in the recreational opportunities such as guided walking tours, shopping, prominent cultural landmarks such as The National Gallery of Modern Art and the Aeronautical Museum, colonial architecture and prominent art galleries. Whether it’s the show stopping lobby or the striking stairway swirling around the chic chandelier that welcomes you, every inch distinctly reflects the Taj and what it stands for. Location-wise, this 5 star luxury hotel is 35 minutes by road from the international airport, minutes away from Yeshwantpur Railway Terminus, and a few steps away from the metro terminus. In fact, it is nestled amidst everything that’s fantastic about Bengaluru. This strategic location\\n'"
      ]
     },
     "execution_count": 17,
     "metadata": {},
     "output_type": "execute_result"
    }
   ],
   "source": [
    "document"
   ]
  },
  {
   "cell_type": "code",
   "execution_count": 26,
   "metadata": {},
   "outputs": [],
   "source": [
    "import spacy\n",
    "\n",
    "# Load the pretrained spaCy model\n",
    "nlp = spacy.load(\"en_core_web_sm\")\n",
    "\n",
    "# Sample text from the document\n",
    "text = \"John Doe can be reached at john.doe@email.com. Jane Smith's email is jane.smith@email.com. and who said anshuman8swain@gmail.com can though be for Karan and why not karan@gmail.com\"\n",
    "\n",
    "# Process the text with the spaCy NER model\n",
    "doc = nlp(text)\n",
    "\n",
    "# Initialize variables to store names and emails\n",
    "names = []\n",
    "emails = []\n",
    "\n",
    "# Extract names and emails\n",
    "for ent in doc.ents:\n",
    "    if ent.label_ == \"PERSON\":\n",
    "        names.append(ent.text)\n",
    "    elif ent.label_ == \"EMAIL\":\n",
    "        emails.append(ent.text)\n",
    "\n",
    "# Link names and emails\n",
    "for name in names:\n",
    "    for email in emails:\n",
    "        if name.lower() in email.lower():\n",
    "            print(f\"Name: {name}, Email: {email}\")\n"
   ]
  },
  {
   "cell_type": "code",
   "execution_count": 27,
   "metadata": {},
   "outputs": [
    {
     "data": {
      "text/plain": [
       "['John Doe', \"Jane Smith's\"]"
      ]
     },
     "execution_count": 27,
     "metadata": {},
     "output_type": "execute_result"
    }
   ],
   "source": [
    "names"
   ]
  },
  {
   "cell_type": "markdown",
   "metadata": {},
   "source": [
    "## Training"
   ]
  },
  {
   "cell_type": "code",
   "execution_count": 25,
   "metadata": {},
   "outputs": [],
   "source": [
    "\n",
    "from __future__ import unicode_literals, print_function\n",
    "# import plac\n",
    "import random\n",
    "from pathlib import Path\n",
    "import spacy\n",
    "from tqdm import tqdm"
   ]
  },
  {
   "cell_type": "code",
   "execution_count": null,
   "metadata": {},
   "outputs": [],
   "source": [
    "TRAIN_DATA = [\n",
    "    ('Who is Nishanth?', {\n",
    "        'entities': [(7, 15, 'PERSON')]\n",
    "    }),\n",
    "     ('Who is Kamal Khumar?', {\n",
    "        'entities': [(7, 19, 'PERSON')]\n",
    "    }),\n",
    "    ('I like London and Berlin.', {\n",
    "        'entities': [(7, 13, 'LOC'), (18, 24, 'LOC')]\n",
    "    })\n",
    "]"
   ]
  },
  {
   "cell_type": "code",
   "execution_count": null,
   "metadata": {},
   "outputs": [],
   "source": [
    "model = None\n",
    "output_dir=Path(\"./model/ner01\")\n",
    "n_iter=200"
   ]
  },
  {
   "cell_type": "code",
   "execution_count": null,
   "metadata": {},
   "outputs": [],
   "source": [
    "if model is not None:\n",
    "    nlp = spacy.load(model)  \n",
    "    print(\"Loaded model '%s'\" % model)\n",
    "else:\n",
    "    nlp = spacy.blank('en')  \n",
    "    print(\"Created blank 'en' model\")\n",
    "\n",
    "#set up the pipeline\n",
    "\n",
    "if 'ner01' not in nlp.pipe_names:\n",
    "    ner = nlp.create_pipe('ner01')\n",
    "    nlp.add_pipe(ner, last=True)\n",
    "else:\n",
    "    ner = nlp.get_pipe('ner01')"
   ]
  },
  {
   "cell_type": "code",
   "execution_count": null,
   "metadata": {},
   "outputs": [],
   "source": [
    "\n",
    "for _, annotations in TRAIN_DATA:\n",
    "    for ent in annotations.get('entities'):\n",
    "        ner.add_label(ent[2])\n",
    "\n",
    "other_pipes = [pipe for pipe in nlp.pipe_names if pipe != 'ner01']\n",
    "with nlp.disable_pipes(*other_pipes):  \n",
    "    optimizer = nlp.begin_training()\n",
    "    for itn in range(n_iter):\n",
    "        random.shuffle(TRAIN_DATA)\n",
    "        losses = {}\n",
    "        for text, annotations in tqdm(TRAIN_DATA):\n",
    "            nlp.update(\n",
    "                [text],  \n",
    "                [annotations],  \n",
    "                drop=0.5,  \n",
    "                sgd=optimizer,\n",
    "                losses=losses)\n",
    "        print(losses)"
   ]
  },
  {
   "cell_type": "code",
   "execution_count": 11,
   "metadata": {},
   "outputs": [],
   "source": [
    "import random\n",
    "import json\n",
    "# import plac\n",
    "import random\n",
    "from pathlib import Path\n",
    "import spacy\n",
    "from tqdm import tqdm\n",
    "import en_core_web_lg\n"
   ]
  },
  {
   "cell_type": "code",
   "execution_count": 6,
   "metadata": {},
   "outputs": [],
   "source": [
    "file = \"./data.json\"\n",
    "with open(file, \"r\") as file:\n",
    "    data = json.load(file)\n",
    "\n",
    "text = data[0][\"content\"]"
   ]
  },
  {
   "cell_type": "code",
   "execution_count": 7,
   "metadata": {},
   "outputs": [
    {
     "data": {
      "text/plain": [
       "\"Skip to main content Menu College of Biological Sciences College of Biological Sciences Open Search Search Quick Links + UC Davis Main navigation (extended config) About College Overview Rankings and Distinctions Memberships and Awards Mission and Vision History Virtual Tour Leadership Office of the Dean Faculty Executive Committee Faculty Standing Committees Committee for DEIJ Campaign Leadership Council Departments Centers Directory Dean's Office Staff Department Chairs and Managers Center Directors and Managers Graduate Group Chairs and Coordinators Diversity, Equity and Inclusion Faculty and Staff Resources Undergraduate Advising Biology Academic Success Center Health Professions Advising New and Transfer Student Programs BioLaunch Mentorship and Career Readiness AvenueB Transfer Student Program Majors and Minors Student Diversity Programs Experiential Learning Honors and Awards College Awards and Scholarships Annual Award and Citation Ceremony Dean's Honor List Clubs and Organizations Graduate Academic Programs and Degrees Graduate Groups Designated Emphases Graduate Academic Certificates Funding and Support Training Grants Teaching Assistantships Application Fee Fellowship Awards and Fellowships New and Prospective Graduate Students Application and Degree Requirements Graduate Advising Faculty Evolution and Ecology Microbiology and Molecular Genetics Molecular and Cellular Biology Neurobiology, Physiology and Behavior Plant Biology Research Departments Centers Facilities Research Features Model Organisms News & Events College Events Annual Award and Citation Ceremony Storer Lectureship in the Life Sciences Joint Seminars in Molecular Biology News Articles Biome Newsletter Give Make a Gift College Priority Areas Information About Giving Our Giving Team Department of Molecular and Cellular Biology Breadcrumb College of Biological Sciences Faculty Molecular and Cellular Biology Department Active Faculty Alice Accorsi Assistant Professor Molecular and Cellular Biology aaccorsi@ucdavis.edu [Contact:(mailto:aaccorsi@ucdavis.edu)] Lab Website Google Scholar ORCID (0000-0003-0606-2977) 102G Briggs Hall Jawdat Al-Bassam Associate Professor Molecular and Cellular Biology 530-752-3521 [Contact:(tel:530-752-3521)] jawdat@ucdavis.edu [Contact:(mailto:jawdat@ucdavis.edu)] Lab website Google Scholar ORCID (0000-0001-6625-2102) 3220 Green Hall John Albeck Associate Professor Molecular and Cellular Biology 530-752-0646 [Contact:(tel:530-752-0646)] jgalbeck@ucdavis.edu [Contact:(mailto:jgalbeck@ucdavis.edu)] Lab website Google Scholar 243 Briggs Hall F. Javier Arsuaga Professor Molecular and Cellular Biology 530-754-0416 [Contact:(tel:530-754-0416)] jarsuaga@ucdavis.edu [Contact:(mailto:jarsuaga@ucdavis.edu)] Lab website Google Scholar ORCID (0000-0002-4979-8215) 0009 Briggs Hall Enoch P. Baldwin Associate Professor Molecular and Cellular Biology 530-752-1108 [Contact:(tel:530-752-1108)] epbaldwin@ucdavis.edu [Contact:(mailto:epbaldwin@ucdavis.edu)] Lab website ORCID (0000-0002-1472-0944) 4B Briggs Hall Sean M. Burgess Professor Molecular and Cellular Biology 530-754-5177 [Contact:(tel:530-754-5177)] smburgess@ucdavis.edu\""
      ]
     },
     "execution_count": 7,
     "metadata": {},
     "output_type": "execute_result"
    }
   ],
   "source": [
    "text"
   ]
  },
  {
   "cell_type": "code",
   "execution_count": null,
   "metadata": {},
   "outputs": [],
   "source": [
    "\"\"\"\n",
    "\"Skip to main content Menu College of Biological Sciences College of Biological Sciences Open Search Search Quick Links + UC Davis Main navigation (extended config) About College Overview Rankings and Distinctions Memberships and Awards Mission and Vision History Virtual Tour Leadership Office of the Dean Faculty Executive Committee Faculty Standing Committees Committee for DEIJ Campaign Leadership Council Departments Centers Directory Dean's Office Staff Department Chairs and Managers Center Directors and Managers Graduate Group Chairs and Coordinators Diversity, Equity and Inclusion Faculty and Staff Resources Undergraduate Advising Biology Academic Success Center Health Professions Advising New and Transfer Student Programs BioLaunch Mentorship and Career Readiness AvenueB Transfer Student Program Majors and Minors Student Diversity Programs Experiential Learning Honors and Awards College Awards and Scholarships Annual Award and Citation Ceremony Dean's Honor List Clubs and Organizations Graduate Academic Programs and Degrees Graduate Groups Designated Emphases Graduate Academic Certificates Funding and Support Training Grants Teaching Assistantships Application Fee Fellowship Awards and Fellowships New and Prospective Graduate Students Application and Degree Requirements Graduate Advising Faculty Evolution and Ecology Microbiology and Molecular Genetics Molecular and Cellular Biology Neurobiology, Physiology and Behavior Plant Biology Research Departments Centers Facilities Research Features Model Organisms News & Events College Events Annual Award and Citation Ceremony Storer Lectureship in the Life Sciences Joint Seminars in Molecular Biology News Articles Biome Newsletter Give Make a Gift College Priority Areas Information About Giving Our Giving Team Department of Molecular and Cellular Biology Breadcrumb College of Biological Sciences Faculty Molecular and Cellular Biology Department Active Faculty Alice Accorsi Assistant Professor Molecular and Cellular Biology aaccorsi@ucdavis.edu [Contact:(mailto:aaccorsi@ucdavis.edu)] Lab Website Google Scholar ORCID (0000-0003-0606-2977) 102G Briggs Hall Jawdat Al-Bassam Associate Professor Molecular and Cellular Biology 530-752-3521 [Contact:(tel:530-752-3521)] jawdat@ucdavis.edu [Contact:(mailto:jawdat@ucdavis.edu)] Lab website Google Scholar ORCID (0000-0001-6625-2102) 3220 Green Hall John Albeck Associate Professor Molecular and Cellular Biology 530-752-0646 [Contact:(tel:530-752-0646)] jgalbeck@ucdavis.edu [Contact:(mailto:jgalbeck@ucdavis.edu)] Lab website Google Scholar 243 Briggs Hall F. Javier Arsuaga Professor Molecular and Cellular Biology 530-754-0416 [Contact:(tel:530-754-0416)] jarsuaga@ucdavis.edu [Contact:(mailto:jarsuaga@ucdavis.edu)] Lab website Google Scholar ORCID (0000-0002-4979-8215) 0009 Briggs Hall Enoch P. Baldwin Associate Professor Molecular and Cellular Biology 530-752-1108 [Contact:(tel:530-752-1108)] epbaldwin@ucdavis.edu [Contact:(mailto:epbaldwin@ucdavis.edu)] Lab website ORCID (0000-0002-1472-0944) 4B Briggs Hall Sean M. Burgess Professor Molecular and Cellular Biology 530-754-5177 [Contact:(tel:530-754-5177)] smburgess@ucdavis.edu\"\n",
    "\n",
    "\"\"\""
   ]
  },
  {
   "cell_type": "code",
   "execution_count": 8,
   "metadata": {},
   "outputs": [],
   "source": [
    "import re\n",
    "\n",
    "def extract_emails(text):\n",
    "    pattern = r'\\b[A-Za-z0-9._%+-]+@[A-Za-z0-9.-]+\\.[A-Z|a-z]{2,}\\b'\n",
    "    emails = re.findall(pattern, text)\n",
    "    return emails\n",
    "\n",
    "emails = extract_emails(text)\n"
   ]
  },
  {
   "cell_type": "code",
   "execution_count": 9,
   "metadata": {},
   "outputs": [
    {
     "data": {
      "text/plain": [
       "['aaccorsi@ucdavis.edu',\n",
       " 'aaccorsi@ucdavis.edu',\n",
       " 'jawdat@ucdavis.edu',\n",
       " 'jawdat@ucdavis.edu',\n",
       " 'jgalbeck@ucdavis.edu',\n",
       " 'jgalbeck@ucdavis.edu',\n",
       " 'jarsuaga@ucdavis.edu',\n",
       " 'jarsuaga@ucdavis.edu',\n",
       " 'epbaldwin@ucdavis.edu',\n",
       " 'epbaldwin@ucdavis.edu',\n",
       " 'smburgess@ucdavis.edu']"
      ]
     },
     "execution_count": 9,
     "metadata": {},
     "output_type": "execute_result"
    }
   ],
   "source": [
    "emails"
   ]
  },
  {
   "cell_type": "code",
   "execution_count": 12,
   "metadata": {},
   "outputs": [],
   "source": [
    "ner1 = spacy.load(\"en_core_web_lg\")\n",
    "ner2 = spacy.load(\"en_core_web_sm\")"
   ]
  },
  {
   "cell_type": "code",
   "execution_count": 13,
   "metadata": {},
   "outputs": [
    {
     "data": {
      "text/plain": [
       "['Alice Accorsi',\n",
       " 'Jawdat Al-Bassam',\n",
       " 'John Albeck',\n",
       " 'Enoch P. Baldwin',\n",
       " 'Sean M. Burgess Professor Molecular']"
      ]
     },
     "execution_count": 13,
     "metadata": {},
     "output_type": "execute_result"
    }
   ],
   "source": [
    "persons = []\n",
    "doc = ner1(text)\n",
    "for ent in doc.ents:\n",
    "    if ent.label_ == \"PERSON\":\n",
    "        persons.append(ent.text)\n",
    "\n",
    "persons\n"
   ]
  },
  {
   "cell_type": "code",
   "execution_count": 20,
   "metadata": {},
   "outputs": [
    {
     "name": "stdout",
     "output_type": "stream",
     "text": [
      "jarsuaga@ucdavis.edu belongs to Jawdat Al-Bassam\n",
      "jawdat@ucdavis.edu belongs to Jawdat Al-Bassam\n",
      "aaccorsi@ucdavis.edu belongs to Jawdat Al-Bassam\n",
      "jgalbeck@ucdavis.edu belongs to Alice Accorsi\n",
      "epbaldwin@ucdavis.edu belongs to Sean M. Burgess Professor Molecular\n",
      "smburgess@ucdavis.edu belongs to Sean M. Burgess Professor Molecular\n"
     ]
    }
   ],
   "source": [
    "from fuzzywuzzy import fuzz\n",
    "\n",
    "# Lists of emails and corresponding names\n",
    "emails = ['jarsuaga@ucdavis.edu', 'jawdat@ucdavis.edu', 'aaccorsi@ucdavis.edu', 'jgalbeck@ucdavis.edu', 'aaccorsi@ucdavis.edu','epbaldwin@ucdavis.edu', 'smburgess@ucdavis.edu']\n",
    "names = ['Alice Accorsi', 'Jawdat Al-Bassam', 'John Albeck', 'Enoch P. Baldwin', 'Sean M. Burgess Professor Molecular']\n",
    "\n",
    "# Create a dictionary to store the mapping between emails and names\n",
    "email_to_name = {}\n",
    "\n",
    "# Iterate over each email and find the most similar name\n",
    "for email in emails:\n",
    "    max_similarity = -1\n",
    "    matched_name = None\n",
    "    for name in names:\n",
    "        similarity = fuzz.partial_ratio(email.split('@')[0], name.split()[0])\n",
    "        if similarity > max_similarity:\n",
    "            max_similarity = similarity\n",
    "            matched_name = name\n",
    "    email_to_name[email] = matched_name\n",
    "\n",
    "# Print the mapping\n",
    "for email, name in email_to_name.items():\n",
    "    print(f\"{email} belongs to {name}\")\n"
   ]
  },
  {
   "cell_type": "code",
   "execution_count": 21,
   "metadata": {},
   "outputs": [
    {
     "name": "stdout",
     "output_type": "stream",
     "text": [
      "aaccorsi@ucdavis.edu belongs to Alice Accorsi\n",
      "jawdat@ucdavis.edu belongs to Alice Accorsi\n",
      "jgalbeck@ucdavis.edu belongs to Alice Accorsi\n",
      "jarsuaga@ucdavis.edu belongs to Alice Accorsi\n",
      "epbaldwin@ucdavis.edu belongs to Alice Accorsi\n",
      "smburgess@ucdavis.edu belongs to Alice Accorsi\n"
     ]
    }
   ],
   "source": [
    "import spacy\n",
    "\n",
    "# Load English tokenizer, tagger, parser, NER, and word vectors\n",
    "nlp = spacy.load(\"en_core_web_sm\")\n",
    "\n",
    "# Lists of emails and corresponding names\n",
    "emails = ['aaccorsi@ucdavis.edu', 'aaccorsi@ucdavis.edu', 'jawdat@ucdavis.edu', 'jawdat@ucdavis.edu', 'jgalbeck@ucdavis.edu', 'jgalbeck@ucdavis.edu', 'jarsuaga@ucdavis.edu', 'jarsuaga@ucdavis.edu', 'epbaldwin@ucdavis.edu', 'epbaldwin@ucdavis.edu', 'smburgess@ucdavis.edu']\n",
    "names = ['Alice Accorsi', 'Jawdat Al-Bassam', 'John Albeck', 'Enoch P. Baldwin', 'Sean M. Burgess Professor Molecular']\n",
    "\n",
    "# Create a dictionary to store the mapping between emails and names\n",
    "email_to_name = {}\n",
    "\n",
    "# Iterate over each email\n",
    "for email in emails:\n",
    "    # Apply NER to extract entities from the email\n",
    "    doc = nlp(email)\n",
    "    \n",
    "    # Initialize variables to store the most similar name and its similarity score\n",
    "    max_similarity = -1\n",
    "    matched_name = None\n",
    "    \n",
    "    # Iterate over each name\n",
    "    for name in names:\n",
    "        # Apply NER to extract entities from the name\n",
    "        name_doc = nlp(name)\n",
    "        \n",
    "        # Calculate similarity between entities (first names)\n",
    "        email_first_name = next((token.text for token in doc if token.ent_type_ == 'PERSON'), '')\n",
    "        name_first_name = next((token.text for token in name_doc if token.ent_type_ == 'PERSON'), '')\n",
    "        \n",
    "        similarity = email_first_name.lower() == name_first_name.lower()\n",
    "        \n",
    "        # Update the most similar name if the similarity is higher\n",
    "        if similarity > max_similarity:\n",
    "            max_similarity = similarity\n",
    "            matched_name = name\n",
    "    \n",
    "    # Assign the email to the most similar name\n",
    "    email_to_name[email] = matched_name\n",
    "\n",
    "# Print the mapping\n",
    "for email, name in email_to_name.items():\n",
    "    print(f\"{email} belongs to {name}\")\n"
   ]
  },
  {
   "cell_type": "code",
   "execution_count": 24,
   "metadata": {},
   "outputs": [
    {
     "name": "stdout",
     "output_type": "stream",
     "text": [
      "False\n",
      "False\n",
      "False\n",
      "False\n",
      "False\n",
      "False\n",
      "False\n",
      "False\n",
      "False\n",
      "False\n",
      "False\n",
      "True\n",
      "False\n",
      "False\n",
      "False\n",
      "False\n",
      "True\n",
      "False\n",
      "False\n",
      "False\n",
      "False\n",
      "False\n",
      "False\n",
      "False\n",
      "False\n",
      "False\n",
      "False\n",
      "False\n",
      "False\n",
      "False\n",
      "False\n",
      "False\n",
      "False\n",
      "False\n",
      "False\n",
      "False\n",
      "False\n",
      "False\n",
      "False\n",
      "False\n",
      "False\n",
      "False\n",
      "False\n",
      "False\n",
      "False\n",
      "False\n",
      "False\n",
      "False\n",
      "False\n",
      "False\n",
      "False\n",
      "False\n",
      "False\n",
      "False\n",
      "False\n",
      "aaccorsi@ucdavis.edu belongs to Alice Accorsi\n",
      "jawdat@ucdavis.edu belongs to Jawdat Al-Bassam\n",
      "jgalbeck@ucdavis.edu belongs to Alice Accorsi\n",
      "jarsuaga@ucdavis.edu belongs to Alice Accorsi\n",
      "epbaldwin@ucdavis.edu belongs to Alice Accorsi\n",
      "smburgess@ucdavis.edu belongs to Alice Accorsi\n"
     ]
    }
   ],
   "source": [
    "import spacy\n",
    "\n",
    "# Load English tokenizer, tagger, parser, NER, and word vectors\n",
    "nlp = spacy.load(\"en_core_web_sm\")\n",
    "\n",
    "# Lists of emails and corresponding names\n",
    "emails = ['aaccorsi@ucdavis.edu', 'aaccorsi@ucdavis.edu', 'jawdat@ucdavis.edu', 'jawdat@ucdavis.edu', 'jgalbeck@ucdavis.edu', 'jgalbeck@ucdavis.edu', 'jarsuaga@ucdavis.edu', 'jarsuaga@ucdavis.edu', 'epbaldwin@ucdavis.edu', 'epbaldwin@ucdavis.edu', 'smburgess@ucdavis.edu']\n",
    "names = ['Alice Accorsi', 'Jawdat Al-Bassam', 'John Albeck', 'Enoch P. Baldwin', 'Sean M. Burgess Professor Molecular']\n",
    "\n",
    "# Create a dictionary to store the mapping between emails and names\n",
    "email_to_name = {}\n",
    "\n",
    "# Iterate over each email\n",
    "for email in emails:\n",
    "    # Extract the prefix of the email\n",
    "    email_prefix = email.split('@')[0]\n",
    "    \n",
    "    # Initialize variables to store the most similar name and its similarity score\n",
    "    max_similarity = -1\n",
    "    matched_name = None\n",
    "    \n",
    "    # Iterate over each name\n",
    "    for name in names:\n",
    "        # Extract the first name from the name\n",
    "        name_first = name.split()[0]\n",
    "        \n",
    "        # Apply dependency parsing to get the root of the first name\n",
    "        name_doc = nlp(name_first)\n",
    "        name_root = None\n",
    "        for token in name_doc:\n",
    "            if token.dep_ == 'ROOT':\n",
    "                name_root = token.text.lower()\n",
    "                break\n",
    "        \n",
    "        # Apply dependency parsing to get the root of the email prefix\n",
    "        email_doc = nlp(email_prefix)\n",
    "        email_root = None\n",
    "        for token in email_doc:\n",
    "            if token.dep_ == 'ROOT':\n",
    "                email_root = token.text.lower()\n",
    "                break\n",
    "        \n",
    "        # Calculate similarity between roots of email prefix and first name\n",
    "        if email_root and name_root:\n",
    "            similarity = email_root == name_root\n",
    "        else:\n",
    "            similarity = 0\n",
    "        \n",
    "        # Update the most similar name if the similarity is higher\n",
    "        print(similarity)\n",
    "        if similarity > max_similarity:\n",
    "            max_similarity = similarity\n",
    "            matched_name = name\n",
    "            # Assign the email to the most similar name\n",
    "            email_to_name[email] = matched_name\n",
    "\n",
    "# Print the mapping\n",
    "for email, name in email_to_name.items():\n",
    "    print(f\"{email} belongs to {name}\")\n"
   ]
  },
  {
   "cell_type": "code",
   "execution_count": null,
   "metadata": {},
   "outputs": [],
   "source": []
  }
 ],
 "metadata": {
  "kernelspec": {
   "display_name": "llm-env",
   "language": "python",
   "name": "python3"
  },
  "language_info": {
   "codemirror_mode": {
    "name": "ipython",
    "version": 3
   },
   "file_extension": ".py",
   "mimetype": "text/x-python",
   "name": "python",
   "nbconvert_exporter": "python",
   "pygments_lexer": "ipython3",
   "version": "3.11.7"
  }
 },
 "nbformat": 4,
 "nbformat_minor": 2
}
