{
 "cells": [
  {
   "cell_type": "code",
   "execution_count": null,
   "metadata": {},
   "outputs": [],
   "source": [
    "mini_corpus = \"Hey, This week has been crazy. Attached is my report on IBM. Can you give it a quick read and provide some feedback. Also, make sure you reach out to Claire (claire@xyz.com).You're the best. Cheers, George W. 212-555-1234\""
   ]
  },
  {
   "cell_type": "code",
   "execution_count": 8,
   "metadata": {},
   "outputs": [],
   "source": [
    "document2 = \"\"\"\n",
    "Taj Yeshwantpur Bengaluru Overview Guest Rooms Dining Offers J Wellness Circle Event Spaces Gallery Experiences Local Area More Dining Offers J Wellness Circle Event Spaces Gallery Experiences Local Area Previous / Next Taj Yeshwantpur 5 Star Hotel in Bangalore near Yeshwantpur 2275, Tumkur Road, Yeshwantpur, Bengaluru, Karnataka, 560022, India [Contact:(tel:+91 80)] [Contact:(tel:+91 80)] [Contact:(tel:+91 806690 0111 /For Reservation Details: +91 080-64804425)] +91 80-6690 0111 /For Reservation Details: +91 080-64804425 [Contact:(tel:+91 806690 0111 /For Reservation Details: +91 080-64804425)] +91 80-6690 0111 /For Reservation Details: +91 080-64804425 [Contact:(mailto:yeshwantpur.bengaluru@tajhotels.com, reservations.karnataka@ihcltata.com)] [Contact:(mailto:yeshwantpur.bengaluru@tajhotels.com, reservations.karnataka@ihcltata.com)] yeshwantpur.bengaluru@tajhotels.com, reservations.karnataka@ihcltata.com [Contact:(mailto:yeshwantpur.bengaluru@tajhotels.com, reservations.karnataka@ihcltata.com)] About Taj Yeshwantpur, Bengaluru The legacy of Bengaluru swells with pride and with good reason. Once a stronghold for the British, it has evolved from town to city to megacity and now, India\\u2019s Silicon Valley. The Taj Yeshwantpur, Bengaluru complements the city\\u2019s appetite for success with a vibrant unison of intelligent work environment, luxurious spaces and intuitive services. 327 well-appointed rooms and luxury suites at our 5 star hotel in Bangalore take every measure to ensure that no requirement is unmet. The business traveller will find its supreme services conducive to every meeting or communication. The leisure traveller will find abundant fascination in the recreational opportunities such as guided walking tours, shopping, prominent cultural landmarks such as The National Gallery of Modern Art and the Aeronautical Museum, colonial architecture and prominent art galleries. Whether it\\u2019s the show stopping lobby or the striking stairway swirling around the chic chandelier that welcomes you, every inch distinctly reflects the Taj and what it stands for. Location-wise, this 5 star luxury hotel is 35 minutes by road from the international airport, minutes away from Yeshwantpur Railway Terminus, and a few steps away from the metro terminus. In fact, it is nestled amidst everything that\\u2019s fantastic about Bengaluru. This strategic location\n",
    "\"\"\""
   ]
  },
  {
   "cell_type": "code",
   "execution_count": 9,
   "metadata": {},
   "outputs": [],
   "source": [
    "import nltk\n",
    "from nltk.corpus import stopwords\n",
    "stop = stopwords.words('english')"
   ]
  },
  {
   "cell_type": "code",
   "execution_count": 11,
   "metadata": {},
   "outputs": [],
   "source": [
    "document = document2.encode('utf-8', errors='ignore').decode('utf-8')"
   ]
  },
  {
   "cell_type": "code",
   "execution_count": 12,
   "metadata": {},
   "outputs": [
    {
     "ename": "LookupError",
     "evalue": "\n**********************************************************************\n  Resource \u001b[93mmaxent_ne_chunker\u001b[0m not found.\n  Please use the NLTK Downloader to obtain the resource:\n\n  \u001b[31m>>> import nltk\n  >>> nltk.download('maxent_ne_chunker')\n  \u001b[0m\n  For more information see: https://www.nltk.org/data.html\n\n  Attempted to load \u001b[93mchunkers/maxent_ne_chunker/PY3/english_ace_multiclass.pickle\u001b[0m\n\n  Searched in:\n    - '/Users/anshuman/nltk_data'\n    - '/Users/anshuman/miniconda3/envs/deepLearning/nltk_data'\n    - '/Users/anshuman/miniconda3/envs/deepLearning/share/nltk_data'\n    - '/Users/anshuman/miniconda3/envs/deepLearning/lib/nltk_data'\n    - '/usr/share/nltk_data'\n    - '/usr/local/share/nltk_data'\n    - '/usr/lib/nltk_data'\n    - '/usr/local/lib/nltk_data'\n    - ''\n**********************************************************************\n",
     "output_type": "error",
     "traceback": [
      "\u001b[0;31m---------------------------------------------------------------------------\u001b[0m",
      "\u001b[0;31mLookupError\u001b[0m                               Traceback (most recent call last)",
      "Cell \u001b[0;32mIn[12], line 12\u001b[0m\n\u001b[1;32m      9\u001b[0m                 persons\u001b[38;5;241m.\u001b[39mappend(\u001b[38;5;124m'\u001b[39m\u001b[38;5;124m \u001b[39m\u001b[38;5;124m'\u001b[39m\u001b[38;5;241m.\u001b[39mjoin([token[\u001b[38;5;241m0\u001b[39m] \u001b[38;5;28;01mfor\u001b[39;00m token \u001b[38;5;129;01min\u001b[39;00m chunk]))\n\u001b[1;32m     10\u001b[0m     \u001b[38;5;28;01mreturn\u001b[39;00m persons\n\u001b[0;32m---> 12\u001b[0m persons \u001b[38;5;241m=\u001b[39m \u001b[43mget_persons\u001b[49m\u001b[43m(\u001b[49m\u001b[43mdocument\u001b[49m\u001b[43m)\u001b[49m\n\u001b[1;32m     13\u001b[0m \u001b[38;5;28mprint\u001b[39m(persons)\n",
      "Cell \u001b[0;32mIn[12], line 7\u001b[0m, in \u001b[0;36mget_persons\u001b[0;34m(document)\u001b[0m\n\u001b[1;32m      5\u001b[0m persons \u001b[38;5;241m=\u001b[39m []\n\u001b[1;32m      6\u001b[0m \u001b[38;5;28;01mfor\u001b[39;00m sent \u001b[38;5;129;01min\u001b[39;00m nltk\u001b[38;5;241m.\u001b[39msent_tokenize(document):\n\u001b[0;32m----> 7\u001b[0m     \u001b[38;5;28;01mfor\u001b[39;00m chunk \u001b[38;5;129;01min\u001b[39;00m \u001b[43mnltk\u001b[49m\u001b[38;5;241;43m.\u001b[39;49m\u001b[43mne_chunk\u001b[49m\u001b[43m(\u001b[49m\u001b[43mnltk\u001b[49m\u001b[38;5;241;43m.\u001b[39;49m\u001b[43mpos_tag\u001b[49m\u001b[43m(\u001b[49m\u001b[43mnltk\u001b[49m\u001b[38;5;241;43m.\u001b[39;49m\u001b[43mword_tokenize\u001b[49m\u001b[43m(\u001b[49m\u001b[43msent\u001b[49m\u001b[43m)\u001b[49m\u001b[43m)\u001b[49m\u001b[43m)\u001b[49m:\n\u001b[1;32m      8\u001b[0m         \u001b[38;5;28;01mif\u001b[39;00m \u001b[38;5;28misinstance\u001b[39m(chunk, Tree) \u001b[38;5;129;01mand\u001b[39;00m chunk\u001b[38;5;241m.\u001b[39mlabel() \u001b[38;5;241m==\u001b[39m \u001b[38;5;124m'\u001b[39m\u001b[38;5;124mPERSON\u001b[39m\u001b[38;5;124m'\u001b[39m:\n\u001b[1;32m      9\u001b[0m             persons\u001b[38;5;241m.\u001b[39mappend(\u001b[38;5;124m'\u001b[39m\u001b[38;5;124m \u001b[39m\u001b[38;5;124m'\u001b[39m\u001b[38;5;241m.\u001b[39mjoin([token[\u001b[38;5;241m0\u001b[39m] \u001b[38;5;28;01mfor\u001b[39;00m token \u001b[38;5;129;01min\u001b[39;00m chunk]))\n",
      "File \u001b[0;32m~/miniconda3/envs/deepLearning/lib/python3.11/site-packages/nltk/chunk/__init__.py:183\u001b[0m, in \u001b[0;36mne_chunk\u001b[0;34m(tagged_tokens, binary)\u001b[0m\n\u001b[1;32m    181\u001b[0m \u001b[38;5;28;01melse\u001b[39;00m:\n\u001b[1;32m    182\u001b[0m     chunker_pickle \u001b[38;5;241m=\u001b[39m _MULTICLASS_NE_CHUNKER\n\u001b[0;32m--> 183\u001b[0m chunker \u001b[38;5;241m=\u001b[39m \u001b[43mload\u001b[49m\u001b[43m(\u001b[49m\u001b[43mchunker_pickle\u001b[49m\u001b[43m)\u001b[49m\n\u001b[1;32m    184\u001b[0m \u001b[38;5;28;01mreturn\u001b[39;00m chunker\u001b[38;5;241m.\u001b[39mparse(tagged_tokens)\n",
      "File \u001b[0;32m~/miniconda3/envs/deepLearning/lib/python3.11/site-packages/nltk/data.py:750\u001b[0m, in \u001b[0;36mload\u001b[0;34m(resource_url, format, cache, verbose, logic_parser, fstruct_reader, encoding)\u001b[0m\n\u001b[1;32m    747\u001b[0m     \u001b[38;5;28mprint\u001b[39m(\u001b[38;5;124mf\u001b[39m\u001b[38;5;124m\"\u001b[39m\u001b[38;5;124m<<Loading \u001b[39m\u001b[38;5;132;01m{\u001b[39;00mresource_url\u001b[38;5;132;01m}\u001b[39;00m\u001b[38;5;124m>>\u001b[39m\u001b[38;5;124m\"\u001b[39m)\n\u001b[1;32m    749\u001b[0m \u001b[38;5;66;03m# Load the resource.\u001b[39;00m\n\u001b[0;32m--> 750\u001b[0m opened_resource \u001b[38;5;241m=\u001b[39m \u001b[43m_open\u001b[49m\u001b[43m(\u001b[49m\u001b[43mresource_url\u001b[49m\u001b[43m)\u001b[49m\n\u001b[1;32m    752\u001b[0m \u001b[38;5;28;01mif\u001b[39;00m \u001b[38;5;28mformat\u001b[39m \u001b[38;5;241m==\u001b[39m \u001b[38;5;124m\"\u001b[39m\u001b[38;5;124mraw\u001b[39m\u001b[38;5;124m\"\u001b[39m:\n\u001b[1;32m    753\u001b[0m     resource_val \u001b[38;5;241m=\u001b[39m opened_resource\u001b[38;5;241m.\u001b[39mread()\n",
      "File \u001b[0;32m~/miniconda3/envs/deepLearning/lib/python3.11/site-packages/nltk/data.py:876\u001b[0m, in \u001b[0;36m_open\u001b[0;34m(resource_url)\u001b[0m\n\u001b[1;32m    873\u001b[0m protocol, path_ \u001b[38;5;241m=\u001b[39m split_resource_url(resource_url)\n\u001b[1;32m    875\u001b[0m \u001b[38;5;28;01mif\u001b[39;00m protocol \u001b[38;5;129;01mis\u001b[39;00m \u001b[38;5;28;01mNone\u001b[39;00m \u001b[38;5;129;01mor\u001b[39;00m protocol\u001b[38;5;241m.\u001b[39mlower() \u001b[38;5;241m==\u001b[39m \u001b[38;5;124m\"\u001b[39m\u001b[38;5;124mnltk\u001b[39m\u001b[38;5;124m\"\u001b[39m:\n\u001b[0;32m--> 876\u001b[0m     \u001b[38;5;28;01mreturn\u001b[39;00m \u001b[43mfind\u001b[49m\u001b[43m(\u001b[49m\u001b[43mpath_\u001b[49m\u001b[43m,\u001b[49m\u001b[43m \u001b[49m\u001b[43mpath\u001b[49m\u001b[43m \u001b[49m\u001b[38;5;241;43m+\u001b[39;49m\u001b[43m \u001b[49m\u001b[43m[\u001b[49m\u001b[38;5;124;43m\"\u001b[39;49m\u001b[38;5;124;43m\"\u001b[39;49m\u001b[43m]\u001b[49m\u001b[43m)\u001b[49m\u001b[38;5;241m.\u001b[39mopen()\n\u001b[1;32m    877\u001b[0m \u001b[38;5;28;01melif\u001b[39;00m protocol\u001b[38;5;241m.\u001b[39mlower() \u001b[38;5;241m==\u001b[39m \u001b[38;5;124m\"\u001b[39m\u001b[38;5;124mfile\u001b[39m\u001b[38;5;124m\"\u001b[39m:\n\u001b[1;32m    878\u001b[0m     \u001b[38;5;66;03m# urllib might not use mode='rb', so handle this one ourselves:\u001b[39;00m\n\u001b[1;32m    879\u001b[0m     \u001b[38;5;28;01mreturn\u001b[39;00m find(path_, [\u001b[38;5;124m\"\u001b[39m\u001b[38;5;124m\"\u001b[39m])\u001b[38;5;241m.\u001b[39mopen()\n",
      "File \u001b[0;32m~/miniconda3/envs/deepLearning/lib/python3.11/site-packages/nltk/data.py:583\u001b[0m, in \u001b[0;36mfind\u001b[0;34m(resource_name, paths)\u001b[0m\n\u001b[1;32m    581\u001b[0m sep \u001b[38;5;241m=\u001b[39m \u001b[38;5;124m\"\u001b[39m\u001b[38;5;124m*\u001b[39m\u001b[38;5;124m\"\u001b[39m \u001b[38;5;241m*\u001b[39m \u001b[38;5;241m70\u001b[39m\n\u001b[1;32m    582\u001b[0m resource_not_found \u001b[38;5;241m=\u001b[39m \u001b[38;5;124mf\u001b[39m\u001b[38;5;124m\"\u001b[39m\u001b[38;5;130;01m\\n\u001b[39;00m\u001b[38;5;132;01m{\u001b[39;00msep\u001b[38;5;132;01m}\u001b[39;00m\u001b[38;5;130;01m\\n\u001b[39;00m\u001b[38;5;132;01m{\u001b[39;00mmsg\u001b[38;5;132;01m}\u001b[39;00m\u001b[38;5;130;01m\\n\u001b[39;00m\u001b[38;5;132;01m{\u001b[39;00msep\u001b[38;5;132;01m}\u001b[39;00m\u001b[38;5;130;01m\\n\u001b[39;00m\u001b[38;5;124m\"\u001b[39m\n\u001b[0;32m--> 583\u001b[0m \u001b[38;5;28;01mraise\u001b[39;00m \u001b[38;5;167;01mLookupError\u001b[39;00m(resource_not_found)\n",
      "\u001b[0;31mLookupError\u001b[0m: \n**********************************************************************\n  Resource \u001b[93mmaxent_ne_chunker\u001b[0m not found.\n  Please use the NLTK Downloader to obtain the resource:\n\n  \u001b[31m>>> import nltk\n  >>> nltk.download('maxent_ne_chunker')\n  \u001b[0m\n  For more information see: https://www.nltk.org/data.html\n\n  Attempted to load \u001b[93mchunkers/maxent_ne_chunker/PY3/english_ace_multiclass.pickle\u001b[0m\n\n  Searched in:\n    - '/Users/anshuman/nltk_data'\n    - '/Users/anshuman/miniconda3/envs/deepLearning/nltk_data'\n    - '/Users/anshuman/miniconda3/envs/deepLearning/share/nltk_data'\n    - '/Users/anshuman/miniconda3/envs/deepLearning/lib/nltk_data'\n    - '/usr/share/nltk_data'\n    - '/usr/local/share/nltk_data'\n    - '/usr/lib/nltk_data'\n    - '/usr/local/lib/nltk_data'\n    - ''\n**********************************************************************\n"
     ]
    }
   ],
   "source": [
    "from nltk import ne_chunk, pos_tag, word_tokenize\n",
    "from nltk.tree import Tree\n",
    "\n",
    "def get_persons(document):\n",
    "    persons = []\n",
    "    for sent in nltk.sent_tokenize(document):\n",
    "        for chunk in nltk.ne_chunk(nltk.pos_tag(nltk.word_tokenize(sent))):\n",
    "            if isinstance(chunk, Tree) and chunk.label() == 'PERSON':\n",
    "                persons.append(' '.join([token[0] for token in chunk]))\n",
    "    return persons\n",
    "\n",
    "persons = get_persons(document)\n",
    "print(persons)\n"
   ]
  },
  {
   "cell_type": "code",
   "execution_count": 13,
   "metadata": {},
   "outputs": [],
   "source": [
    "import spacy.cli\n",
    "# spacy.cli.download(\"en_core_web_lg\")\n",
    "\n",
    "import en_core_web_lg\n",
    "nlp = en_core_web_lg.load()"
   ]
  },
  {
   "cell_type": "code",
   "execution_count": 14,
   "metadata": {},
   "outputs": [],
   "source": [
    "document = document2.encode('utf-8', errors='ignore').decode('utf-8')"
   ]
  },
  {
   "cell_type": "code",
   "execution_count": 21,
   "metadata": {},
   "outputs": [],
   "source": [
    "import spacy\n",
    "\n",
    "ner1 = spacy.load(\"en_core_web_lg\")\n",
    "ner2 = spacy.load(\"en_core_web_sm\")\n",
    "# ner3 = spacy.load(\"en_core_web_trf\")\n",
    "\n",
    "def extract_persons_and_emails(document, ner):\n",
    "    doc = ner(document)\n",
    "    persons = []\n",
    "    emails = []\n",
    "    \n",
    "    for ent in doc.ents:\n",
    "        if ent.label_ == \"PERSON\":\n",
    "            persons.append(ent.text)\n",
    "        elif ent.label_ == \"EMAIL\":\n",
    "            emails.append(ent.text)\n",
    "    \n",
    "    return persons, emails\n",
    "\n",
    "\n"
   ]
  },
  {
   "cell_type": "code",
   "execution_count": 22,
   "metadata": {},
   "outputs": [
    {
     "name": "stdout",
     "output_type": "stream",
     "text": [
      "Persons: []\n",
      "Emails: []\n"
     ]
    }
   ],
   "source": [
    "persons, emails = extract_persons_and_emails(document, ner1)\n",
    "print(\"Persons:\", persons)\n",
    "print(\"Emails:\", emails)"
   ]
  },
  {
   "cell_type": "code",
   "execution_count": 23,
   "metadata": {},
   "outputs": [
    {
     "name": "stdout",
     "output_type": "stream",
     "text": [
      "Persons: ['Taj Yeshwantpur Bengaluru Overview Guest Rooms Dining Offers', 'Taj Yeshwantpur', 'The Taj Yeshwantpur', 'Bangalore', 'Yeshwantpur Railway Terminus']\n",
      "Emails: []\n"
     ]
    }
   ],
   "source": [
    "persons, emails = extract_persons_and_emails(document, ner2)\n",
    "print(\"Persons:\", persons)\n",
    "print(\"Emails:\", emails)"
   ]
  },
  {
   "cell_type": "code",
   "execution_count": 19,
   "metadata": {},
   "outputs": [
    {
     "name": "stdout",
     "output_type": "stream",
     "text": [
      "Taj Yeshwantpur Bengaluru Overview Guest Rooms Dining Offers PERSON\n",
      "Tumkur Road, FAC\n",
      "Bengaluru GPE\n",
      "Karnataka GPE\n",
      "560022 DATE\n",
      "India GPE\n",
      "80 CARDINAL\n",
      "80 CARDINAL\n",
      "806690 0111 DATE\n",
      "080 CARDINAL\n",
      "80 CARDINAL\n",
      "080 CARDINAL\n",
      "806690 0111 DATE\n",
      "080 CARDINAL\n",
      "80 CARDINAL\n",
      "080 CARDINAL\n",
      "Taj Yeshwantpur PERSON\n",
      "Bengaluru GPE\n",
      "British NORP\n",
      "India GPE\n",
      "Silicon Valley LOC\n",
      "The Taj Yeshwantpur PERSON\n",
      "Bengaluru GPE\n",
      "327 CARDINAL\n",
      "5 CARDINAL\n",
      "Bangalore PERSON\n",
      "The National Gallery of Modern Art ORG\n",
      "the Aeronautical Museum ORG\n",
      "Taj ORG\n",
      "5 CARDINAL\n",
      "35 minutes TIME\n",
      "minutes TIME\n",
      "Yeshwantpur Railway Terminus PERSON\n",
      "metro FAC\n",
      "Bengaluru ORG\n"
     ]
    }
   ],
   "source": [
    "NER = spacy.load(\"en_core_web_sm\")\n",
    "\n",
    "text1= NER(document)\n",
    "\n",
    "for word in text1.ents:\n",
    "    print(word.text,word.label_)"
   ]
  },
  {
   "cell_type": "code",
   "execution_count": 16,
   "metadata": {},
   "outputs": [
    {
     "data": {
      "text/plain": [
       "0"
      ]
     },
     "execution_count": 16,
     "metadata": {},
     "output_type": "execute_result"
    }
   ],
   "source": [
    "len(persons)"
   ]
  },
  {
   "cell_type": "code",
   "execution_count": 17,
   "metadata": {},
   "outputs": [
    {
     "data": {
      "text/plain": [
       "'\\nTaj Yeshwantpur Bengaluru Overview Guest Rooms Dining Offers J Wellness Circle Event Spaces Gallery Experiences Local Area More Dining Offers J Wellness Circle Event Spaces Gallery Experiences Local Area Previous / Next Taj Yeshwantpur 5 Star Hotel in Bangalore near Yeshwantpur 2275, Tumkur Road, Yeshwantpur, Bengaluru, Karnataka, 560022, India [Contact:(tel:+91 80)] [Contact:(tel:+91 80)] [Contact:(tel:+91 806690 0111 /For Reservation Details: +91 080-64804425)] +91 80-6690 0111 /For Reservation Details: +91 080-64804425 [Contact:(tel:+91 806690 0111 /For Reservation Details: +91 080-64804425)] +91 80-6690 0111 /For Reservation Details: +91 080-64804425 [Contact:(mailto:yeshwantpur.bengaluru@tajhotels.com, reservations.karnataka@ihcltata.com)] [Contact:(mailto:yeshwantpur.bengaluru@tajhotels.com, reservations.karnataka@ihcltata.com)] yeshwantpur.bengaluru@tajhotels.com, reservations.karnataka@ihcltata.com [Contact:(mailto:yeshwantpur.bengaluru@tajhotels.com, reservations.karnataka@ihcltata.com)] About Taj Yeshwantpur, Bengaluru The legacy of Bengaluru swells with pride and with good reason. Once a stronghold for the British, it has evolved from town to city to megacity and now, India’s Silicon Valley. The Taj Yeshwantpur, Bengaluru complements the city’s appetite for success with a vibrant unison of intelligent work environment, luxurious spaces and intuitive services. 327 well-appointed rooms and luxury suites at our 5 star hotel in Bangalore take every measure to ensure that no requirement is unmet. The business traveller will find its supreme services conducive to every meeting or communication. The leisure traveller will find abundant fascination in the recreational opportunities such as guided walking tours, shopping, prominent cultural landmarks such as The National Gallery of Modern Art and the Aeronautical Museum, colonial architecture and prominent art galleries. Whether it’s the show stopping lobby or the striking stairway swirling around the chic chandelier that welcomes you, every inch distinctly reflects the Taj and what it stands for. Location-wise, this 5 star luxury hotel is 35 minutes by road from the international airport, minutes away from Yeshwantpur Railway Terminus, and a few steps away from the metro terminus. In fact, it is nestled amidst everything that’s fantastic about Bengaluru. This strategic location\\n'"
      ]
     },
     "execution_count": 17,
     "metadata": {},
     "output_type": "execute_result"
    }
   ],
   "source": [
    "document"
   ]
  },
  {
   "cell_type": "code",
   "execution_count": 26,
   "metadata": {},
   "outputs": [],
   "source": [
    "import spacy\n",
    "\n",
    "# Load the pretrained spaCy model\n",
    "nlp = spacy.load(\"en_core_web_sm\")\n",
    "\n",
    "# Sample text from the document\n",
    "text = \"John Doe can be reached at john.doe@email.com. Jane Smith's email is jane.smith@email.com. and who said anshuman8swain@gmail.com can though be for Karan and why not karan@gmail.com\"\n",
    "\n",
    "# Process the text with the spaCy NER model\n",
    "doc = nlp(text)\n",
    "\n",
    "# Initialize variables to store names and emails\n",
    "names = []\n",
    "emails = []\n",
    "\n",
    "# Extract names and emails\n",
    "for ent in doc.ents:\n",
    "    if ent.label_ == \"PERSON\":\n",
    "        names.append(ent.text)\n",
    "    elif ent.label_ == \"EMAIL\":\n",
    "        emails.append(ent.text)\n",
    "\n",
    "# Link names and emails\n",
    "for name in names:\n",
    "    for email in emails:\n",
    "        if name.lower() in email.lower():\n",
    "            print(f\"Name: {name}, Email: {email}\")\n"
   ]
  },
  {
   "cell_type": "code",
   "execution_count": 27,
   "metadata": {},
   "outputs": [
    {
     "data": {
      "text/plain": [
       "['John Doe', \"Jane Smith's\"]"
      ]
     },
     "execution_count": 27,
     "metadata": {},
     "output_type": "execute_result"
    }
   ],
   "source": [
    "names"
   ]
  },
  {
   "cell_type": "markdown",
   "metadata": {},
   "source": [
    "## Training"
   ]
  },
  {
   "cell_type": "code",
   "execution_count": 25,
   "metadata": {},
   "outputs": [],
   "source": [
    "\n",
    "from __future__ import unicode_literals, print_function\n",
    "# import plac\n",
    "import random\n",
    "from pathlib import Path\n",
    "import spacy\n",
    "from tqdm import tqdm"
   ]
  },
  {
   "cell_type": "code",
   "execution_count": null,
   "metadata": {},
   "outputs": [],
   "source": [
    "TRAIN_DATA = [\n",
    "    ('Who is Nishanth?', {\n",
    "        'entities': [(7, 15, 'PERSON')]\n",
    "    }),\n",
    "     ('Who is Kamal Khumar?', {\n",
    "        'entities': [(7, 19, 'PERSON')]\n",
    "    }),\n",
    "    ('I like London and Berlin.', {\n",
    "        'entities': [(7, 13, 'LOC'), (18, 24, 'LOC')]\n",
    "    })\n",
    "]"
   ]
  },
  {
   "cell_type": "code",
   "execution_count": null,
   "metadata": {},
   "outputs": [],
   "source": [
    "model = None\n",
    "output_dir=Path(\"./model/ner01\")\n",
    "n_iter=200"
   ]
  },
  {
   "cell_type": "code",
   "execution_count": null,
   "metadata": {},
   "outputs": [],
   "source": [
    "if model is not None:\n",
    "    nlp = spacy.load(model)  \n",
    "    print(\"Loaded model '%s'\" % model)\n",
    "else:\n",
    "    nlp = spacy.blank('en')  \n",
    "    print(\"Created blank 'en' model\")\n",
    "\n",
    "#set up the pipeline\n",
    "\n",
    "if 'ner01' not in nlp.pipe_names:\n",
    "    ner = nlp.create_pipe('ner01')\n",
    "    nlp.add_pipe(ner, last=True)\n",
    "else:\n",
    "    ner = nlp.get_pipe('ner01')"
   ]
  },
  {
   "cell_type": "code",
   "execution_count": null,
   "metadata": {},
   "outputs": [],
   "source": [
    "\n",
    "for _, annotations in TRAIN_DATA:\n",
    "    for ent in annotations.get('entities'):\n",
    "        ner.add_label(ent[2])\n",
    "\n",
    "other_pipes = [pipe for pipe in nlp.pipe_names if pipe != 'ner01']\n",
    "with nlp.disable_pipes(*other_pipes):  \n",
    "    optimizer = nlp.begin_training()\n",
    "    for itn in range(n_iter):\n",
    "        random.shuffle(TRAIN_DATA)\n",
    "        losses = {}\n",
    "        for text, annotations in tqdm(TRAIN_DATA):\n",
    "            nlp.update(\n",
    "                [text],  \n",
    "                [annotations],  \n",
    "                drop=0.5,  \n",
    "                sgd=optimizer,\n",
    "                losses=losses)\n",
    "        print(losses)"
   ]
  },
  {
   "cell_type": "code",
   "execution_count": 11,
   "metadata": {},
   "outputs": [],
   "source": [
    "import random\n",
    "import json\n",
    "# import plac\n",
    "import random\n",
    "from pathlib import Path\n",
    "import spacy\n",
    "from tqdm import tqdm\n",
    "import en_core_web_lg\n"
   ]
  },
  {
   "cell_type": "code",
   "execution_count": 6,
   "metadata": {},
   "outputs": [],
   "source": [
    "file = \"./data.json\"\n",
    "with open(file, \"r\") as file:\n",
    "    data = json.load(file)\n",
    "\n",
    "text = data[0][\"content\"]"
   ]
  },
  {
   "cell_type": "code",
   "execution_count": 7,
   "metadata": {},
   "outputs": [
    {
     "data": {
      "text/plain": [
       "\"Skip to main content Menu College of Biological Sciences College of Biological Sciences Open Search Search Quick Links + UC Davis Main navigation (extended config) About College Overview Rankings and Distinctions Memberships and Awards Mission and Vision History Virtual Tour Leadership Office of the Dean Faculty Executive Committee Faculty Standing Committees Committee for DEIJ Campaign Leadership Council Departments Centers Directory Dean's Office Staff Department Chairs and Managers Center Directors and Managers Graduate Group Chairs and Coordinators Diversity, Equity and Inclusion Faculty and Staff Resources Undergraduate Advising Biology Academic Success Center Health Professions Advising New and Transfer Student Programs BioLaunch Mentorship and Career Readiness AvenueB Transfer Student Program Majors and Minors Student Diversity Programs Experiential Learning Honors and Awards College Awards and Scholarships Annual Award and Citation Ceremony Dean's Honor List Clubs and Organizations Graduate Academic Programs and Degrees Graduate Groups Designated Emphases Graduate Academic Certificates Funding and Support Training Grants Teaching Assistantships Application Fee Fellowship Awards and Fellowships New and Prospective Graduate Students Application and Degree Requirements Graduate Advising Faculty Evolution and Ecology Microbiology and Molecular Genetics Molecular and Cellular Biology Neurobiology, Physiology and Behavior Plant Biology Research Departments Centers Facilities Research Features Model Organisms News & Events College Events Annual Award and Citation Ceremony Storer Lectureship in the Life Sciences Joint Seminars in Molecular Biology News Articles Biome Newsletter Give Make a Gift College Priority Areas Information About Giving Our Giving Team Department of Molecular and Cellular Biology Breadcrumb College of Biological Sciences Faculty Molecular and Cellular Biology Department Active Faculty Alice Accorsi Assistant Professor Molecular and Cellular Biology aaccorsi@ucdavis.edu [Contact:(mailto:aaccorsi@ucdavis.edu)] Lab Website Google Scholar ORCID (0000-0003-0606-2977) 102G Briggs Hall Jawdat Al-Bassam Associate Professor Molecular and Cellular Biology 530-752-3521 [Contact:(tel:530-752-3521)] jawdat@ucdavis.edu [Contact:(mailto:jawdat@ucdavis.edu)] Lab website Google Scholar ORCID (0000-0001-6625-2102) 3220 Green Hall John Albeck Associate Professor Molecular and Cellular Biology 530-752-0646 [Contact:(tel:530-752-0646)] jgalbeck@ucdavis.edu [Contact:(mailto:jgalbeck@ucdavis.edu)] Lab website Google Scholar 243 Briggs Hall F. Javier Arsuaga Professor Molecular and Cellular Biology 530-754-0416 [Contact:(tel:530-754-0416)] jarsuaga@ucdavis.edu [Contact:(mailto:jarsuaga@ucdavis.edu)] Lab website Google Scholar ORCID (0000-0002-4979-8215) 0009 Briggs Hall Enoch P. Baldwin Associate Professor Molecular and Cellular Biology 530-752-1108 [Contact:(tel:530-752-1108)] epbaldwin@ucdavis.edu [Contact:(mailto:epbaldwin@ucdavis.edu)] Lab website ORCID (0000-0002-1472-0944) 4B Briggs Hall Sean M. Burgess Professor Molecular and Cellular Biology 530-754-5177 [Contact:(tel:530-754-5177)] smburgess@ucdavis.edu\""
      ]
     },
     "execution_count": 7,
     "metadata": {},
     "output_type": "execute_result"
    }
   ],
   "source": [
    "text"
   ]
  },
  {
   "cell_type": "code",
   "execution_count": null,
   "metadata": {},
   "outputs": [],
   "source": [
    "\"\"\"\n",
    "\"Skip to main content Menu College of Biological Sciences College of Biological Sciences Open Search Search Quick Links + UC Davis Main navigation (extended config) About College Overview Rankings and Distinctions Memberships and Awards Mission and Vision History Virtual Tour Leadership Office of the Dean Faculty Executive Committee Faculty Standing Committees Committee for DEIJ Campaign Leadership Council Departments Centers Directory Dean's Office Staff Department Chairs and Managers Center Directors and Managers Graduate Group Chairs and Coordinators Diversity, Equity and Inclusion Faculty and Staff Resources Undergraduate Advising Biology Academic Success Center Health Professions Advising New and Transfer Student Programs BioLaunch Mentorship and Career Readiness AvenueB Transfer Student Program Majors and Minors Student Diversity Programs Experiential Learning Honors and Awards College Awards and Scholarships Annual Award and Citation Ceremony Dean's Honor List Clubs and Organizations Graduate Academic Programs and Degrees Graduate Groups Designated Emphases Graduate Academic Certificates Funding and Support Training Grants Teaching Assistantships Application Fee Fellowship Awards and Fellowships New and Prospective Graduate Students Application and Degree Requirements Graduate Advising Faculty Evolution and Ecology Microbiology and Molecular Genetics Molecular and Cellular Biology Neurobiology, Physiology and Behavior Plant Biology Research Departments Centers Facilities Research Features Model Organisms News & Events College Events Annual Award and Citation Ceremony Storer Lectureship in the Life Sciences Joint Seminars in Molecular Biology News Articles Biome Newsletter Give Make a Gift College Priority Areas Information About Giving Our Giving Team Department of Molecular and Cellular Biology Breadcrumb College of Biological Sciences Faculty Molecular and Cellular Biology Department Active Faculty Alice Accorsi Assistant Professor Molecular and Cellular Biology aaccorsi@ucdavis.edu [Contact:(mailto:aaccorsi@ucdavis.edu)] Lab Website Google Scholar ORCID (0000-0003-0606-2977) 102G Briggs Hall Jawdat Al-Bassam Associate Professor Molecular and Cellular Biology 530-752-3521 [Contact:(tel:530-752-3521)] jawdat@ucdavis.edu [Contact:(mailto:jawdat@ucdavis.edu)] Lab website Google Scholar ORCID (0000-0001-6625-2102) 3220 Green Hall John Albeck Associate Professor Molecular and Cellular Biology 530-752-0646 [Contact:(tel:530-752-0646)] jgalbeck@ucdavis.edu [Contact:(mailto:jgalbeck@ucdavis.edu)] Lab website Google Scholar 243 Briggs Hall F. Javier Arsuaga Professor Molecular and Cellular Biology 530-754-0416 [Contact:(tel:530-754-0416)] jarsuaga@ucdavis.edu [Contact:(mailto:jarsuaga@ucdavis.edu)] Lab website Google Scholar ORCID (0000-0002-4979-8215) 0009 Briggs Hall Enoch P. Baldwin Associate Professor Molecular and Cellular Biology 530-752-1108 [Contact:(tel:530-752-1108)] epbaldwin@ucdavis.edu [Contact:(mailto:epbaldwin@ucdavis.edu)] Lab website ORCID (0000-0002-1472-0944) 4B Briggs Hall Sean M. Burgess Professor Molecular and Cellular Biology 530-754-5177 [Contact:(tel:530-754-5177)] smburgess@ucdavis.edu\"\n",
    "\n",
    "\"\"\""
   ]
  },
  {
   "cell_type": "code",
   "execution_count": 8,
   "metadata": {},
   "outputs": [],
   "source": [
    "import re\n",
    "\n",
    "def extract_emails(text):\n",
    "    pattern = r'\\b[A-Za-z0-9._%+-]+@[A-Za-z0-9.-]+\\.[A-Z|a-z]{2,}\\b'\n",
    "    emails = re.findall(pattern, text)\n",
    "    return emails\n",
    "\n",
    "emails = extract_emails(text)\n"
   ]
  },
  {
   "cell_type": "code",
   "execution_count": 9,
   "metadata": {},
   "outputs": [
    {
     "data": {
      "text/plain": [
       "['aaccorsi@ucdavis.edu',\n",
       " 'aaccorsi@ucdavis.edu',\n",
       " 'jawdat@ucdavis.edu',\n",
       " 'jawdat@ucdavis.edu',\n",
       " 'jgalbeck@ucdavis.edu',\n",
       " 'jgalbeck@ucdavis.edu',\n",
       " 'jarsuaga@ucdavis.edu',\n",
       " 'jarsuaga@ucdavis.edu',\n",
       " 'epbaldwin@ucdavis.edu',\n",
       " 'epbaldwin@ucdavis.edu',\n",
       " 'smburgess@ucdavis.edu']"
      ]
     },
     "execution_count": 9,
     "metadata": {},
     "output_type": "execute_result"
    }
   ],
   "source": [
    "emails"
   ]
  },
  {
   "cell_type": "code",
   "execution_count": 12,
   "metadata": {},
   "outputs": [],
   "source": [
    "ner1 = spacy.load(\"en_core_web_lg\")\n",
    "ner2 = spacy.load(\"en_core_web_sm\")"
   ]
  },
  {
   "cell_type": "code",
   "execution_count": 13,
   "metadata": {},
   "outputs": [
    {
     "data": {
      "text/plain": [
       "['Alice Accorsi',\n",
       " 'Jawdat Al-Bassam',\n",
       " 'John Albeck',\n",
       " 'Enoch P. Baldwin',\n",
       " 'Sean M. Burgess Professor Molecular']"
      ]
     },
     "execution_count": 13,
     "metadata": {},
     "output_type": "execute_result"
    }
   ],
   "source": [
    "persons = []\n",
    "doc = ner1(text)\n",
    "for ent in doc.ents:\n",
    "    if ent.label_ == \"PERSON\":\n",
    "        persons.append(ent.text)\n",
    "\n",
    "persons\n"
   ]
  },
  {
   "cell_type": "code",
   "execution_count": 20,
   "metadata": {},
   "outputs": [
    {
     "name": "stdout",
     "output_type": "stream",
     "text": [
      "jarsuaga@ucdavis.edu belongs to Jawdat Al-Bassam\n",
      "jawdat@ucdavis.edu belongs to Jawdat Al-Bassam\n",
      "aaccorsi@ucdavis.edu belongs to Jawdat Al-Bassam\n",
      "jgalbeck@ucdavis.edu belongs to Alice Accorsi\n",
      "epbaldwin@ucdavis.edu belongs to Sean M. Burgess Professor Molecular\n",
      "smburgess@ucdavis.edu belongs to Sean M. Burgess Professor Molecular\n"
     ]
    }
   ],
   "source": [
    "from fuzzywuzzy import fuzz\n",
    "\n",
    "# Lists of emails and corresponding names\n",
    "emails = ['jarsuaga@ucdavis.edu', 'jawdat@ucdavis.edu', 'aaccorsi@ucdavis.edu', 'jgalbeck@ucdavis.edu', 'aaccorsi@ucdavis.edu','epbaldwin@ucdavis.edu', 'smburgess@ucdavis.edu']\n",
    "names = ['Alice Accorsi', 'Jawdat Al-Bassam', 'John Albeck', 'Enoch P. Baldwin', 'Sean M. Burgess Professor Molecular']\n",
    "\n",
    "# Create a dictionary to store the mapping between emails and names\n",
    "email_to_name = {}\n",
    "\n",
    "# Iterate over each email and find the most similar name\n",
    "for email in emails:\n",
    "    max_similarity = -1\n",
    "    matched_name = None\n",
    "    for name in names:\n",
    "        similarity = fuzz.partial_ratio(email.split('@')[0], name.split()[0])\n",
    "        if similarity > max_similarity:\n",
    "            max_similarity = similarity\n",
    "            matched_name = name\n",
    "    email_to_name[email] = matched_name\n",
    "\n",
    "# Print the mapping\n",
    "for email, name in email_to_name.items():\n",
    "    print(f\"{email} belongs to {name}\")\n"
   ]
  },
  {
   "cell_type": "code",
   "execution_count": 21,
   "metadata": {},
   "outputs": [
    {
     "name": "stdout",
     "output_type": "stream",
     "text": [
      "aaccorsi@ucdavis.edu belongs to Alice Accorsi\n",
      "jawdat@ucdavis.edu belongs to Alice Accorsi\n",
      "jgalbeck@ucdavis.edu belongs to Alice Accorsi\n",
      "jarsuaga@ucdavis.edu belongs to Alice Accorsi\n",
      "epbaldwin@ucdavis.edu belongs to Alice Accorsi\n",
      "smburgess@ucdavis.edu belongs to Alice Accorsi\n"
     ]
    }
   ],
   "source": [
    "import spacy\n",
    "\n",
    "# Load English tokenizer, tagger, parser, NER, and word vectors\n",
    "nlp = spacy.load(\"en_core_web_sm\")\n",
    "\n",
    "# Lists of emails and corresponding names\n",
    "emails = ['aaccorsi@ucdavis.edu', 'aaccorsi@ucdavis.edu', 'jawdat@ucdavis.edu', 'jawdat@ucdavis.edu', 'jgalbeck@ucdavis.edu', 'jgalbeck@ucdavis.edu', 'jarsuaga@ucdavis.edu', 'jarsuaga@ucdavis.edu', 'epbaldwin@ucdavis.edu', 'epbaldwin@ucdavis.edu', 'smburgess@ucdavis.edu']\n",
    "names = ['Alice Accorsi', 'Jawdat Al-Bassam', 'John Albeck', 'Enoch P. Baldwin', 'Sean M. Burgess Professor Molecular']\n",
    "\n",
    "# Create a dictionary to store the mapping between emails and names\n",
    "email_to_name = {}\n",
    "\n",
    "# Iterate over each email\n",
    "for email in emails:\n",
    "    # Apply NER to extract entities from the email\n",
    "    doc = nlp(email)\n",
    "    \n",
    "    # Initialize variables to store the most similar name and its similarity score\n",
    "    max_similarity = -1\n",
    "    matched_name = None\n",
    "    \n",
    "    # Iterate over each name\n",
    "    for name in names:\n",
    "        # Apply NER to extract entities from the name\n",
    "        name_doc = nlp(name)\n",
    "        \n",
    "        # Calculate similarity between entities (first names)\n",
    "        email_first_name = next((token.text for token in doc if token.ent_type_ == 'PERSON'), '')\n",
    "        name_first_name = next((token.text for token in name_doc if token.ent_type_ == 'PERSON'), '')\n",
    "        \n",
    "        similarity = email_first_name.lower() == name_first_name.lower()\n",
    "        \n",
    "        # Update the most similar name if the similarity is higher\n",
    "        if similarity > max_similarity:\n",
    "            max_similarity = similarity\n",
    "            matched_name = name\n",
    "    \n",
    "    # Assign the email to the most similar name\n",
    "    email_to_name[email] = matched_name\n",
    "\n",
    "# Print the mapping\n",
    "for email, name in email_to_name.items():\n",
    "    print(f\"{email} belongs to {name}\")\n"
   ]
  },
  {
   "cell_type": "code",
   "execution_count": 24,
   "metadata": {},
   "outputs": [
    {
     "name": "stdout",
     "output_type": "stream",
     "text": [
      "False\n",
      "False\n",
      "False\n",
      "False\n",
      "False\n",
      "False\n",
      "False\n",
      "False\n",
      "False\n",
      "False\n",
      "False\n",
      "True\n",
      "False\n",
      "False\n",
      "False\n",
      "False\n",
      "True\n",
      "False\n",
      "False\n",
      "False\n",
      "False\n",
      "False\n",
      "False\n",
      "False\n",
      "False\n",
      "False\n",
      "False\n",
      "False\n",
      "False\n",
      "False\n",
      "False\n",
      "False\n",
      "False\n",
      "False\n",
      "False\n",
      "False\n",
      "False\n",
      "False\n",
      "False\n",
      "False\n",
      "False\n",
      "False\n",
      "False\n",
      "False\n",
      "False\n",
      "False\n",
      "False\n",
      "False\n",
      "False\n",
      "False\n",
      "False\n",
      "False\n",
      "False\n",
      "False\n",
      "False\n",
      "aaccorsi@ucdavis.edu belongs to Alice Accorsi\n",
      "jawdat@ucdavis.edu belongs to Jawdat Al-Bassam\n",
      "jgalbeck@ucdavis.edu belongs to Alice Accorsi\n",
      "jarsuaga@ucdavis.edu belongs to Alice Accorsi\n",
      "epbaldwin@ucdavis.edu belongs to Alice Accorsi\n",
      "smburgess@ucdavis.edu belongs to Alice Accorsi\n"
     ]
    }
   ],
   "source": [
    "import spacy\n",
    "\n",
    "# Load English tokenizer, tagger, parser, NER, and word vectors\n",
    "nlp = spacy.load(\"en_core_web_sm\")\n",
    "\n",
    "# Lists of emails and corresponding names\n",
    "emails = ['aaccorsi@ucdavis.edu', 'aaccorsi@ucdavis.edu', 'jawdat@ucdavis.edu', 'jawdat@ucdavis.edu', 'jgalbeck@ucdavis.edu', 'jgalbeck@ucdavis.edu', 'jarsuaga@ucdavis.edu', 'jarsuaga@ucdavis.edu', 'epbaldwin@ucdavis.edu', 'epbaldwin@ucdavis.edu', 'smburgess@ucdavis.edu']\n",
    "names = ['Alice Accorsi', 'Jawdat Al-Bassam', 'John Albeck', 'Enoch P. Baldwin', 'Sean M. Burgess Professor Molecular']\n",
    "\n",
    "# Create a dictionary to store the mapping between emails and names\n",
    "email_to_name = {}\n",
    "\n",
    "# Iterate over each email\n",
    "for email in emails:\n",
    "    # Extract the prefix of the email\n",
    "    email_prefix = email.split('@')[0]\n",
    "    \n",
    "    # Initialize variables to store the most similar name and its similarity score\n",
    "    max_similarity = -1\n",
    "    matched_name = None\n",
    "    \n",
    "    # Iterate over each name\n",
    "    for name in names:\n",
    "        # Extract the first name from the name\n",
    "        name_first = name.split()[0]\n",
    "        \n",
    "        # Apply dependency parsing to get the root of the first name\n",
    "        name_doc = nlp(name_first)\n",
    "        name_root = None\n",
    "        for token in name_doc:\n",
    "            if token.dep_ == 'ROOT':\n",
    "                name_root = token.text.lower()\n",
    "                break\n",
    "        \n",
    "        # Apply dependency parsing to get the root of the email prefix\n",
    "        email_doc = nlp(email_prefix)\n",
    "        email_root = None\n",
    "        for token in email_doc:\n",
    "            if token.dep_ == 'ROOT':\n",
    "                email_root = token.text.lower()\n",
    "                break\n",
    "        \n",
    "        # Calculate similarity between roots of email prefix and first name\n",
    "        if email_root and name_root:\n",
    "            similarity = email_root == name_root\n",
    "        else:\n",
    "            similarity = 0\n",
    "        \n",
    "        # Update the most similar name if the similarity is higher\n",
    "        print(similarity)\n",
    "        if similarity > max_similarity:\n",
    "            max_similarity = similarity\n",
    "            matched_name = name\n",
    "            # Assign the email to the most similar name\n",
    "            email_to_name[email] = matched_name\n",
    "\n",
    "# Print the mapping\n",
    "for email, name in email_to_name.items():\n",
    "    print(f\"{email} belongs to {name}\")\n"
   ]
  },
  {
   "cell_type": "code",
   "execution_count": null,
   "metadata": {},
   "outputs": [],
   "source": []
  }
 ],
 "metadata": {
  "kernelspec": {
   "display_name": "llm-env",
   "language": "python",
   "name": "python3"
  },
  "language_info": {
   "codemirror_mode": {
    "name": "ipython",
    "version": 3
   },
   "file_extension": ".py",
   "mimetype": "text/x-python",
   "name": "python",
   "nbconvert_exporter": "python",
   "pygments_lexer": "ipython3",
   "version": "3.11.7"
  }
 },
 "nbformat": 4,
 "nbformat_minor": 2
}
