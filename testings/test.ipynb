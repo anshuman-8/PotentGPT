{
 "cells": [
  {
   "cell_type": "code",
   "execution_count": null,
   "metadata": {},
   "outputs": [],
   "source": [
    "import os\n",
    "import re\n",
    "import time\n",
    "import json\n",
    "import requests\n",
    "import logging as log\n",
    "from dotenv import load_dotenv\n",
    "\n",
    "load_dotenv()\n"
   ]
  },
  {
   "cell_type": "code",
   "execution_count": null,
   "metadata": {},
   "outputs": [],
   "source": [
    "goal = \"I need few developers for my new startup, I am looking for people with 2 years of experience in python and react.\"\n",
    "location = \"Bengaluru, Karnataka, India\""
   ]
  },
  {
   "cell_type": "code",
   "execution_count": null,
   "metadata": {},
   "outputs": [],
   "source": [
    "urls = [\n",
    "    \"https://keralatourbus.com/\",\n",
    "    \"https://www.justdial.com/Thrissur/Bus-On-Rent-For-Wedding-in-Kerala/nct-11275471\",\n",
    "    \"https://www.sulekha.com/bus-rentals/trivandrum\",\n",
    "    \"https://www.shaadibaraati.com/wedding-transportation/kerala/oneness-travels/MGyvjmIxtV\",\n",
    "    \"https://devannmpd.wixsite.com/taxicarkerala/tourist-buses-in-cochin\",\n",
    "    \"https://www.asparkholidays.com/cochin/luxury-bus-hire\",\n",
    "    \"https://www.redbus.in/bus-hire/wedding\",\n",
    "    \"https://www.asparkholidays.com/thiruvananthapuram/book-volvo-bus\",\n",
    "    \"https://www.justdial.com/Ernakulam/Bus-On-Rent-For-Wedding/nct-11275471\",\n",
    "]"
   ]
  },
  {
   "cell_type": "code",
   "execution_count": null,
   "metadata": {},
   "outputs": [],
   "source": [
    "def remove_html_junk(data):\n",
    "    # remove all class names\n",
    "    data = re.sub(r'(?is)class=\"[^\"]*\"', '', data)\n",
    "    data = re.sub(r'(?is)className=\"[^\"]*\"', '', data)\n",
    "\n",
    "    # remove all inline styles\n",
    "    data = re.sub(r'(?is)style=\"[^\"]*\"', '', data)\n",
    "\n",
    "    # remove all aria-label\n",
    "    data = re.sub(r'(?is)aria-label=\"[^\"]*\"', '', data)\n",
    "\n",
    "    # remove all comments\n",
    "    data = re.sub(r'(?s)<!--(.*?)-->[\\n]?', '', data)\n",
    "\n",
    "    # remove all ids\n",
    "    data = re.sub(r'(?is)id=\"[^\"]*\"', '', data)\n",
    "\n",
    "    # remove all newlines, long space and tabs\n",
    "    data = re.sub(r'[\\n\\t]', ' ', data)\n",
    "    data = re.sub(r' +', ' ', data)\n",
    "\n",
    "    # remove all non-imp tags both open and close\n",
    "    remove_tags = [\"span\", \"div\", \"strong\", \"h1\", \"h2\", \"h3\", \"h4\", \"h5\", \"h6\", \"b\", \"li\", \"p\", \"ui\", \"section\"]   \n",
    "    for tag in remove_tags:\n",
    "        data = re.sub(r'(?is)<{}[^>]*>'.format(tag), '', data)\n",
    "        data = re.sub(r'(?is)</{}[^>]*>'.format(tag), '', data) \n",
    "\n",
    "    return data\n",
    "\n",
    "import requests\n",
    "from bs4 import BeautifulSoup\n",
    "import html2text\n",
    "\n",
    "h = html2text.HTML2Text()\n",
    "\n",
    "def scrape_data(url):\n",
    "    log.info(f\"\\nScraping data from {url}\")\n",
    "    response = requests.get(url)\n",
    "\n",
    "    if response.status_code == 200:\n",
    "        soup = BeautifulSoup(response.text, \"html.parser\")\n",
    "        \n",
    "        unwanted_tags = [\n",
    "            \"pre\",\n",
    "            \"code\",\n",
    "            \"blockquote\",\n",
    "            \"em\",\n",
    "            \"br\",\n",
    "            \"source\",\n",
    "            \"circle\",\n",
    "            \"svg\",\n",
    "            \"img\",\n",
    "            \"button\",\n",
    "            \"input\",\n",
    "            \"form\",\n",
    "            \"footer\",\n",
    "            \"header\",\n",
    "            \"aside\",\n",
    "            \"nav\",\n",
    "            \"script\",\n",
    "            \"style\",\n",
    "            \"noscript\",\n",
    "            \"iframe\",\n",
    "            \"meta\",\n",
    "            \"head\",\n",
    "            \n",
    "        ]\n",
    "        for tag in unwanted_tags:\n",
    "            for match in soup.find_all(tag):\n",
    "                match.decompose()\n",
    "        if soup.body is None:\n",
    "            log.warning(f\"Error: Unable to fetch data from {url}\")\n",
    "            return \"\"\n",
    "        try:\n",
    "            # data = soup.body.prettify()\n",
    "            data = soup.main.prettify()\n",
    "        except:\n",
    "            data = soup.body.prettify()\n",
    "\n",
    "        data = remove_html_junk(data)\n",
    "\n",
    "    \n",
    "        log.info(f\"Successfully scraped data from {url}\")   \n",
    "        return data\n",
    "\n",
    "    else:\n",
    "        log.warning(\n",
    "            f\"Error: Unable to fetch data from {url}. Status code: {response.status_code}\"\n",
    "        )\n",
    "        return \"\"\n"
   ]
  },
  {
   "cell_type": "code",
   "execution_count": 6,
   "metadata": {},
   "outputs": [
    {
     "data": {
      "text/plain": [
       "['ansuhman@mu.com', 'sdf09usdf@mail.co']"
      ]
     },
     "execution_count": 6,
     "metadata": {},
     "output_type": "execute_result"
    }
   ],
   "source": [
    "import re\n",
    "email_list = [\"ansuhman@mu.com\", \"kahara\", \"somethis sdf09usdf@mail.co\"]\n",
    "email_list2 = [\"ansuhman@mu.com kahara somethis sdf09usdf@mail.co\"]\n",
    "\n",
    "# if isinstance(email_list2, list):\n",
    "emails = re.findall(\n",
    "    r\"\\b[A-Za-z0-9._%+-]+@[A-Za-z0-9.-]+\\.[A-Z|a-z]{2,}\\b\",\n",
    "    \", \".join(email_list2), \n",
    ")\n",
    "\n",
    "emails"
   ]
  },
  {
   "cell_type": "code",
   "execution_count": null,
   "metadata": {},
   "outputs": [],
   "source": [
    "for results, source in zip([google_search, bing_search], [\"Google\", \"Bing\"]):\n",
    "            for result in results:\n",
    "                search_link = result[\"link\"]\n",
    "\n",
    "                if search_link in search_index:\n",
    "                    if source not in search_index[search_link][\"source\"]:\n",
    "                        search_index[search_link][\"source\"].append(source)\n",
    "                else:\n",
    "                    search_index[search_link] = {\n",
    "                        \"title\": result[\"title\"],\n",
    "                        \"link\": result[\"link\"],\n",
    "                        \"query\": result[\"query\"],\n",
    "                        \"source\": [source],\n",
    "                    }\n",
    "\n",
    "        final_result = list(search_index.values())"
   ]
  },
  {
   "cell_type": "code",
   "execution_count": 1,
   "metadata": {},
   "outputs": [
    {
     "name": "stdout",
     "output_type": "stream",
     "text": [
      "A D\n",
      "B E\n",
      "C F\n",
      "None G\n",
      "None H\n"
     ]
    }
   ],
   "source": [
    "from itertools import zip_longest\n",
    "# dummy data\n",
    "google_search = [\n",
    "    \"A\", \"B\", \"C\"\n",
    "]\n",
    "\n",
    "bing_search = [\n",
    "\"D\", \"E\", \"F\", \"G\",  \"H\"\n",
    "]\n",
    "\n",
    "for a,b in zip_longest(google_search, bing_search):\n",
    "    # print(results[0], results[1])\n",
    "    print(a, b)"
   ]
  },
  {
   "cell_type": "code",
   "execution_count": 9,
   "metadata": {},
   "outputs": [
    {
     "data": {
      "text/plain": [
       "[{'title': 'A',\n",
       "  'link': 'https://www.google.com',\n",
       "  'query': 'python',\n",
       "  'source': ['Google']},\n",
       " {'title': 'D',\n",
       "  'link': 'https://www.bing.com',\n",
       "  'query': 'python',\n",
       "  'source': ['Bing']}]"
      ]
     },
     "execution_count": 9,
     "metadata": {},
     "output_type": "execute_result"
    }
   ],
   "source": [
    "\n",
    "# dummy data\n",
    "google_search = [\n",
    "    {\n",
    "        \"title\": \"A\",\n",
    "        \"link\": \"https://www.google.com\",\n",
    "        \"query\": \"python\"\n",
    "    },\n",
    "    {\n",
    "        \"title\": \"B\",\n",
    "        \"link\": \"https://www.google.com\",\n",
    "        \"query\": \"python\"\n",
    "    },\n",
    "    {\n",
    "        \"title\": \"C\",\n",
    "        \"link\": \"https://www.google.com\",\n",
    "        \"query\": \"python\"\n",
    "    }\n",
    "]\n",
    "\n",
    "bing_search = [\n",
    "    {\n",
    "        \"title\": \"D\",\n",
    "        \"link\": \"https://www.bing.com\",\n",
    "        \"query\": \"python\"\n",
    "    },\n",
    "    {\n",
    "        \"title\": \"E\",\n",
    "        \"link\": \"https://www.bing.com\",\n",
    "        \"query\": \"python\"\n",
    "    },\n",
    "    {\n",
    "        \"title\": \"F\",\n",
    "        \"link\": \"https://www.bing.com\",\n",
    "        \"query\": \"python\"\n",
    "    }\n",
    "]\n",
    "\n",
    "\n",
    "search_index = {}\n",
    "\n",
    "for results in zip(google_search, bing_search):\n",
    "            for i in range(2):\n",
    "                source = \"Google\" if i == 0 else \"Bing\"\n",
    "                search_link = results[i][\"link\"]\n",
    "\n",
    "                if search_link in search_index:\n",
    "                    if source not in search_index[search_link][\"source\"]:\n",
    "                        search_index[search_link][\"source\"].append(source)\n",
    "                else:\n",
    "                    search_index[search_link] = {\n",
    "                        \"title\": results[i][\"title\"],\n",
    "                        \"link\": results[i][\"link\"],\n",
    "                        \"query\": results[i][\"query\"],\n",
    "                        \"source\": [source],\n",
    "                    }\n",
    "\n",
    "final_result = list(search_index.values())\n",
    "final_result"
   ]
  },
  {
   "cell_type": "code",
   "execution_count": 2,
   "metadata": {},
   "outputs": [],
   "source": [
    "results = [{'results': [{'contacts': {'email': 'yshhan@ucdavis.edu', 'phone': '', 'address': ''}, 'id': 1, 'name': 'Yushan Han', 'info': 'Yushan Han is a PhD student at UC Davis, researching climate modeling and extreme weather. Contact for research opportunities in machine learning.'}, {'contacts': {'email': 'nwdaer@ucdavis.edu', 'phone': '', 'address': ''}, 'id': 1, 'name': 'Nick Daer', 'info': ''}, {'contacts': {'email': 'dfalcone@ucdavis.edu', 'phone': '', 'address': ''}, 'id': 1, 'name': 'Dario Falcone', 'info': ''}, {'contacts': {'email': 'hxliu@ucdavis.edu', 'phone': '', 'address': ''}, 'id': 1, 'name': 'Hao Liu', 'info': ''}, {'contacts': {'email': 'yanlu@ucdavis.edu', 'phone': '', 'address': ''}, 'id': 1, 'name': 'Yanyan Lu', 'info': 'Yanyan Lu, a PhD student at UC Davis, is focused on climate change and terrestrial ecosystem modeling, making her a potential contact for machine learning research opportunities.'}, {'contacts': {'email': 'cfrandall@ucdavis.edu', 'phone': '', 'address': ''}, 'id': 1, 'name': 'Calen Randall', 'info': 'Calen Randall, a PhD student at UC Davis, is researching heat waves and machine learning, potentially offering opportunities for collaborative research.'}, {'contacts': {'email': 'srauschenbach@ucdavis.edu', 'phone': '', 'address': ''}, 'id': 1, 'name': 'Sonya Rauschenbach', 'info': 'Sonya Rauschenbach, a PhD student at UC Davis, specializes in terrestrial water, carbon and nutrient cycle modeling, presenting a potential avenue for machine learning research.'}, {'contacts': {'email': 'shqwu@ucdavis.edu', 'phone': '', 'address': ''}, 'id': 1, 'name': 'Shuaiqi Wu', 'info': 'Shuaiqi Wu, a PhD student at UC Davis, is focusing on climate change, crop modeling, and machine learning, potentially providing opportunities for joint research.'}, {'contacts': {'email': 'zeshi@ucdavis.edu', 'phone': '', 'address': ''}, 'id': 1, 'name': 'Zhan Shi', 'info': ''}, {'contacts': {'email': 'rsukhdeo@ucdavis.edu', 'phone': '', 'address': ''}, 'id': 1, 'name': 'Raymond Sukhdeo', 'info': \"Raymond Sukhdeo, a PhD student at UC Davis, is involved in research on atmospheric science; it's worth exploring whether he has insights into machine learning research opportunities.\"}, {'contacts': {'email': 'jftrousdell@ucdavis.edu', 'phone': '', 'address': ''}, 'id': 1, 'name': 'Justin Trousdell', 'info': 'Justin Trousdell, a PhD student at UC Davis, is specializing in atmospheric chemistry and particulate matter, which may align with machine learning research interests.'}]}, {'results': [{'contacts': {'email': 'hrashidi@ucdavis.edu', 'phone': '', 'address': ''}, 'id': 5, 'name': 'Hooman Rashidi, M.D.', 'info': 'Contact Hooman Rashidi, M.D. for research opportunities in machine learning at UC Davis.'}, {'contacts': {'email': 'jpgraff@ucdavis.edu', 'phone': '', 'address': ''}, 'id': 5, 'name': 'John Paul Graff D.O.', 'info': 'Connect with John Paul Graff D.O. for potential collaborations and partnerships in machine learning projects at UC Davis.'}]}, {'results': [{'contacts': {'email': 'nktran@ucdavis.edu', 'phone': '', 'address': ''}, 'id': 5, 'name': 'Nam Tran, Ph.D.', 'info': 'Professor and Senior Director of Clinical Pathology Co-Director, CDxI Director, Pathology Biorepository'}, {'contacts': {'email': 'eamorris@ucdavis.edu', 'phone': '', 'address': ''}, 'id': 5, 'name': 'Elizabeth Morris, M.D.', 'info': 'Professor and Chair Radiology Co-Director, CDxI'}, {'contacts': {'email': 'lmarcu@ucdavis.edu', 'phone': '', 'address': ''}, 'id': 6, 'name': 'Laura Marcu', 'info': 'Faculty Member in Department of Biomedical Engineering, Looking for highly motivated graduate students for research in machine vision'}, {'contacts': {'email': 'mpneff@ucdavis.edu', 'phone': '', 'address': ''}, 'id': 6, 'name': 'Michael Neff', 'info': 'Faculty Member in Computer Science, Researching generalized model of skeleton structure of bird wings'}]}, {'results': [{'contacts': {'email': 'ploupos@ucdavis.edu', 'phone': '', 'address': ''}, 'id': 6, 'name': 'Pantelis Loupos', 'info': 'Graph Neural Network Modeling of Fintech Networks'}, {'contacts': {'email': 'paullrich@ucdavis.edu', 'phone': '', 'address': ''}, 'id': 6, 'name': 'Paul Ullrich', 'info': 'Analysis and Visualization of Unstructured Climate Data'}, {'contacts': {'email': 'matloff@cs.ucdavis.edu', 'phone': '', 'address': ''}, 'id': 6, 'name': 'Norm Matloff', 'info': 'Fairness in Machine Learning'}, {'contacts': {'email': 'srafatirad@ucdavis.edu', 'phone': '', 'address': ''}, 'id': 6, 'name': 'Setareh Rafatirad', 'info': 'Machine Learning Assisted Gamification for Education'}, {'contacts': {'email': 'eroncali@ucdavis.edu', 'phone': '', 'address': ''}, 'id': 6, 'name': 'Emilie Roncali', 'info': 'Python programming for physics modeling'}, {'contacts': {'email': 'rbenshalom@ucdavis.edu', 'phone': '', 'address': ''}, 'id': 6, 'name': 'Roy Ben-Shalom', 'info': 'Using Deep Neural Networks to develop in silico neuronal models'}, {'contacts': {'email': 'wmjoiner@ucdavis.edu', 'phone': '', 'address': ''}, 'id': 6, 'name': 'Wilsaan Joiner and Karen Moxon', 'info': 'Video-based quantification of dexterous finger movement kinematics using computer vision and deep learning techniques'}, {'contacts': {'email': 'biomems.ucdavis@gmail.com', 'phone': '', 'address': ''}, 'id': 6, 'name': 'Cristina Davis', 'info': 'Portable Sensor System to Assess the Health Conditions of Individuals working Under Harsh Environments'}, {'contacts': {'email': 'msadoghi@ucdavis.edu', 'phone': '', 'address': ''}, 'id': 6, 'name': 'Mohammad Sadoghi', 'info': 'ResilientDB: Global Scale Resilient Blockchain Fabric'}, {'contacts': {'email': 'chuah@ucdavis.edu', 'phone': '', 'address': ''}, 'id': 6, 'name': 'Chen-Nee Chuah', 'info': \"SSL-Pathology: Semi-supervised Learning in Pathology Detection of Alzheimer's Disease, CeDP: Computational Efficiency of Deep Learning in Digital Pathology\"}]}, {'results': [{'contacts': {'email': 'aiml@ucdavis.edu', 'phone': '', 'address': ''}, 'id': 10, 'name': 'UC Davis Machine Learning Group', 'info': 'The UC Davis Machine Learning Group has various research openings for undergraduate and graduate students. Prospective students are encouraged to contact aiml@ucdavis.edu for more information.'}, {'contacts': {'email': 'accameron@ucdavis.edu', 'phone': '', 'address': ''}, 'id': 11, 'name': 'Colin Cameron, Economics, U.C. Davis Personal Home Page', 'info': 'A. Colin Cameron, a Distinguished Professor of Economics at UC Davis, specializes in econometric theory for cross-section data, making him a potential research collaborator for machine learning projects.'}, {'contacts': {'email': 'mgoetze@ucdavis.edu', 'phone': '', 'address': ''}, 'id': 16, 'name': 'Postdoc - UC Davis Recruit', 'info': 'UC Davis is actively recruiting for a Postdoc position with expertise in language models and economics, providing an opportunity for research collaboration in the machine learning field.'}]}, {'results': [{'contacts': {'email': 'muhchen@ucdavis.edu', 'phone': '', 'address': '3013 Kemper Hall'}, 'id': 17, 'name': 'Muhao Chen', 'info': 'Assistant Professor in Computer Science focusing on Machine Learning.'}, {'contacts': {'email': 'rhch@ucdavis.edu', 'phone': '+15309888659', 'address': 'Briggs Hall 007'}, 'id': 17, 'name': 'R. Holland Cheng', 'info': 'Professor in Molecular and Cellular Biology, with focus on Machine Learning and AI.'}, {'contacts': {'email': 'chuah@ucdavis.edu', 'phone': '+15307525825', 'address': 'Kemper 3125'}, 'id': 17, 'name': 'Chen-Nee Chuah', 'info': 'Professor in Electrical and Computer Engineering and Computer Science with expertise in Machine Learning.'}]}, {'results': [{'contacts': {'email': 'tagkopou@cs.ucdavis.edu', 'phone': '+15307524821', 'address': ''}, 'id': 21, 'name': 'Ilias Tagkopoulos', 'info': 'Ilias Tagkopoulos is a Computer Science professor at UC Davis with research interests in evolutionary, synthetic, and systems biology, employing machine learning, graph theory, and mathematical optimization.'}, {'contacts': {'email': 'engugrad@ucdavis.edu', 'phone': '+15307521979', 'address': 'Kemper Hall, UC Davis, One Shields Avenue, Davis, CA 95616'}, 'id': 22, 'name': 'Intelligent Systems and Automation | College of Engineering', 'info': 'The College of Engineering at UC Davis offers research opportunities in intelligent systems and automation, focusing on revolutionizing energy systems, strengthening climate resilience, transforming mobility, and advancing human health.'}]}, {'results': [{'contacts': {'email': 'yiyang@ucdavis.edu', 'phone': '+15307545967', 'address': '540 Alumni Lane 3418 Gallagher Hall Davis, CA'}, 'id': 26, 'name': 'Catherine Yang | UC Davis Graduate School of Management', 'info': 'Catherine Yang is a professor focusing on business analytics, big data analytics, and machine learning. She can be contacted for research opportunities in machine learning.'}, {'contacts': {'email': 'kkeyang@ucdavis.edu', 'phone': '+15307527658', 'address': 'One Shields Avenue Davis, CA 95616'}, 'id': 29, 'name': 'Keer Yang | UC Davis Graduate School of Management', 'info': 'Keer Yang is involved in machine learning research. He is a suitable option for exploring research opportunities in machine learning at UC Davis.'}]}, {'results': [{'contacts': {'email': 'zding@ucdavis.edu', 'phone': '+15307524625', 'address': ''}, 'id': 32, 'name': 'Zhi Ding - UC Davis', 'info': 'Distinguished Professor, BRATLab focusing on wireless networking, signal and data processing, statistical signal analysis, and communications.'}, {'contacts': {'email': 'muhchen@ucdavis.edu', 'phone': '', 'address': ''}, 'id': 38, 'name': 'Muhao Chen', 'info': 'Assistant Professor specializing in machine learning.'}, {'contacts': {'email': 'davidson@cs.ucdavis.edu', 'phone': '+15307528393', 'address': 'Academic Surge 2083, UC Davis'}, 'id': 38, 'name': 'Ian Davidson', 'info': 'Professor in Computer Science specializing in machine learning.'}, {'contacts': {'email': 'filkov@cs.ucdavis.edu', 'phone': '+15307528393', 'address': 'Academic Surge 2077, UC Davis'}, 'id': 38, 'name': 'Vladimir Filkov', 'info': 'Professor focusing on computer science and machine learning.'}, {'contacts': {'email': 'regoldman@ucdavis.edu', 'phone': '', 'address': ''}, 'id': 38, 'name': 'Roger Goldman', 'info': 'Assistant Professor specializing in machine learning under the field of Radiology at UC Davis.'}]}, {'results': [{'contacts': {'email': 'regoldman@ucdavis.edu', 'phone': '', 'address': ''}, 'id': 38, 'name': 'Roger Eric Goldman, M.D., Ph.D.', 'info': 'Assistant Professor Radiology, UC Davis Health'}, {'contacts': {'email': 'dyuliu@ucdavis.edu', 'phone': '+15307545377', 'address': ''}, 'id': 38, 'name': 'Dongyu Liu', 'info': 'Assistant Professor Computer Science, UC Davis'}, {'contacts': {'email': '', 'phone': '+15307546907', 'address': ''}, 'id': 38, 'name': 'Xin Liu', 'info': 'Professor Computer Science, UC Davis'}, {'contacts': {'email': 'ma@cs.ucdavis.edu', 'phone': '+14153072425', 'address': ''}, 'id': 38, 'name': 'Kwan-Liu Ma', 'info': 'Distinguished Professor Computer Science, UC Davis'}, {'contacts': {'email': 'matloff@cs.ucdavis.edu', 'phone': '+15307521953', 'address': ''}, 'id': 38, 'name': 'Norman Matloff', 'info': 'Professor Emeritus Computer Science, UC Davis'}, {'contacts': {'email': 'jamccoy@ucdavis.edu', 'phone': '+15307540776', 'address': ''}, 'id': 38, 'name': 'Joshua McCoy', 'info': 'Assistant Professor Computer Science, UC Davis'}]}]\n",
    "\n"
   ]
  },
  {
   "cell_type": "code",
   "execution_count": 3,
   "metadata": {},
   "outputs": [
    {
     "data": {
      "text/plain": [
       "10"
      ]
     },
     "execution_count": 3,
     "metadata": {},
     "output_type": "execute_result"
    }
   ],
   "source": [
    "len(results)"
   ]
  },
  {
   "cell_type": "code",
   "execution_count": null,
   "metadata": {},
   "outputs": [],
   "source": []
  }
 ],
 "metadata": {
  "kernelspec": {
   "display_name": "llm-env",
   "language": "python",
   "name": "python3"
  },
  "language_info": {
   "codemirror_mode": {
    "name": "ipython",
    "version": 3
   },
   "file_extension": ".py",
   "mimetype": "text/x-python",
   "name": "python",
   "nbconvert_exporter": "python",
   "pygments_lexer": "ipython3",
   "version": "3.12.2"
  }
 },
 "nbformat": 4,
 "nbformat_minor": 2
}
